{
 "cells": [
  {
   "cell_type": "markdown",
   "metadata": {},
   "source": [
    "### Import Libraries "
   ]
  },
  {
   "cell_type": "code",
   "execution_count": 1,
   "metadata": {},
   "outputs": [],
   "source": [
    "import requests \n",
    "import pandas as pd\n",
    "import time\n",
    "import random\n",
    "from bs4 import BeautifulSoup #### BeautifulSoup is the main Library which will help us get the data from MagicBricks"
   ]
  },
  {
   "cell_type": "code",
   "execution_count": 2,
   "metadata": {},
   "outputs": [],
   "source": [
    "Output = pd.DataFrame() ### to store the features in a data frame"
   ]
  },
  {
   "cell_type": "code",
   "execution_count": 3,
   "metadata": {},
   "outputs": [],
   "source": [
    "\n",
    "Localities = ['Rohini','Lajpat-Nagar','Dwarka','Lajpat-Nagar-3','Lajpat-Nagar-2','Budh-Vihar','Shahbad-Dairy','Begham-Vihar','New-Friends-Colony','Kailash-Colony','Shahdara','Yamuna-Vihar','Laxmi-Nagar','Uttam-Nagar','Patel-Nagar','Vasant-Kunj','Govind-Puri','Gandhi-Nagar','Saket','Safdarjung-Enclave','Paschim-Vihar','Aashirwaad-Chowk','Akshardham-Temple','Alaknanda','Ali Vihar','Sultanpur','Chattarpur','Mehrauli','Mahavir-Enclave','Narela','Malviya-Nagar','Dilshad-Garden','Vasundhara-Enclave','Okhla','Karol-Bagh','New-Moti-Nagar','Sheikh-Sarai','Punjabi-Bagh','Alaknanda','Kalkaji','Hauz-Khas','Chittaranjan-Park']\n",
    "for loc in Localities:\n",
    "    Data = {}\n",
    "    s = random.randrange(2,10)\n",
    "    time.sleep(s)\n",
    "    URL = 'https://www.magicbricks.com/property-for-sale/residential-real-estate?proptype=Multistorey-Apartment,Builder-Floor-Apartment,Penthouse,Studio-Apartment&Locality='+loc+'&cityName=New-Delhi'\n",
    "    r = requests.get(URL)\n",
    "    soup = BeautifulSoup(r.content, 'html.parser') \n",
    "    small = soup.findAll(class_='flex relative clearfix m-srp-card__container')\n",
    "    for part in small:\n",
    "        got = part.get_text().split()\n",
    "        #print(got)\n",
    "        for i in range(len(got)):\n",
    "            ############# Price ###########\n",
    "            if got[i]=='Cr':\n",
    "                Data['Price']=float(got[i-1])*10000000\n",
    "            elif got[i]=='Lac':\n",
    "                Data['Price']=float(got[i-1])*100000\n",
    "        ############ Area per Sqft/yard ############\n",
    "            if got[i]=='per':\n",
    "                if got[i+1]=='sqft':\n",
    "                    Data['Per_Sqft']=float(got[i-1])\n",
    "                elif got[i+1]=='sqyrd':\n",
    "                    Data['Per_Sqft']=float(got[i-1])*9\n",
    "                elif got[i+1]=='sqm':\n",
    "                    Data['Per_Sqft']=float(got[i-1])*10.7639\n",
    "        ############ BHK apartment #####################\n",
    "            if got[i]=='BHK':\n",
    "                Data['BHK']=int(got[i-1])\n",
    "        ########### Type of House:- Builder/Apartment ####\n",
    "            if got[i]=='Apartment':\n",
    "                Data['Type']='Apartment'\n",
    "            elif got[i]=='Builder':\n",
    "                Data['Type']='Builder_Floor'\n",
    "        ############ Area ##############################\n",
    "            if got[i]=='super' or got[i]=='carpet':\n",
    "                if got[i+3]=='sqft':\n",
    "                    Data['Area']=int(got[i+2])\n",
    "                elif got[i+3]=='sqyrd':\n",
    "                    Data['Area']=int(got[i+2])*9\n",
    "                elif got[i+3]=='sqm':\n",
    "                    Data['Area']=int(got[i+2])*10.7639\n",
    "    ############# Status #########################\n",
    "            if got[i]=='status':\n",
    "                if got[i+1]=='Ready':\n",
    "                    Data['Status']='Ready_to_move'\n",
    "                elif got[i+1]=='Possession':\n",
    "                    Data['Status']='Almost_ready'\n",
    "    ############# Transaction #########################\n",
    "            if got[i]=='transaction':\n",
    "                if got[i+1]=='New':\n",
    "                    Data['Transaction']='New_Property'\n",
    "                elif got[i+1]=='Resale':\n",
    "                    Data['Transaction']='Resale'\n",
    "    ############# Furnishing #########################\n",
    "            if got[i]=='furnishing':\n",
    "                if got[i+1]=='Unfurnished':\n",
    "                    Data['Furnishing']='Unfurnished'\n",
    "                elif got[i+1]=='Furnished':\n",
    "                    Data['Furnishing']='Furnished' \n",
    "                elif got[i+1]=='Semi-Furnished':\n",
    "                    Data['Furnishing']='Semi-Furnished' \n",
    "    ############# Parking #########################\n",
    "            if got[i]=='parking':\n",
    "                Data['Parking']=int(got[i+1])\n",
    "    ############# Locality #########################\n",
    "            if got[i]=='in':\n",
    "                j=i+1\n",
    "                string =got[j]\n",
    "                j+=1\n",
    "                while(j<len(got)):\n",
    "                    if got[j]==\"What's\":\n",
    "                        break\n",
    "                    else :\n",
    "                        string +=(' '+got[j])\n",
    "                    j+=1\n",
    "                Data['Locality']=string\n",
    "        \n",
    "        \n",
    "    ############# Bathroom #########################\n",
    "            if got[i]=='bathroom':\n",
    "                Data['Bathroom']=int(got[i+1])\n",
    "                break\n",
    "        \n",
    "        Output = Output.append(Data,ignore_index=True)"
   ]
  },
  {
   "cell_type": "code",
   "execution_count": 4,
   "metadata": {
    "scrolled": true
   },
   "outputs": [
    {
     "data": {
      "text/html": [
       "<div>\n",
       "<style scoped>\n",
       "    .dataframe tbody tr th:only-of-type {\n",
       "        vertical-align: middle;\n",
       "    }\n",
       "\n",
       "    .dataframe tbody tr th {\n",
       "        vertical-align: top;\n",
       "    }\n",
       "\n",
       "    .dataframe thead th {\n",
       "        text-align: right;\n",
       "    }\n",
       "</style>\n",
       "<table border=\"1\" class=\"dataframe\">\n",
       "  <thead>\n",
       "    <tr style=\"text-align: right;\">\n",
       "      <th></th>\n",
       "    </tr>\n",
       "  </thead>\n",
       "  <tbody>\n",
       "  </tbody>\n",
       "</table>\n",
       "</div>"
      ],
      "text/plain": [
       "Empty DataFrame\n",
       "Columns: []\n",
       "Index: []"
      ]
     },
     "execution_count": 4,
     "metadata": {},
     "output_type": "execute_result"
    }
   ],
   "source": [
    "Output"
   ]
  },
  {
   "cell_type": "code",
   "execution_count": 5,
   "metadata": {},
   "outputs": [],
   "source": [
    "Output.to_csv('MagicBricks.csv')"
   ]
  },
  {
   "cell_type": "code",
   "execution_count": null,
   "metadata": {},
   "outputs": [],
   "source": []
  }
 ],
 "metadata": {
  "kernelspec": {
   "display_name": "Python 3 (ipykernel)",
   "language": "python",
   "name": "python3"
  },
  "language_info": {
   "codemirror_mode": {
    "name": "ipython",
    "version": 3
   },
   "file_extension": ".py",
   "mimetype": "text/x-python",
   "name": "python",
   "nbconvert_exporter": "python",
   "pygments_lexer": "ipython3",
   "version": "3.9.7"
  }
 },
 "nbformat": 4,
 "nbformat_minor": 2
}
