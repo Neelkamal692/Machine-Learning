{
 "cells": [
  {
   "cell_type": "markdown",
   "id": "195de124",
   "metadata": {
    "_cell_guid": "b1076dfc-b9ad-4769-8c92-a6c4dae69d19",
    "_uuid": "8f2839f25d086af736a60e9eeb907d3b93b6e0e5",
    "execution": {
     "iopub.execute_input": "2022-11-05T08:49:57.74007Z",
     "iopub.status.busy": "2022-11-05T08:49:57.739626Z",
     "iopub.status.idle": "2022-11-05T08:49:58.680768Z",
     "shell.execute_reply": "2022-11-05T08:49:58.679617Z",
     "shell.execute_reply.started": "2022-11-05T08:49:57.739984Z"
    },
    "papermill": {
     "duration": 0.006491,
     "end_time": "2022-11-10T06:04:44.722108",
     "exception": false,
     "start_time": "2022-11-10T06:04:44.715617",
     "status": "completed"
    },
    "tags": []
   },
   "source": [
    "## This notebook is an attempt to increase the accuracy by using TF-IDF vectorization method with Random forest classifier"
   ]
  },
  {
   "cell_type": "markdown",
   "id": "e8b0277d",
   "metadata": {
    "papermill": {
     "duration": 0.005639,
     "end_time": "2022-11-10T06:04:44.733393",
     "exception": false,
     "start_time": "2022-11-10T06:04:44.727754",
     "status": "completed"
    },
    "tags": []
   },
   "source": [
    "**Checkout my [first](https://www.kaggle.com/code/neelkamal692/quora-duplicate-question-baseline) notebook to see the performance with baseline model without any preprocessing**"
   ]
  },
  {
   "cell_type": "markdown",
   "id": "f3dad96f",
   "metadata": {
    "papermill": {
     "duration": 0.005153,
     "end_time": "2022-11-10T06:04:44.744066",
     "exception": false,
     "start_time": "2022-11-10T06:04:44.738913",
     "status": "completed"
    },
    "tags": []
   },
   "source": [
    "**Here is me [second](https://www.kaggle.com/code/neelkamal692/bow-tfidf-with-preprocessing) notebook to check performance boost after little bit of preprocessing with BOW and TF-IDF.**"
   ]
  },
  {
   "cell_type": "markdown",
   "id": "09c21707",
   "metadata": {
    "papermill": {
     "duration": 0.005147,
     "end_time": "2022-11-10T06:04:44.754711",
     "exception": false,
     "start_time": "2022-11-10T06:04:44.749564",
     "status": "completed"
    },
    "tags": []
   },
   "source": [
    "# Import"
   ]
  },
  {
   "cell_type": "code",
   "execution_count": 1,
   "id": "f3096490",
   "metadata": {
    "execution": {
     "iopub.execute_input": "2022-11-10T06:04:44.767785Z",
     "iopub.status.busy": "2022-11-10T06:04:44.767134Z",
     "iopub.status.idle": "2022-11-10T06:04:46.879701Z",
     "shell.execute_reply": "2022-11-10T06:04:46.878715Z"
    },
    "papermill": {
     "duration": 2.121653,
     "end_time": "2022-11-10T06:04:46.881761",
     "exception": false,
     "start_time": "2022-11-10T06:04:44.760108",
     "status": "completed"
    },
    "tags": []
   },
   "outputs": [
    {
     "name": "stdout",
     "output_type": "stream",
     "text": [
      "/kaggle/input/quora-duplicate-unzipped-training-dataset/train.csv\n",
      "/kaggle/input/quora-question-pairs/train.csv.zip\n",
      "/kaggle/input/quora-question-pairs/sample_submission.csv.zip\n",
      "/kaggle/input/quora-question-pairs/test.csv\n",
      "/kaggle/input/quora-question-pairs/test.csv.zip\n"
     ]
    }
   ],
   "source": [
    "import numpy as np # linear algebra\n",
    "import pandas as pd # data processing, CSV file I/O (e.g. pd.read_csv)\n",
    "import matplotlib.pyplot as plt \n",
    "import seaborn as sns\n",
    "from collections import Counter\n",
    "import re\n",
    "from bs4 import BeautifulSoup\n",
    "import warnings\n",
    "from sklearn.model_selection import train_test_split\n",
    "from scipy.sparse import hstack\n",
    "from nltk.corpus import stopwords\n",
    "from sklearn.ensemble import RandomForestClassifier\n",
    "from sklearn.metrics import accuracy_score\n",
    "stop_words=set(stopwords.words('english'))\n",
    "# For example, running this (by clicking run or pressing Shift+Enter) will list all files under the input directory\n",
    "\n",
    "import os\n",
    "for dirname, _, filenames in os.walk('/kaggle/input'):\n",
    "    for filename in filenames:\n",
    "        print(os.path.join(dirname, filename))\n",
    "\n",
    "warnings.filterwarnings('ignore')"
   ]
  },
  {
   "cell_type": "markdown",
   "id": "f3f13949",
   "metadata": {
    "papermill": {
     "duration": 0.005385,
     "end_time": "2022-11-10T06:04:46.893085",
     "exception": false,
     "start_time": "2022-11-10T06:04:46.887700",
     "status": "completed"
    },
    "tags": []
   },
   "source": [
    "# Reading Data"
   ]
  },
  {
   "cell_type": "code",
   "execution_count": 2,
   "id": "f5ca952b",
   "metadata": {
    "execution": {
     "iopub.execute_input": "2022-11-10T06:04:46.906645Z",
     "iopub.status.busy": "2022-11-10T06:04:46.905953Z",
     "iopub.status.idle": "2022-11-10T06:04:48.803173Z",
     "shell.execute_reply": "2022-11-10T06:04:48.801998Z"
    },
    "papermill": {
     "duration": 1.907069,
     "end_time": "2022-11-10T06:04:48.805806",
     "exception": false,
     "start_time": "2022-11-10T06:04:46.898737",
     "status": "completed"
    },
    "tags": []
   },
   "outputs": [
    {
     "data": {
      "text/html": [
       "<div>\n",
       "<style scoped>\n",
       "    .dataframe tbody tr th:only-of-type {\n",
       "        vertical-align: middle;\n",
       "    }\n",
       "\n",
       "    .dataframe tbody tr th {\n",
       "        vertical-align: top;\n",
       "    }\n",
       "\n",
       "    .dataframe thead th {\n",
       "        text-align: right;\n",
       "    }\n",
       "</style>\n",
       "<table border=\"1\" class=\"dataframe\">\n",
       "  <thead>\n",
       "    <tr style=\"text-align: right;\">\n",
       "      <th></th>\n",
       "      <th>id</th>\n",
       "      <th>qid1</th>\n",
       "      <th>qid2</th>\n",
       "      <th>question1</th>\n",
       "      <th>question2</th>\n",
       "      <th>is_duplicate</th>\n",
       "    </tr>\n",
       "  </thead>\n",
       "  <tbody>\n",
       "    <tr>\n",
       "      <th>183797</th>\n",
       "      <td>183797</td>\n",
       "      <td>280961</td>\n",
       "      <td>65511</td>\n",
       "      <td>What are some examples of covalent and ionic b...</td>\n",
       "      <td>What are covalent and ionic bonds? What are so...</td>\n",
       "      <td>1</td>\n",
       "    </tr>\n",
       "    <tr>\n",
       "      <th>981</th>\n",
       "      <td>981</td>\n",
       "      <td>1957</td>\n",
       "      <td>1958</td>\n",
       "      <td>Why is 'fahrenheit 451'  perceived as dystopia?</td>\n",
       "      <td>Fahrenheit 451 (1953 book): What is Guy Montag...</td>\n",
       "      <td>0</td>\n",
       "    </tr>\n",
       "    <tr>\n",
       "      <th>12173</th>\n",
       "      <td>12173</td>\n",
       "      <td>23471</td>\n",
       "      <td>23472</td>\n",
       "      <td>How do I make money during medical school?</td>\n",
       "      <td>How can I, a third year medical student, make ...</td>\n",
       "      <td>0</td>\n",
       "    </tr>\n",
       "    <tr>\n",
       "      <th>225543</th>\n",
       "      <td>225543</td>\n",
       "      <td>153756</td>\n",
       "      <td>35944</td>\n",
       "      <td>What hotel in Jabalpur would be safe for unmar...</td>\n",
       "      <td>What hotel in Jaipur would be safe for unmarri...</td>\n",
       "      <td>0</td>\n",
       "    </tr>\n",
       "    <tr>\n",
       "      <th>1227</th>\n",
       "      <td>1227</td>\n",
       "      <td>2446</td>\n",
       "      <td>2447</td>\n",
       "      <td>Why do Trump supporters believe that Donald Tr...</td>\n",
       "      <td>Why don't I know any supporters of Donald Trump?</td>\n",
       "      <td>0</td>\n",
       "    </tr>\n",
       "    <tr>\n",
       "      <th>246951</th>\n",
       "      <td>246951</td>\n",
       "      <td>360096</td>\n",
       "      <td>360097</td>\n",
       "      <td>What is the densest substance?</td>\n",
       "      <td>Which is the densest substance in the universe.?</td>\n",
       "      <td>1</td>\n",
       "    </tr>\n",
       "    <tr>\n",
       "      <th>84172</th>\n",
       "      <td>84172</td>\n",
       "      <td>142338</td>\n",
       "      <td>142339</td>\n",
       "      <td>Who was with Amar Singh abusing Modiji?</td>\n",
       "      <td>What are the chances of PM Narendra Modi winni...</td>\n",
       "      <td>0</td>\n",
       "    </tr>\n",
       "    <tr>\n",
       "      <th>111990</th>\n",
       "      <td>111990</td>\n",
       "      <td>183314</td>\n",
       "      <td>94752</td>\n",
       "      <td>What is the best diet plan and exercises to de...</td>\n",
       "      <td>How should I get rid of belly fat?</td>\n",
       "      <td>0</td>\n",
       "    </tr>\n",
       "    <tr>\n",
       "      <th>27075</th>\n",
       "      <td>27075</td>\n",
       "      <td>16310</td>\n",
       "      <td>50321</td>\n",
       "      <td>What is the least invested and best startup bu...</td>\n",
       "      <td>What is the Best startup business to go into?</td>\n",
       "      <td>0</td>\n",
       "    </tr>\n",
       "    <tr>\n",
       "      <th>181445</th>\n",
       "      <td>181445</td>\n",
       "      <td>277962</td>\n",
       "      <td>277963</td>\n",
       "      <td>What are some great Firefox add-ons?</td>\n",
       "      <td>What are some examples of essential Firefox ad...</td>\n",
       "      <td>1</td>\n",
       "    </tr>\n",
       "  </tbody>\n",
       "</table>\n",
       "</div>"
      ],
      "text/plain": [
       "            id    qid1    qid2  \\\n",
       "183797  183797  280961   65511   \n",
       "981        981    1957    1958   \n",
       "12173    12173   23471   23472   \n",
       "225543  225543  153756   35944   \n",
       "1227      1227    2446    2447   \n",
       "246951  246951  360096  360097   \n",
       "84172    84172  142338  142339   \n",
       "111990  111990  183314   94752   \n",
       "27075    27075   16310   50321   \n",
       "181445  181445  277962  277963   \n",
       "\n",
       "                                                question1  \\\n",
       "183797  What are some examples of covalent and ionic b...   \n",
       "981       Why is 'fahrenheit 451'  perceived as dystopia?   \n",
       "12173          How do I make money during medical school?   \n",
       "225543  What hotel in Jabalpur would be safe for unmar...   \n",
       "1227    Why do Trump supporters believe that Donald Tr...   \n",
       "246951                     What is the densest substance?   \n",
       "84172             Who was with Amar Singh abusing Modiji?   \n",
       "111990  What is the best diet plan and exercises to de...   \n",
       "27075   What is the least invested and best startup bu...   \n",
       "181445               What are some great Firefox add-ons?   \n",
       "\n",
       "                                                question2  is_duplicate  \n",
       "183797  What are covalent and ionic bonds? What are so...             1  \n",
       "981     Fahrenheit 451 (1953 book): What is Guy Montag...             0  \n",
       "12173   How can I, a third year medical student, make ...             0  \n",
       "225543  What hotel in Jaipur would be safe for unmarri...             0  \n",
       "1227     Why don't I know any supporters of Donald Trump?             0  \n",
       "246951   Which is the densest substance in the universe.?             1  \n",
       "84172   What are the chances of PM Narendra Modi winni...             0  \n",
       "111990                 How should I get rid of belly fat?             0  \n",
       "27075       What is the Best startup business to go into?             0  \n",
       "181445  What are some examples of essential Firefox ad...             1  "
      ]
     },
     "execution_count": 2,
     "metadata": {},
     "output_type": "execute_result"
    }
   ],
   "source": [
    "# read tarining data\n",
    "train = pd.read_csv('../input/quora-duplicate-unzipped-training-dataset/train.csv')\n",
    "train.sample(10)"
   ]
  },
  {
   "cell_type": "code",
   "execution_count": 3,
   "id": "7ccffa9f",
   "metadata": {
    "execution": {
     "iopub.execute_input": "2022-11-10T06:04:48.820533Z",
     "iopub.status.busy": "2022-11-10T06:04:48.820149Z",
     "iopub.status.idle": "2022-11-10T06:04:48.826233Z",
     "shell.execute_reply": "2022-11-10T06:04:48.825219Z"
    },
    "papermill": {
     "duration": 0.015242,
     "end_time": "2022-11-10T06:04:48.828389",
     "exception": false,
     "start_time": "2022-11-10T06:04:48.813147",
     "status": "completed"
    },
    "tags": []
   },
   "outputs": [
    {
     "data": {
      "text/plain": [
       "(404290, 6)"
      ]
     },
     "execution_count": 3,
     "metadata": {},
     "output_type": "execute_result"
    }
   ],
   "source": [
    "train.shape"
   ]
  },
  {
   "cell_type": "code",
   "execution_count": 4,
   "id": "d18fa764",
   "metadata": {
    "execution": {
     "iopub.execute_input": "2022-11-10T06:04:48.842272Z",
     "iopub.status.busy": "2022-11-10T06:04:48.841957Z",
     "iopub.status.idle": "2022-11-10T06:04:48.921064Z",
     "shell.execute_reply": "2022-11-10T06:04:48.920070Z"
    },
    "papermill": {
     "duration": 0.088983,
     "end_time": "2022-11-10T06:04:48.923704",
     "exception": false,
     "start_time": "2022-11-10T06:04:48.834721",
     "status": "completed"
    },
    "tags": []
   },
   "outputs": [
    {
     "name": "stdout",
     "output_type": "stream",
     "text": [
      "<class 'pandas.core.frame.DataFrame'>\n",
      "RangeIndex: 404290 entries, 0 to 404289\n",
      "Data columns (total 6 columns):\n",
      " #   Column        Non-Null Count   Dtype \n",
      "---  ------        --------------   ----- \n",
      " 0   id            404290 non-null  int64 \n",
      " 1   qid1          404290 non-null  int64 \n",
      " 2   qid2          404290 non-null  int64 \n",
      " 3   question1     404289 non-null  object\n",
      " 4   question2     404288 non-null  object\n",
      " 5   is_duplicate  404290 non-null  int64 \n",
      "dtypes: int64(4), object(2)\n",
      "memory usage: 18.5+ MB\n"
     ]
    }
   ],
   "source": [
    "train.info()"
   ]
  },
  {
   "cell_type": "code",
   "execution_count": 5,
   "id": "d3381db3",
   "metadata": {
    "execution": {
     "iopub.execute_input": "2022-11-10T06:04:48.938122Z",
     "iopub.status.busy": "2022-11-10T06:04:48.937785Z",
     "iopub.status.idle": "2022-11-10T06:04:49.000819Z",
     "shell.execute_reply": "2022-11-10T06:04:48.999315Z"
    },
    "papermill": {
     "duration": 0.073468,
     "end_time": "2022-11-10T06:04:49.003574",
     "exception": false,
     "start_time": "2022-11-10T06:04:48.930106",
     "status": "completed"
    },
    "tags": []
   },
   "outputs": [
    {
     "data": {
      "text/plain": [
       "id              0\n",
       "qid1            0\n",
       "qid2            0\n",
       "question1       1\n",
       "question2       2\n",
       "is_duplicate    0\n",
       "dtype: int64"
      ]
     },
     "execution_count": 5,
     "metadata": {},
     "output_type": "execute_result"
    }
   ],
   "source": [
    "# null values in complete dataset\n",
    "train.isnull().sum()"
   ]
  },
  {
   "cell_type": "code",
   "execution_count": 6,
   "id": "2abbe264",
   "metadata": {
    "execution": {
     "iopub.execute_input": "2022-11-10T06:04:49.018720Z",
     "iopub.status.busy": "2022-11-10T06:04:49.018334Z",
     "iopub.status.idle": "2022-11-10T06:04:49.056263Z",
     "shell.execute_reply": "2022-11-10T06:04:49.055040Z"
    },
    "papermill": {
     "duration": 0.047831,
     "end_time": "2022-11-10T06:04:49.058263",
     "exception": false,
     "start_time": "2022-11-10T06:04:49.010432",
     "status": "completed"
    },
    "tags": []
   },
   "outputs": [
    {
     "data": {
      "text/html": [
       "<div>\n",
       "<style scoped>\n",
       "    .dataframe tbody tr th:only-of-type {\n",
       "        vertical-align: middle;\n",
       "    }\n",
       "\n",
       "    .dataframe tbody tr th {\n",
       "        vertical-align: top;\n",
       "    }\n",
       "\n",
       "    .dataframe thead th {\n",
       "        text-align: right;\n",
       "    }\n",
       "</style>\n",
       "<table border=\"1\" class=\"dataframe\">\n",
       "  <thead>\n",
       "    <tr style=\"text-align: right;\">\n",
       "      <th></th>\n",
       "      <th>id</th>\n",
       "      <th>qid1</th>\n",
       "      <th>qid2</th>\n",
       "      <th>question1</th>\n",
       "      <th>question2</th>\n",
       "      <th>is_duplicate</th>\n",
       "    </tr>\n",
       "  </thead>\n",
       "  <tbody>\n",
       "    <tr>\n",
       "      <th>363362</th>\n",
       "      <td>363362</td>\n",
       "      <td>493340</td>\n",
       "      <td>493341</td>\n",
       "      <td>NaN</td>\n",
       "      <td>My Chinese name is Haichao Yu. What English na...</td>\n",
       "      <td>0</td>\n",
       "    </tr>\n",
       "  </tbody>\n",
       "</table>\n",
       "</div>"
      ],
      "text/plain": [
       "            id    qid1    qid2 question1  \\\n",
       "363362  363362  493340  493341       NaN   \n",
       "\n",
       "                                                question2  is_duplicate  \n",
       "363362  My Chinese name is Haichao Yu. What English na...             0  "
      ]
     },
     "execution_count": 6,
     "metadata": {},
     "output_type": "execute_result"
    }
   ],
   "source": [
    "# Null value in question1\n",
    "train[train.question1.isnull()]"
   ]
  },
  {
   "cell_type": "code",
   "execution_count": 7,
   "id": "fb0afef6",
   "metadata": {
    "execution": {
     "iopub.execute_input": "2022-11-10T06:04:49.072313Z",
     "iopub.status.busy": "2022-11-10T06:04:49.072016Z",
     "iopub.status.idle": "2022-11-10T06:04:49.109375Z",
     "shell.execute_reply": "2022-11-10T06:04:49.108216Z"
    },
    "papermill": {
     "duration": 0.047083,
     "end_time": "2022-11-10T06:04:49.111727",
     "exception": false,
     "start_time": "2022-11-10T06:04:49.064644",
     "status": "completed"
    },
    "tags": []
   },
   "outputs": [
    {
     "data": {
      "text/html": [
       "<div>\n",
       "<style scoped>\n",
       "    .dataframe tbody tr th:only-of-type {\n",
       "        vertical-align: middle;\n",
       "    }\n",
       "\n",
       "    .dataframe tbody tr th {\n",
       "        vertical-align: top;\n",
       "    }\n",
       "\n",
       "    .dataframe thead th {\n",
       "        text-align: right;\n",
       "    }\n",
       "</style>\n",
       "<table border=\"1\" class=\"dataframe\">\n",
       "  <thead>\n",
       "    <tr style=\"text-align: right;\">\n",
       "      <th></th>\n",
       "      <th>id</th>\n",
       "      <th>qid1</th>\n",
       "      <th>qid2</th>\n",
       "      <th>question1</th>\n",
       "      <th>question2</th>\n",
       "      <th>is_duplicate</th>\n",
       "    </tr>\n",
       "  </thead>\n",
       "  <tbody>\n",
       "    <tr>\n",
       "      <th>105780</th>\n",
       "      <td>105780</td>\n",
       "      <td>174363</td>\n",
       "      <td>174364</td>\n",
       "      <td>How can I develop android app?</td>\n",
       "      <td>NaN</td>\n",
       "      <td>0</td>\n",
       "    </tr>\n",
       "    <tr>\n",
       "      <th>201841</th>\n",
       "      <td>201841</td>\n",
       "      <td>303951</td>\n",
       "      <td>174364</td>\n",
       "      <td>How can I create an Android app?</td>\n",
       "      <td>NaN</td>\n",
       "      <td>0</td>\n",
       "    </tr>\n",
       "  </tbody>\n",
       "</table>\n",
       "</div>"
      ],
      "text/plain": [
       "            id    qid1    qid2                         question1 question2  \\\n",
       "105780  105780  174363  174364    How can I develop android app?       NaN   \n",
       "201841  201841  303951  174364  How can I create an Android app?       NaN   \n",
       "\n",
       "        is_duplicate  \n",
       "105780             0  \n",
       "201841             0  "
      ]
     },
     "execution_count": 7,
     "metadata": {},
     "output_type": "execute_result"
    }
   ],
   "source": [
    "# Null value in question2\n",
    "train[train.question2.isnull()]"
   ]
  },
  {
   "cell_type": "markdown",
   "id": "75c5cc6b",
   "metadata": {
    "papermill": {
     "duration": 0.006908,
     "end_time": "2022-11-10T06:04:49.126490",
     "exception": false,
     "start_time": "2022-11-10T06:04:49.119582",
     "status": "completed"
    },
    "tags": []
   },
   "source": [
    "we already have lots of data so we can safely remove these 3 missing values "
   ]
  },
  {
   "cell_type": "code",
   "execution_count": 8,
   "id": "8d1d5ea9",
   "metadata": {
    "execution": {
     "iopub.execute_input": "2022-11-10T06:04:49.141161Z",
     "iopub.status.busy": "2022-11-10T06:04:49.140817Z",
     "iopub.status.idle": "2022-11-10T06:04:49.243627Z",
     "shell.execute_reply": "2022-11-10T06:04:49.242494Z"
    },
    "papermill": {
     "duration": 0.113112,
     "end_time": "2022-11-10T06:04:49.246150",
     "exception": false,
     "start_time": "2022-11-10T06:04:49.133038",
     "status": "completed"
    },
    "tags": []
   },
   "outputs": [
    {
     "data": {
      "text/plain": [
       "(404287, 6)"
      ]
     },
     "execution_count": 8,
     "metadata": {},
     "output_type": "execute_result"
    }
   ],
   "source": [
    "#drop samples with missing values\n",
    "train.dropna(axis = 0, inplace = True)\n",
    "train.shape"
   ]
  },
  {
   "cell_type": "code",
   "execution_count": 9,
   "id": "8665a539",
   "metadata": {
    "execution": {
     "iopub.execute_input": "2022-11-10T06:04:49.261589Z",
     "iopub.status.busy": "2022-11-10T06:04:49.261228Z",
     "iopub.status.idle": "2022-11-10T06:04:49.268655Z",
     "shell.execute_reply": "2022-11-10T06:04:49.267508Z"
    },
    "papermill": {
     "duration": 0.017838,
     "end_time": "2022-11-10T06:04:49.270995",
     "exception": false,
     "start_time": "2022-11-10T06:04:49.253157",
     "status": "completed"
    },
    "tags": []
   },
   "outputs": [
    {
     "data": {
      "text/plain": [
       "('Why is it irritating to rub your nails against a blackboard or a wall?',\n",
       " \"Is There any adverse effect on rubbing both hand's nails against each other ?\")"
      ]
     },
     "execution_count": 9,
     "metadata": {},
     "output_type": "execute_result"
    }
   ],
   "source": [
    "# Similar questions\n",
    "train['question1'].iloc[190123],train['question2'].iloc[190123]"
   ]
  },
  {
   "cell_type": "code",
   "execution_count": 10,
   "id": "0578f7e5",
   "metadata": {
    "execution": {
     "iopub.execute_input": "2022-11-10T06:04:49.287586Z",
     "iopub.status.busy": "2022-11-10T06:04:49.286960Z",
     "iopub.status.idle": "2022-11-10T06:04:49.294413Z",
     "shell.execute_reply": "2022-11-10T06:04:49.293395Z"
    },
    "papermill": {
     "duration": 0.018247,
     "end_time": "2022-11-10T06:04:49.296402",
     "exception": false,
     "start_time": "2022-11-10T06:04:49.278155",
     "status": "completed"
    },
    "tags": []
   },
   "outputs": [
    {
     "data": {
      "text/plain": [
       "('What in our opinion are the top 5 best books of all time?',\n",
       " 'What are some of the best books ever written?')"
      ]
     },
     "execution_count": 10,
     "metadata": {},
     "output_type": "execute_result"
    }
   ],
   "source": [
    "# Similar questions\n",
    "train['question1'].iloc[95847],train['question2'].iloc[95847]"
   ]
  },
  {
   "cell_type": "code",
   "execution_count": 11,
   "id": "fb35c079",
   "metadata": {
    "execution": {
     "iopub.execute_input": "2022-11-10T06:04:49.311874Z",
     "iopub.status.busy": "2022-11-10T06:04:49.311564Z",
     "iopub.status.idle": "2022-11-10T06:04:49.318476Z",
     "shell.execute_reply": "2022-11-10T06:04:49.317214Z"
    },
    "papermill": {
     "duration": 0.017489,
     "end_time": "2022-11-10T06:04:49.321106",
     "exception": false,
     "start_time": "2022-11-10T06:04:49.303617",
     "status": "completed"
    },
    "tags": []
   },
   "outputs": [
    {
     "data": {
      "text/plain": [
       "('What are 3 things people can learn from Mashable?',\n",
       " \"What is the thing which you can't learn from a course?\")"
      ]
     },
     "execution_count": 11,
     "metadata": {},
     "output_type": "execute_result"
    }
   ],
   "source": [
    "# Different questions\n",
    "train['question1'].iloc[125695],train['question2'].iloc[125695]"
   ]
  },
  {
   "cell_type": "code",
   "execution_count": 12,
   "id": "244a4bc4",
   "metadata": {
    "execution": {
     "iopub.execute_input": "2022-11-10T06:04:49.337204Z",
     "iopub.status.busy": "2022-11-10T06:04:49.336841Z",
     "iopub.status.idle": "2022-11-10T06:04:49.519382Z",
     "shell.execute_reply": "2022-11-10T06:04:49.518651Z"
    },
    "papermill": {
     "duration": 0.19267,
     "end_time": "2022-11-10T06:04:49.521179",
     "exception": false,
     "start_time": "2022-11-10T06:04:49.328509",
     "status": "completed"
    },
    "tags": []
   },
   "outputs": [
    {
     "data": {
      "text/plain": [
       "<AxesSubplot:>"
      ]
     },
     "execution_count": 12,
     "metadata": {},
     "output_type": "execute_result"
    },
    {
     "data": {
      "image/png": "[encoded data removed]",
      "text/plain": [
       "<Figure size 432x288 with 1 Axes>"
      ]
     },
     "metadata": {
      "needs_background": "light"
     },
     "output_type": "display_data"
    }
   ],
   "source": [
    "# non duplicate and duplicate question count plot \n",
    "train['is_duplicate'].value_counts().plot.bar()"
   ]
  },
  {
   "cell_type": "code",
   "execution_count": 13,
   "id": "a95facab",
   "metadata": {
    "execution": {
     "iopub.execute_input": "2022-11-10T06:04:49.538291Z",
     "iopub.status.busy": "2022-11-10T06:04:49.537724Z",
     "iopub.status.idle": "2022-11-10T06:04:50.409467Z",
     "shell.execute_reply": "2022-11-10T06:04:50.407845Z"
    },
    "papermill": {
     "duration": 0.883251,
     "end_time": "2022-11-10T06:04:50.412112",
     "exception": false,
     "start_time": "2022-11-10T06:04:49.528861",
     "status": "completed"
    },
    "tags": []
   },
   "outputs": [
    {
     "name": "stdout",
     "output_type": "stream",
     "text": [
      "No. of unique question ids :  537929\n",
      "No. of repeated questions :  111778\n",
      "No. of duplicate question pairs :  0\n"
     ]
    }
   ],
   "source": [
    "# Unique question ids in the dataset\n",
    "qid = pd.Series(train['qid1'].tolist()+train['qid2'].tolist())\n",
    "print(\"No. of unique question ids : \", len(np.unique(qid)))\n",
    "# Duplicate question ids in the dataset\n",
    "x = pd.Series(train['qid1'].tolist()+train['qid2'].tolist()).value_counts()>1\n",
    "print(\"No. of repeated questions : \",x[x].shape[0])\n",
    "\n",
    "# duplicate question pairs \n",
    "print(\"No. of duplicate question pairs : \",train.duplicated().sum())"
   ]
  },
  {
   "cell_type": "markdown",
   "id": "4183b3ef",
   "metadata": {
    "papermill": {
     "duration": 0.008354,
     "end_time": "2022-11-10T06:04:50.429114",
     "exception": false,
     "start_time": "2022-11-10T06:04:50.420760",
     "status": "completed"
    },
    "tags": []
   },
   "source": [
    "# Text Preprocessing"
   ]
  },
  {
   "cell_type": "code",
   "execution_count": 14,
   "id": "8a838ca5",
   "metadata": {
    "execution": {
     "iopub.execute_input": "2022-11-10T06:04:50.445876Z",
     "iopub.status.busy": "2022-11-10T06:04:50.445529Z",
     "iopub.status.idle": "2022-11-10T06:04:50.468021Z",
     "shell.execute_reply": "2022-11-10T06:04:50.466416Z"
    },
    "papermill": {
     "duration": 0.034011,
     "end_time": "2022-11-10T06:04:50.470770",
     "exception": false,
     "start_time": "2022-11-10T06:04:50.436759",
     "status": "completed"
    },
    "tags": []
   },
   "outputs": [],
   "source": [
    "def preprocess(q):\n",
    "    \n",
    "    q = str(q).lower().strip()\n",
    "    \n",
    "    # Replace certain special characters with their string equivalents\n",
    "    q = q.replace('%', ' percent')\n",
    "    q = q.replace('$', ' dollar ')\n",
    "    q = q.replace('₹', ' rupee ')\n",
    "    q = q.replace('€', ' euro ')\n",
    "    q = q.replace('@', ' at ')\n",
    "    \n",
    "    # The pattern '[math]' appears around 900 times in the whole dataset.\n",
    "    q = q.replace('[math]', '')\n",
    "    \n",
    "    # Replacing some numbers with string equivalents (not perfect, can be done better to account for more cases)\n",
    "    q = q.replace(',000,000,000 ', 'b ')\n",
    "    q = q.replace(',000,000 ', 'm ')\n",
    "    q = q.replace(',000 ', 'k ')\n",
    "    q = q.replace('?', '')\n",
    "    q = q.replace('/', ' ')\n",
    "    q = re.sub(r'([0-9]+)000000000', r'\\1b', q)\n",
    "    q = re.sub(r'([0-9]+)000000', r'\\1m', q)\n",
    "    q = re.sub(r'([0-9]+)000', r'\\1k', q)\n",
    "    \n",
    "    # Decontracting words\n",
    "    # https://en.wikipedia.org/wiki/Wikipedia%3aList_of_English_contractions\n",
    "    # https://stackoverflow.com/a/19794953\n",
    "    contractions = { \n",
    "    \"ain't\": \"am not\",\n",
    "    \"aren't\": \"are not\",\n",
    "    \"can't\": \"can not\",\n",
    "    \"can't've\": \"can not have\",\n",
    "    \"'cause\": \"because\",\n",
    "    \"could've\": \"could have\",\n",
    "    \"couldn't\": \"could not\",\n",
    "    \"couldn't've\": \"could not have\",\n",
    "    \"didn't\": \"did not\",\n",
    "    \"doesn't\": \"does not\",\n",
    "    \"don't\": \"do not\",\n",
    "    \"hadn't\": \"had not\",\n",
    "    \"hadn't've\": \"had not have\",\n",
    "    \"hasn't\": \"has not\",\n",
    "    \"haven't\": \"have not\",\n",
    "    \"he'd\": \"he would\",\n",
    "    \"he'd've\": \"he would have\",\n",
    "    \"he'll\": \"he will\",\n",
    "    \"he'll've\": \"he will have\",\n",
    "    \"he's\": \"he is\",\n",
    "    \"how'd\": \"how did\",\n",
    "    \"how'd'y\": \"how do you\",\n",
    "    \"how'll\": \"how will\",\n",
    "    \"how's\": \"how is\",\n",
    "    \"i'd\": \"i would\",\n",
    "    \"i'd've\": \"i would have\",\n",
    "    \"i'll\": \"i will\",\n",
    "    \"i'll've\": \"i will have\",\n",
    "    \"i'm\": \"i am\",\n",
    "    \"i've\": \"i have\",\n",
    "    \"isn't\": \"is not\",\n",
    "    \"it'd\": \"it would\",\n",
    "    \"it'd've\": \"it would have\",\n",
    "    \"it'll\": \"it will\",\n",
    "    \"it'll've\": \"it will have\",\n",
    "    \"it's\": \"it is\",\n",
    "    \"let's\": \"let us\",\n",
    "    \"ma'am\": \"madam\",\n",
    "    \"mayn't\": \"may not\",\n",
    "    \"might've\": \"might have\",\n",
    "    \"mightn't\": \"might not\",\n",
    "    \"mightn't've\": \"might not have\",\n",
    "    \"must've\": \"must have\",\n",
    "    \"mustn't\": \"must not\",\n",
    "    \"mustn't've\": \"must not have\",\n",
    "    \"needn't\": \"need not\",\n",
    "    \"needn't've\": \"need not have\",\n",
    "    \"o'clock\": \"of the clock\",\n",
    "    \"oughtn't\": \"ought not\",\n",
    "    \"oughtn't've\": \"ought not have\",\n",
    "    \"shan't\": \"shall not\",\n",
    "    \"sha'n't\": \"shall not\",\n",
    "    \"shan't've\": \"shall not have\",\n",
    "    \"she'd\": \"she would\",\n",
    "    \"she'd've\": \"she would have\",\n",
    "    \"she'll\": \"she will\",\n",
    "    \"she'll've\": \"she will have\",\n",
    "    \"she's\": \"she is\",\n",
    "    \"should've\": \"should have\",\n",
    "    \"shouldn't\": \"should not\",\n",
    "    \"shouldn't've\": \"should not have\",\n",
    "    \"so've\": \"so have\",\n",
    "    \"so's\": \"so as\",\n",
    "    \"that'd\": \"that would\",\n",
    "    \"that'd've\": \"that would have\",\n",
    "    \"that's\": \"that is\",\n",
    "    \"there'd\": \"there would\",\n",
    "    \"there'd've\": \"there would have\",\n",
    "    \"there's\": \"there is\",\n",
    "    \"they'd\": \"they would\",\n",
    "    \"they'd've\": \"they would have\",\n",
    "    \"they'll\": \"they will\",\n",
    "    \"they'll've\": \"they will have\",\n",
    "    \"they're\": \"they are\",\n",
    "    \"they've\": \"they have\",\n",
    "    \"to've\": \"to have\",\n",
    "    \"wasn't\": \"was not\",\n",
    "    \"we'd\": \"we would\",\n",
    "    \"we'd've\": \"we would have\",\n",
    "    \"we'll\": \"we will\",\n",
    "    \"we'll've\": \"we will have\",\n",
    "    \"we're\": \"we are\",\n",
    "    \"we've\": \"we have\",\n",
    "    \"weren't\": \"were not\",\n",
    "    \"what'll\": \"what will\",\n",
    "    \"what'll've\": \"what will have\",\n",
    "    \"what're\": \"what are\",\n",
    "    \"what's\": \"what is\",\n",
    "    \"what've\": \"what have\",\n",
    "    \"when's\": \"when is\",\n",
    "    \"when've\": \"when have\",\n",
    "    \"where'd\": \"where did\",\n",
    "    \"where's\": \"where is\",\n",
    "    \"where've\": \"where have\",\n",
    "    \"who'll\": \"who will\",\n",
    "    \"who'll've\": \"who will have\",\n",
    "    \"who's\": \"who is\",\n",
    "    \"who've\": \"who have\",\n",
    "    \"why's\": \"why is\",\n",
    "    \"why've\": \"why have\",\n",
    "    \"will've\": \"will have\",\n",
    "    \"won't\": \"will not\",\n",
    "    \"won't've\": \"will not have\",\n",
    "    \"would've\": \"would have\",\n",
    "    \"wouldn't\": \"would not\",\n",
    "    \"wouldn't've\": \"would not have\",\n",
    "    \"y'all\": \"you all\",\n",
    "    \"y'all'd\": \"you all would\",\n",
    "    \"y'all'd've\": \"you all would have\",\n",
    "    \"y'all're\": \"you all are\",\n",
    "    \"y'all've\": \"you all have\",\n",
    "    \"you'd\": \"you would\",\n",
    "    \"you'd've\": \"you would have\",\n",
    "    \"you'll\": \"you will\",\n",
    "    \"you'll've\": \"you will have\",\n",
    "    \"you're\": \"you are\",\n",
    "    \"you've\": \"you have\"\n",
    "    }\n",
    "\n",
    "    q_decontracted = []\n",
    "\n",
    "    for word in q.split():\n",
    "        if (word.strip() not in stop_words):\n",
    "            if (word in contractions):\n",
    "                word = contractions[word]\n",
    "        \n",
    "        q_decontracted.append(word)\n",
    "        \n",
    "\n",
    "    q = ' '.join(q_decontracted)\n",
    "    non_stop = []\n",
    "    for word in q.split():\n",
    "        if (word.strip() not in stop_words):\n",
    "            non_stop.append(word)\n",
    "            \n",
    "    q = ' '.join(non_stop)\n",
    "    q = q.replace(\"'ve\", \" have\")\n",
    "    q = q.replace(\"n't\", \" not\")\n",
    "    q = q.replace(\"'re\", \" are\")\n",
    "    q = q.replace(\"'ll\", \" will\")\n",
    "    \n",
    "    # Removing HTML tags\n",
    "    q = BeautifulSoup(q)\n",
    "    q = q.get_text()\n",
    "    \n",
    "    # Remove punctuations\n",
    "    pattern = re.compile('\\W')\n",
    "    q = re.sub(pattern, ' ', q).strip()\n",
    "\n",
    "    \n",
    "    return q"
   ]
  },
  {
   "cell_type": "code",
   "execution_count": 15,
   "id": "15910614",
   "metadata": {
    "execution": {
     "iopub.execute_input": "2022-11-10T06:04:50.488959Z",
     "iopub.status.busy": "2022-11-10T06:04:50.487231Z",
     "iopub.status.idle": "2022-11-10T06:08:01.923780Z",
     "shell.execute_reply": "2022-11-10T06:08:01.922009Z"
    },
    "papermill": {
     "duration": 191.453654,
     "end_time": "2022-11-10T06:08:01.932326",
     "exception": false,
     "start_time": "2022-11-10T06:04:50.478672",
     "status": "completed"
    },
    "tags": []
   },
   "outputs": [
    {
     "name": "stdout",
     "output_type": "stream",
     "text": [
      "CPU times: user 3min 10s, sys: 1.16 s, total: 3min 11s\n",
      "Wall time: 3min 11s\n"
     ]
    }
   ],
   "source": [
    "%%time\n",
    "train['question1'] = train['question1'].apply(preprocess)\n",
    "train['question2'] = train['question2'].apply(preprocess)"
   ]
  },
  {
   "cell_type": "code",
   "execution_count": 16,
   "id": "a33f66e3",
   "metadata": {
    "execution": {
     "iopub.execute_input": "2022-11-10T06:08:01.949436Z",
     "iopub.status.busy": "2022-11-10T06:08:01.949056Z",
     "iopub.status.idle": "2022-11-10T06:08:01.973554Z",
     "shell.execute_reply": "2022-11-10T06:08:01.972596Z"
    },
    "papermill": {
     "duration": 0.035742,
     "end_time": "2022-11-10T06:08:01.975984",
     "exception": false,
     "start_time": "2022-11-10T06:08:01.940242",
     "status": "completed"
    },
    "tags": []
   },
   "outputs": [
    {
     "data": {
      "text/html": [
       "<div>\n",
       "<style scoped>\n",
       "    .dataframe tbody tr th:only-of-type {\n",
       "        vertical-align: middle;\n",
       "    }\n",
       "\n",
       "    .dataframe tbody tr th {\n",
       "        vertical-align: top;\n",
       "    }\n",
       "\n",
       "    .dataframe thead th {\n",
       "        text-align: right;\n",
       "    }\n",
       "</style>\n",
       "<table border=\"1\" class=\"dataframe\">\n",
       "  <thead>\n",
       "    <tr style=\"text-align: right;\">\n",
       "      <th></th>\n",
       "      <th>question1</th>\n",
       "      <th>question2</th>\n",
       "    </tr>\n",
       "  </thead>\n",
       "  <tbody>\n",
       "    <tr>\n",
       "      <th>0</th>\n",
       "      <td>step step guide invest share market india</td>\n",
       "      <td>step step guide invest share market</td>\n",
       "    </tr>\n",
       "    <tr>\n",
       "      <th>1</th>\n",
       "      <td>story kohinoor  koh i noor  diamond</td>\n",
       "      <td>would happen indian government stole kohinoor ...</td>\n",
       "    </tr>\n",
       "    <tr>\n",
       "      <th>2</th>\n",
       "      <td>increase speed internet connection using vpn</td>\n",
       "      <td>internet speed increased hacking dns</td>\n",
       "    </tr>\n",
       "    <tr>\n",
       "      <th>3</th>\n",
       "      <td>mentally lonely solve</td>\n",
       "      <td>find remainder 23  24   math  divided 24 23</td>\n",
       "    </tr>\n",
       "    <tr>\n",
       "      <th>4</th>\n",
       "      <td>one dissolve water quikly sugar  salt  methane...</td>\n",
       "      <td>fish would survive salt water</td>\n",
       "    </tr>\n",
       "  </tbody>\n",
       "</table>\n",
       "</div>"
      ],
      "text/plain": [
       "                                           question1  \\\n",
       "0          step step guide invest share market india   \n",
       "1                story kohinoor  koh i noor  diamond   \n",
       "2       increase speed internet connection using vpn   \n",
       "3                              mentally lonely solve   \n",
       "4  one dissolve water quikly sugar  salt  methane...   \n",
       "\n",
       "                                           question2  \n",
       "0                step step guide invest share market  \n",
       "1  would happen indian government stole kohinoor ...  \n",
       "2               internet speed increased hacking dns  \n",
       "3        find remainder 23  24   math  divided 24 23  \n",
       "4                      fish would survive salt water  "
      ]
     },
     "execution_count": 16,
     "metadata": {},
     "output_type": "execute_result"
    }
   ],
   "source": [
    "# only question1 and question2 extracted from dataframe\n",
    "ques_df = train[['question1','question2']]\n",
    "ques_df.head()"
   ]
  },
  {
   "cell_type": "markdown",
   "id": "45a17db7",
   "metadata": {
    "papermill": {
     "duration": 0.007442,
     "end_time": "2022-11-10T06:08:01.991482",
     "exception": false,
     "start_time": "2022-11-10T06:08:01.984040",
     "status": "completed"
    },
    "tags": []
   },
   "source": [
    "# TF-IDF with random forest  \n"
   ]
  },
  {
   "cell_type": "code",
   "execution_count": 17,
   "id": "d8d49656",
   "metadata": {
    "execution": {
     "iopub.execute_input": "2022-11-10T06:08:02.008870Z",
     "iopub.status.busy": "2022-11-10T06:08:02.008511Z",
     "iopub.status.idle": "2022-11-10T08:32:21.729507Z",
     "shell.execute_reply": "2022-11-10T08:32:21.728516Z"
    },
    "papermill": {
     "duration": 8659.741669,
     "end_time": "2022-11-10T08:32:21.741053",
     "exception": false,
     "start_time": "2022-11-10T06:08:01.999384",
     "status": "completed"
    },
    "tags": []
   },
   "outputs": [
    {
     "name": "stdout",
     "output_type": "stream",
     "text": [
      "Random forest Accuracy score :  0.819238665314502\n",
      "CPU times: user 2h 24min 15s, sys: 3.46 s, total: 2h 24min 19s\n",
      "Wall time: 2h 24min 19s\n"
     ]
    }
   ],
   "source": [
    "%%time\n",
    "# Tf-Idf vectorizer\n",
    "from sklearn.feature_extraction.text import TfidfVectorizer\n",
    "questions = list(ques_df['question1']) + list(ques_df['question2'])\n",
    "# object for tf-idf vectorization \n",
    "tf = TfidfVectorizer()\n",
    "\n",
    "q = tf.fit_transform(questions)\n",
    "q1_arr = q[:(q.shape[0]//2),]\n",
    "q2_arr = q[(q.shape[0]//2):,]\n",
    "\n",
    "q_arr = hstack((q1_arr, q2_arr))\n",
    "\n",
    "# train test split, 20% data for testing \n",
    "X_train,X_test,y_train,y_test = train_test_split(q_arr,train['is_duplicate'],test_size=0.2,random_state=1)\n",
    "\n",
    "\n",
    "#random forest classifier with default parameters\n",
    "rf = RandomForestClassifier()\n",
    "rf.fit(X_train,y_train)\n",
    "y_pred = rf.predict(X_test)\n",
    "print(\"Random forest Accuracy score : \",accuracy_score(y_test,y_pred))"
   ]
  },
  {
   "cell_type": "code",
   "execution_count": null,
   "id": "c730d40a",
   "metadata": {
    "papermill": {
     "duration": 0.00753,
     "end_time": "2022-11-10T08:32:21.787699",
     "exception": false,
     "start_time": "2022-11-10T08:32:21.780169",
     "status": "completed"
    },
    "tags": []
   },
   "outputs": [],
   "source": []
  }
 ],
 "metadata": {
  "kernelspec": {
   "display_name": "Python 3 (ipykernel)",
   "language": "python",
   "name": "python3"
  },
  "language_info": {
   "codemirror_mode": {
    "name": "ipython",
    "version": 3
   },
   "file_extension": ".py",
   "mimetype": "text/x-python",
   "name": "python",
   "nbconvert_exporter": "python",
   "pygments_lexer": "ipython3",
   "version": "3.9.7"
  },
  "papermill": {
   "default_parameters": {},
   "duration": 8865.891285,
   "end_time": "2022-11-10T08:32:23.049665",
   "environment_variables": {},
   "exception": null,
   "input_path": "__notebook__.ipynb",
   "output_path": "__notebook__.ipynb",
   "parameters": {},
   "start_time": "2022-11-10T06:04:37.158380",
   "version": "2.3.4"
  }
 },
 "nbformat": 4,
 "nbformat_minor": 5
}
