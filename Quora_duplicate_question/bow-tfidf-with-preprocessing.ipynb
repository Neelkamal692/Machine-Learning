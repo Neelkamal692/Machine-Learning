{
 "cells": [
  {
   "cell_type": "markdown",
   "id": "16668ff4",
   "metadata": {
    "_cell_guid": "b1076dfc-b9ad-4769-8c92-a6c4dae69d19",
    "_uuid": "8f2839f25d086af736a60e9eeb907d3b93b6e0e5",
    "execution": {
     "iopub.execute_input": "2022-11-05T08:49:57.74007Z",
     "iopub.status.busy": "2022-11-05T08:49:57.739626Z",
     "iopub.status.idle": "2022-11-05T08:49:58.680768Z",
     "shell.execute_reply": "2022-11-05T08:49:58.679617Z",
     "shell.execute_reply.started": "2022-11-05T08:49:57.739984Z"
    },
    "papermill": {
     "duration": 0.013225,
     "end_time": "2022-11-07T14:35:54.255139",
     "exception": false,
     "start_time": "2022-11-07T14:35:54.241914",
     "status": "completed"
    },
    "tags": []
   },
   "source": [
    "# Baseline Model with BOW + Tf-Idf with text preprocessing"
   ]
  },
  {
   "cell_type": "code",
   "execution_count": 1,
   "id": "e98d8ed7",
   "metadata": {
    "execution": {
     "iopub.execute_input": "2022-11-07T14:35:54.283077Z",
     "iopub.status.busy": "2022-11-07T14:35:54.282319Z",
     "iopub.status.idle": "2022-11-07T14:35:55.669484Z",
     "shell.execute_reply": "2022-11-07T14:35:55.668243Z"
    },
    "papermill": {
     "duration": 1.405024,
     "end_time": "2022-11-07T14:35:55.672073",
     "exception": false,
     "start_time": "2022-11-07T14:35:54.267049",
     "status": "completed"
    },
    "tags": []
   },
   "outputs": [
    {
     "name": "stdout",
     "output_type": "stream",
     "text": [
      "/kaggle/input/quora-question-pairs/train.csv.zip\n",
      "/kaggle/input/quora-question-pairs/sample_submission.csv.zip\n",
      "/kaggle/input/quora-question-pairs/test.csv\n",
      "/kaggle/input/quora-question-pairs/test.csv.zip\n"
     ]
    }
   ],
   "source": [
    "# This Python 3 environment comes with many helpful analytics libraries installed\n",
    "# It is defined by the kaggle/python Docker image: https://github.com/kaggle/docker-python\n",
    "# For example, here's several helpful packages to load\n",
    "\n",
    "import numpy as np # linear algebra\n",
    "import pandas as pd # data processing, CSV file I/O (e.g. pd.read_csv)\n",
    "import matplotlib.pyplot as plt \n",
    "import seaborn as sns\n",
    "from collections import Counter\n",
    "import re\n",
    "from bs4 import BeautifulSoup\n",
    "# Input data files are available in the read-only \"../input/\" directory\n",
    "# For example, running this (by clicking run or pressing Shift+Enter) will list all files under the input directory\n",
    "\n",
    "import os\n",
    "for dirname, _, filenames in os.walk('/kaggle/input'):\n",
    "    for filename in filenames:\n",
    "        print(os.path.join(dirname, filename))\n",
    "\n",
    "# You can write up to 20GB to the current directory (/kaggle/working/) that gets preserved as output when you create a version using \"Save & Run All\" \n",
    "# You can also write temporary files to /kaggle/temp/, but they won't be saved outside of the current session"
   ]
  },
  {
   "cell_type": "code",
   "execution_count": 2,
   "id": "728edc41",
   "metadata": {
    "execution": {
     "iopub.execute_input": "2022-11-07T14:35:55.698216Z",
     "iopub.status.busy": "2022-11-07T14:35:55.697752Z",
     "iopub.status.idle": "2022-11-07T14:35:57.525011Z",
     "shell.execute_reply": "2022-11-07T14:35:57.523597Z"
    },
    "papermill": {
     "duration": 1.844192,
     "end_time": "2022-11-07T14:35:57.528437",
     "exception": false,
     "start_time": "2022-11-07T14:35:55.684245",
     "status": "completed"
    },
    "tags": []
   },
   "outputs": [
    {
     "name": "stdout",
     "output_type": "stream",
     "text": [
      "Archive:  ../input/quora-question-pairs/train.csv.zip\r\n",
      "  inflating: train.csv               \r\n"
     ]
    }
   ],
   "source": [
    "# unzipping training data\n",
    "!unzip ../input/quora-question-pairs/train.csv.zip"
   ]
  },
  {
   "cell_type": "code",
   "execution_count": 3,
   "id": "f86d3525",
   "metadata": {
    "execution": {
     "iopub.execute_input": "2022-11-07T14:35:57.554887Z",
     "iopub.status.busy": "2022-11-07T14:35:57.554366Z",
     "iopub.status.idle": "2022-11-07T14:35:58.930012Z",
     "shell.execute_reply": "2022-11-07T14:35:58.928576Z"
    },
    "papermill": {
     "duration": 1.393406,
     "end_time": "2022-11-07T14:35:58.934225",
     "exception": false,
     "start_time": "2022-11-07T14:35:57.540819",
     "status": "completed"
    },
    "tags": []
   },
   "outputs": [
    {
     "data": {
      "text/html": [
       "<div>\n",
       "<style scoped>\n",
       "    .dataframe tbody tr th:only-of-type {\n",
       "        vertical-align: middle;\n",
       "    }\n",
       "\n",
       "    .dataframe tbody tr th {\n",
       "        vertical-align: top;\n",
       "    }\n",
       "\n",
       "    .dataframe thead th {\n",
       "        text-align: right;\n",
       "    }\n",
       "</style>\n",
       "<table border=\"1\" class=\"dataframe\">\n",
       "  <thead>\n",
       "    <tr style=\"text-align: right;\">\n",
       "      <th></th>\n",
       "      <th>id</th>\n",
       "      <th>qid1</th>\n",
       "      <th>qid2</th>\n",
       "      <th>question1</th>\n",
       "      <th>question2</th>\n",
       "      <th>is_duplicate</th>\n",
       "    </tr>\n",
       "  </thead>\n",
       "  <tbody>\n",
       "    <tr>\n",
       "      <th>102185</th>\n",
       "      <td>102185</td>\n",
       "      <td>169108</td>\n",
       "      <td>169109</td>\n",
       "      <td>What's a good comeback for when people call me...</td>\n",
       "      <td>Is it a good thing if a girl calls me buddy?</td>\n",
       "      <td>0</td>\n",
       "    </tr>\n",
       "    <tr>\n",
       "      <th>302465</th>\n",
       "      <td>302465</td>\n",
       "      <td>425479</td>\n",
       "      <td>425480</td>\n",
       "      <td>Do we get jobs after clearing Punjab civil ser...</td>\n",
       "      <td>Can anyone clear upsc civil services exam with...</td>\n",
       "      <td>0</td>\n",
       "    </tr>\n",
       "    <tr>\n",
       "      <th>127328</th>\n",
       "      <td>127328</td>\n",
       "      <td>205010</td>\n",
       "      <td>205011</td>\n",
       "      <td>Is Chandigarh the best place to live in?</td>\n",
       "      <td>Is Chandigarh the best place in India?</td>\n",
       "      <td>0</td>\n",
       "    </tr>\n",
       "    <tr>\n",
       "      <th>380325</th>\n",
       "      <td>380325</td>\n",
       "      <td>511936</td>\n",
       "      <td>511937</td>\n",
       "      <td>What is the weirdest thing you have Googled?</td>\n",
       "      <td>What is the weirdest thing you searched on the...</td>\n",
       "      <td>1</td>\n",
       "    </tr>\n",
       "    <tr>\n",
       "      <th>288105</th>\n",
       "      <td>288105</td>\n",
       "      <td>409007</td>\n",
       "      <td>337493</td>\n",
       "      <td>Holy Cross Football Live Stream | Watch Holy C...</td>\n",
       "      <td>Liberty Football Live Stream | Watch Liberty F...</td>\n",
       "      <td>0</td>\n",
       "    </tr>\n",
       "    <tr>\n",
       "      <th>159394</th>\n",
       "      <td>159394</td>\n",
       "      <td>248827</td>\n",
       "      <td>95931</td>\n",
       "      <td>What is partial pressure?</td>\n",
       "      <td>What is the partial pressure of oxygen in atmo...</td>\n",
       "      <td>0</td>\n",
       "    </tr>\n",
       "    <tr>\n",
       "      <th>285040</th>\n",
       "      <td>285040</td>\n",
       "      <td>405395</td>\n",
       "      <td>52877</td>\n",
       "      <td>Which are the best freelancing sites in India?</td>\n",
       "      <td>Which is the best freelance website in India?</td>\n",
       "      <td>1</td>\n",
       "    </tr>\n",
       "    <tr>\n",
       "      <th>350008</th>\n",
       "      <td>350008</td>\n",
       "      <td>478738</td>\n",
       "      <td>80693</td>\n",
       "      <td>Does the electric lifter prove that antigravit...</td>\n",
       "      <td>Is the antigravity electric lifter better and ...</td>\n",
       "      <td>0</td>\n",
       "    </tr>\n",
       "    <tr>\n",
       "      <th>248643</th>\n",
       "      <td>248643</td>\n",
       "      <td>362106</td>\n",
       "      <td>362107</td>\n",
       "      <td>How is a German Sherperd/Great Pyrenees mix co...</td>\n",
       "      <td>How is a German Sherperd/Great Pyrenees mix co...</td>\n",
       "      <td>0</td>\n",
       "    </tr>\n",
       "    <tr>\n",
       "      <th>278132</th>\n",
       "      <td>278132</td>\n",
       "      <td>397352</td>\n",
       "      <td>397353</td>\n",
       "      <td>Is it legal to own lock picking tools in India?</td>\n",
       "      <td>Is it better to use your own hand made lock pi...</td>\n",
       "      <td>0</td>\n",
       "    </tr>\n",
       "  </tbody>\n",
       "</table>\n",
       "</div>"
      ],
      "text/plain": [
       "            id    qid1    qid2  \\\n",
       "102185  102185  169108  169109   \n",
       "302465  302465  425479  425480   \n",
       "127328  127328  205010  205011   \n",
       "380325  380325  511936  511937   \n",
       "288105  288105  409007  337493   \n",
       "159394  159394  248827   95931   \n",
       "285040  285040  405395   52877   \n",
       "350008  350008  478738   80693   \n",
       "248643  248643  362106  362107   \n",
       "278132  278132  397352  397353   \n",
       "\n",
       "                                                question1  \\\n",
       "102185  What's a good comeback for when people call me...   \n",
       "302465  Do we get jobs after clearing Punjab civil ser...   \n",
       "127328           Is Chandigarh the best place to live in?   \n",
       "380325       What is the weirdest thing you have Googled?   \n",
       "288105  Holy Cross Football Live Stream | Watch Holy C...   \n",
       "159394                          What is partial pressure?   \n",
       "285040     Which are the best freelancing sites in India?   \n",
       "350008  Does the electric lifter prove that antigravit...   \n",
       "248643  How is a German Sherperd/Great Pyrenees mix co...   \n",
       "278132    Is it legal to own lock picking tools in India?   \n",
       "\n",
       "                                                question2  is_duplicate  \n",
       "102185       Is it a good thing if a girl calls me buddy?             0  \n",
       "302465  Can anyone clear upsc civil services exam with...             0  \n",
       "127328             Is Chandigarh the best place in India?             0  \n",
       "380325  What is the weirdest thing you searched on the...             1  \n",
       "288105  Liberty Football Live Stream | Watch Liberty F...             0  \n",
       "159394  What is the partial pressure of oxygen in atmo...             0  \n",
       "285040      Which is the best freelance website in India?             1  \n",
       "350008  Is the antigravity electric lifter better and ...             0  \n",
       "248643  How is a German Sherperd/Great Pyrenees mix co...             0  \n",
       "278132  Is it better to use your own hand made lock pi...             0  "
      ]
     },
     "execution_count": 3,
     "metadata": {},
     "output_type": "execute_result"
    }
   ],
   "source": [
    "# read tarining data\n",
    "train = pd.read_csv('./train.csv')\n",
    "train.sample(10)"
   ]
  },
  {
   "cell_type": "code",
   "execution_count": 4,
   "id": "3e1038e2",
   "metadata": {
    "execution": {
     "iopub.execute_input": "2022-11-07T14:35:58.961829Z",
     "iopub.status.busy": "2022-11-07T14:35:58.961377Z",
     "iopub.status.idle": "2022-11-07T14:35:58.969186Z",
     "shell.execute_reply": "2022-11-07T14:35:58.968022Z"
    },
    "papermill": {
     "duration": 0.02403,
     "end_time": "2022-11-07T14:35:58.971494",
     "exception": false,
     "start_time": "2022-11-07T14:35:58.947464",
     "status": "completed"
    },
    "tags": []
   },
   "outputs": [
    {
     "data": {
      "text/plain": [
       "(404290, 6)"
      ]
     },
     "execution_count": 4,
     "metadata": {},
     "output_type": "execute_result"
    }
   ],
   "source": [
    "train.shape"
   ]
  },
  {
   "cell_type": "code",
   "execution_count": 5,
   "id": "4b582066",
   "metadata": {
    "execution": {
     "iopub.execute_input": "2022-11-07T14:35:58.999955Z",
     "iopub.status.busy": "2022-11-07T14:35:58.999220Z",
     "iopub.status.idle": "2022-11-07T14:35:59.091607Z",
     "shell.execute_reply": "2022-11-07T14:35:59.090320Z"
    },
    "papermill": {
     "duration": 0.109876,
     "end_time": "2022-11-07T14:35:59.094346",
     "exception": false,
     "start_time": "2022-11-07T14:35:58.984470",
     "status": "completed"
    },
    "tags": []
   },
   "outputs": [
    {
     "name": "stdout",
     "output_type": "stream",
     "text": [
      "<class 'pandas.core.frame.DataFrame'>\n",
      "RangeIndex: 404290 entries, 0 to 404289\n",
      "Data columns (total 6 columns):\n",
      " #   Column        Non-Null Count   Dtype \n",
      "---  ------        --------------   ----- \n",
      " 0   id            404290 non-null  int64 \n",
      " 1   qid1          404290 non-null  int64 \n",
      " 2   qid2          404290 non-null  int64 \n",
      " 3   question1     404289 non-null  object\n",
      " 4   question2     404288 non-null  object\n",
      " 5   is_duplicate  404290 non-null  int64 \n",
      "dtypes: int64(4), object(2)\n",
      "memory usage: 18.5+ MB\n"
     ]
    }
   ],
   "source": [
    "train.info()"
   ]
  },
  {
   "cell_type": "code",
   "execution_count": 6,
   "id": "ab9ad243",
   "metadata": {
    "execution": {
     "iopub.execute_input": "2022-11-07T14:35:59.122603Z",
     "iopub.status.busy": "2022-11-07T14:35:59.121608Z",
     "iopub.status.idle": "2022-11-07T14:35:59.192328Z",
     "shell.execute_reply": "2022-11-07T14:35:59.191163Z"
    },
    "papermill": {
     "duration": 0.087518,
     "end_time": "2022-11-07T14:35:59.195206",
     "exception": false,
     "start_time": "2022-11-07T14:35:59.107688",
     "status": "completed"
    },
    "tags": []
   },
   "outputs": [
    {
     "data": {
      "text/plain": [
       "id              0\n",
       "qid1            0\n",
       "qid2            0\n",
       "question1       1\n",
       "question2       2\n",
       "is_duplicate    0\n",
       "dtype: int64"
      ]
     },
     "execution_count": 6,
     "metadata": {},
     "output_type": "execute_result"
    }
   ],
   "source": [
    "# null values in complete dataset\n",
    "train.isnull().sum()"
   ]
  },
  {
   "cell_type": "code",
   "execution_count": 7,
   "id": "0ff2ffb5",
   "metadata": {
    "execution": {
     "iopub.execute_input": "2022-11-07T14:35:59.223932Z",
     "iopub.status.busy": "2022-11-07T14:35:59.223501Z",
     "iopub.status.idle": "2022-11-07T14:35:59.265096Z",
     "shell.execute_reply": "2022-11-07T14:35:59.263848Z"
    },
    "papermill": {
     "duration": 0.058714,
     "end_time": "2022-11-07T14:35:59.267826",
     "exception": false,
     "start_time": "2022-11-07T14:35:59.209112",
     "status": "completed"
    },
    "tags": []
   },
   "outputs": [
    {
     "data": {
      "text/html": [
       "<div>\n",
       "<style scoped>\n",
       "    .dataframe tbody tr th:only-of-type {\n",
       "        vertical-align: middle;\n",
       "    }\n",
       "\n",
       "    .dataframe tbody tr th {\n",
       "        vertical-align: top;\n",
       "    }\n",
       "\n",
       "    .dataframe thead th {\n",
       "        text-align: right;\n",
       "    }\n",
       "</style>\n",
       "<table border=\"1\" class=\"dataframe\">\n",
       "  <thead>\n",
       "    <tr style=\"text-align: right;\">\n",
       "      <th></th>\n",
       "      <th>id</th>\n",
       "      <th>qid1</th>\n",
       "      <th>qid2</th>\n",
       "      <th>question1</th>\n",
       "      <th>question2</th>\n",
       "      <th>is_duplicate</th>\n",
       "    </tr>\n",
       "  </thead>\n",
       "  <tbody>\n",
       "    <tr>\n",
       "      <th>363362</th>\n",
       "      <td>363362</td>\n",
       "      <td>493340</td>\n",
       "      <td>493341</td>\n",
       "      <td>NaN</td>\n",
       "      <td>My Chinese name is Haichao Yu. What English na...</td>\n",
       "      <td>0</td>\n",
       "    </tr>\n",
       "  </tbody>\n",
       "</table>\n",
       "</div>"
      ],
      "text/plain": [
       "            id    qid1    qid2 question1  \\\n",
       "363362  363362  493340  493341       NaN   \n",
       "\n",
       "                                                question2  is_duplicate  \n",
       "363362  My Chinese name is Haichao Yu. What English na...             0  "
      ]
     },
     "execution_count": 7,
     "metadata": {},
     "output_type": "execute_result"
    }
   ],
   "source": [
    "# Null value in question1\n",
    "train[train.question1.isnull()]"
   ]
  },
  {
   "cell_type": "code",
   "execution_count": 8,
   "id": "e816b1ae",
   "metadata": {
    "execution": {
     "iopub.execute_input": "2022-11-07T14:35:59.296374Z",
     "iopub.status.busy": "2022-11-07T14:35:59.295947Z",
     "iopub.status.idle": "2022-11-07T14:35:59.342479Z",
     "shell.execute_reply": "2022-11-07T14:35:59.340729Z"
    },
    "papermill": {
     "duration": 0.064025,
     "end_time": "2022-11-07T14:35:59.345576",
     "exception": false,
     "start_time": "2022-11-07T14:35:59.281551",
     "status": "completed"
    },
    "tags": []
   },
   "outputs": [
    {
     "data": {
      "text/html": [
       "<div>\n",
       "<style scoped>\n",
       "    .dataframe tbody tr th:only-of-type {\n",
       "        vertical-align: middle;\n",
       "    }\n",
       "\n",
       "    .dataframe tbody tr th {\n",
       "        vertical-align: top;\n",
       "    }\n",
       "\n",
       "    .dataframe thead th {\n",
       "        text-align: right;\n",
       "    }\n",
       "</style>\n",
       "<table border=\"1\" class=\"dataframe\">\n",
       "  <thead>\n",
       "    <tr style=\"text-align: right;\">\n",
       "      <th></th>\n",
       "      <th>id</th>\n",
       "      <th>qid1</th>\n",
       "      <th>qid2</th>\n",
       "      <th>question1</th>\n",
       "      <th>question2</th>\n",
       "      <th>is_duplicate</th>\n",
       "    </tr>\n",
       "  </thead>\n",
       "  <tbody>\n",
       "    <tr>\n",
       "      <th>105780</th>\n",
       "      <td>105780</td>\n",
       "      <td>174363</td>\n",
       "      <td>174364</td>\n",
       "      <td>How can I develop android app?</td>\n",
       "      <td>NaN</td>\n",
       "      <td>0</td>\n",
       "    </tr>\n",
       "    <tr>\n",
       "      <th>201841</th>\n",
       "      <td>201841</td>\n",
       "      <td>303951</td>\n",
       "      <td>174364</td>\n",
       "      <td>How can I create an Android app?</td>\n",
       "      <td>NaN</td>\n",
       "      <td>0</td>\n",
       "    </tr>\n",
       "  </tbody>\n",
       "</table>\n",
       "</div>"
      ],
      "text/plain": [
       "            id    qid1    qid2                         question1 question2  \\\n",
       "105780  105780  174363  174364    How can I develop android app?       NaN   \n",
       "201841  201841  303951  174364  How can I create an Android app?       NaN   \n",
       "\n",
       "        is_duplicate  \n",
       "105780             0  \n",
       "201841             0  "
      ]
     },
     "execution_count": 8,
     "metadata": {},
     "output_type": "execute_result"
    }
   ],
   "source": [
    "# Null value in question2\n",
    "train[train.question2.isnull()]"
   ]
  },
  {
   "cell_type": "markdown",
   "id": "51a11198",
   "metadata": {
    "papermill": {
     "duration": 0.013341,
     "end_time": "2022-11-07T14:35:59.372615",
     "exception": false,
     "start_time": "2022-11-07T14:35:59.359274",
     "status": "completed"
    },
    "tags": []
   },
   "source": [
    "we already have lots of data so we can safely remove these 3 missing values "
   ]
  },
  {
   "cell_type": "code",
   "execution_count": 9,
   "id": "439cf05c",
   "metadata": {
    "execution": {
     "iopub.execute_input": "2022-11-07T14:35:59.403945Z",
     "iopub.status.busy": "2022-11-07T14:35:59.403472Z",
     "iopub.status.idle": "2022-11-07T14:35:59.530208Z",
     "shell.execute_reply": "2022-11-07T14:35:59.528860Z"
    },
    "papermill": {
     "duration": 0.144887,
     "end_time": "2022-11-07T14:35:59.532906",
     "exception": false,
     "start_time": "2022-11-07T14:35:59.388019",
     "status": "completed"
    },
    "tags": []
   },
   "outputs": [
    {
     "data": {
      "text/plain": [
       "(404287, 6)"
      ]
     },
     "execution_count": 9,
     "metadata": {},
     "output_type": "execute_result"
    }
   ],
   "source": [
    "#drop samples with missing values\n",
    "train.dropna(axis = 0, inplace = True)\n",
    "train.shape"
   ]
  },
  {
   "cell_type": "code",
   "execution_count": 10,
   "id": "95bc8527",
   "metadata": {
    "execution": {
     "iopub.execute_input": "2022-11-07T14:35:59.562932Z",
     "iopub.status.busy": "2022-11-07T14:35:59.561580Z",
     "iopub.status.idle": "2022-11-07T14:35:59.571291Z",
     "shell.execute_reply": "2022-11-07T14:35:59.569736Z"
    },
    "papermill": {
     "duration": 0.028231,
     "end_time": "2022-11-07T14:35:59.574248",
     "exception": false,
     "start_time": "2022-11-07T14:35:59.546017",
     "status": "completed"
    },
    "tags": []
   },
   "outputs": [
    {
     "data": {
      "text/plain": [
       "('Why is it irritating to rub your nails against a blackboard or a wall?',\n",
       " \"Is There any adverse effect on rubbing both hand's nails against each other ?\")"
      ]
     },
     "execution_count": 10,
     "metadata": {},
     "output_type": "execute_result"
    }
   ],
   "source": [
    "# Similar questions\n",
    "train['question1'].iloc[190123],train['question2'].iloc[190123]"
   ]
  },
  {
   "cell_type": "code",
   "execution_count": 11,
   "id": "8e435b22",
   "metadata": {
    "execution": {
     "iopub.execute_input": "2022-11-07T14:35:59.605789Z",
     "iopub.status.busy": "2022-11-07T14:35:59.605303Z",
     "iopub.status.idle": "2022-11-07T14:35:59.612938Z",
     "shell.execute_reply": "2022-11-07T14:35:59.611753Z"
    },
    "papermill": {
     "duration": 0.026665,
     "end_time": "2022-11-07T14:35:59.615671",
     "exception": false,
     "start_time": "2022-11-07T14:35:59.589006",
     "status": "completed"
    },
    "tags": []
   },
   "outputs": [
    {
     "data": {
      "text/plain": [
       "('What in our opinion are the top 5 best books of all time?',\n",
       " 'What are some of the best books ever written?')"
      ]
     },
     "execution_count": 11,
     "metadata": {},
     "output_type": "execute_result"
    }
   ],
   "source": [
    "# Similar questions\n",
    "train['question1'].iloc[95847],train['question2'].iloc[95847]"
   ]
  },
  {
   "cell_type": "code",
   "execution_count": 12,
   "id": "e68c0ade",
   "metadata": {
    "execution": {
     "iopub.execute_input": "2022-11-07T14:35:59.648453Z",
     "iopub.status.busy": "2022-11-07T14:35:59.647593Z",
     "iopub.status.idle": "2022-11-07T14:35:59.656882Z",
     "shell.execute_reply": "2022-11-07T14:35:59.655292Z"
    },
    "papermill": {
     "duration": 0.030182,
     "end_time": "2022-11-07T14:35:59.660412",
     "exception": false,
     "start_time": "2022-11-07T14:35:59.630230",
     "status": "completed"
    },
    "tags": []
   },
   "outputs": [
    {
     "data": {
      "text/plain": [
       "('What are 3 things people can learn from Mashable?',\n",
       " \"What is the thing which you can't learn from a course?\")"
      ]
     },
     "execution_count": 12,
     "metadata": {},
     "output_type": "execute_result"
    }
   ],
   "source": [
    "# Different questions\n",
    "train['question1'].iloc[125695],train['question2'].iloc[125695]"
   ]
  },
  {
   "cell_type": "code",
   "execution_count": 13,
   "id": "e2016744",
   "metadata": {
    "execution": {
     "iopub.execute_input": "2022-11-07T14:35:59.690701Z",
     "iopub.status.busy": "2022-11-07T14:35:59.690292Z",
     "iopub.status.idle": "2022-11-07T14:35:59.933564Z",
     "shell.execute_reply": "2022-11-07T14:35:59.932527Z"
    },
    "papermill": {
     "duration": 0.26118,
     "end_time": "2022-11-07T14:35:59.936220",
     "exception": false,
     "start_time": "2022-11-07T14:35:59.675040",
     "status": "completed"
    },
    "tags": []
   },
   "outputs": [
    {
     "data": {
      "text/plain": [
       "<AxesSubplot:>"
      ]
     },
     "execution_count": 13,
     "metadata": {},
     "output_type": "execute_result"
    },
    {
     "data": {
      "image/png": "[encoded data removed]",
      "text/plain": [
       "<Figure size 432x288 with 1 Axes>"
      ]
     },
     "metadata": {
      "needs_background": "light"
     },
     "output_type": "display_data"
    }
   ],
   "source": [
    "# non duplicate and duplicate question count plot \n",
    "train['is_duplicate'].value_counts().plot.bar()"
   ]
  },
  {
   "cell_type": "code",
   "execution_count": 14,
   "id": "b39608c8",
   "metadata": {
    "execution": {
     "iopub.execute_input": "2022-11-07T14:35:59.966823Z",
     "iopub.status.busy": "2022-11-07T14:35:59.965664Z",
     "iopub.status.idle": "2022-11-07T14:36:01.075914Z",
     "shell.execute_reply": "2022-11-07T14:36:01.074629Z"
    },
    "papermill": {
     "duration": 1.127988,
     "end_time": "2022-11-07T14:36:01.078517",
     "exception": false,
     "start_time": "2022-11-07T14:35:59.950529",
     "status": "completed"
    },
    "tags": []
   },
   "outputs": [
    {
     "name": "stdout",
     "output_type": "stream",
     "text": [
      "No. of unique question ids :  537929\n",
      "No. of repeated questions :  111778\n",
      "No. of duplicate question pairs :  0\n"
     ]
    }
   ],
   "source": [
    "# Unique question ids in the dataset\n",
    "qid = pd.Series(train['qid1'].tolist()+train['qid2'].tolist())\n",
    "print(\"No. of unique question ids : \", len(np.unique(qid)))\n",
    "# Duplicate question ids in the dataset\n",
    "x = pd.Series(train['qid1'].tolist()+train['qid2'].tolist()).value_counts()>1\n",
    "print(\"No. of repeated questions : \",x[x].shape[0])\n",
    "\n",
    "# duplicate question pairs \n",
    "print(\"No. of duplicate question pairs : \",train.duplicated().sum())"
   ]
  },
  {
   "cell_type": "code",
   "execution_count": 15,
   "id": "43810e39",
   "metadata": {
    "execution": {
     "iopub.execute_input": "2022-11-07T14:36:01.108724Z",
     "iopub.status.busy": "2022-11-07T14:36:01.108300Z",
     "iopub.status.idle": "2022-11-07T14:36:01.131745Z",
     "shell.execute_reply": "2022-11-07T14:36:01.130265Z"
    },
    "papermill": {
     "duration": 0.042165,
     "end_time": "2022-11-07T14:36:01.134606",
     "exception": false,
     "start_time": "2022-11-07T14:36:01.092441",
     "status": "completed"
    },
    "tags": []
   },
   "outputs": [],
   "source": [
    "def preprocess(q):\n",
    "    \n",
    "    q = str(q).lower().strip()\n",
    "    \n",
    "    # Replace certain special characters with their string equivalents\n",
    "    q = q.replace('%', ' percent')\n",
    "    q = q.replace('$', ' dollar ')\n",
    "    q = q.replace('₹', ' rupee ')\n",
    "    q = q.replace('€', ' euro ')\n",
    "    q = q.replace('@', ' at ')\n",
    "    \n",
    "    # The pattern '[math]' appears around 900 times in the whole dataset.\n",
    "    q = q.replace('[math]', '')\n",
    "    \n",
    "    # Replacing some numbers with string equivalents (not perfect, can be done better to account for more cases)\n",
    "    q = q.replace(',000,000,000 ', 'b ')\n",
    "    q = q.replace(',000,000 ', 'm ')\n",
    "    q = q.replace(',000 ', 'k ')\n",
    "    q = re.sub(r'([0-9]+)000000000', r'\\1b', q)\n",
    "    q = re.sub(r'([0-9]+)000000', r'\\1m', q)\n",
    "    q = re.sub(r'([0-9]+)000', r'\\1k', q)\n",
    "    \n",
    "    # Decontracting words\n",
    "    # https://en.wikipedia.org/wiki/Wikipedia%3aList_of_English_contractions\n",
    "    # https://stackoverflow.com/a/19794953\n",
    "    contractions = { \n",
    "    \"ain't\": \"am not\",\n",
    "    \"aren't\": \"are not\",\n",
    "    \"can't\": \"can not\",\n",
    "    \"can't've\": \"can not have\",\n",
    "    \"'cause\": \"because\",\n",
    "    \"could've\": \"could have\",\n",
    "    \"couldn't\": \"could not\",\n",
    "    \"couldn't've\": \"could not have\",\n",
    "    \"didn't\": \"did not\",\n",
    "    \"doesn't\": \"does not\",\n",
    "    \"don't\": \"do not\",\n",
    "    \"hadn't\": \"had not\",\n",
    "    \"hadn't've\": \"had not have\",\n",
    "    \"hasn't\": \"has not\",\n",
    "    \"haven't\": \"have not\",\n",
    "    \"he'd\": \"he would\",\n",
    "    \"he'd've\": \"he would have\",\n",
    "    \"he'll\": \"he will\",\n",
    "    \"he'll've\": \"he will have\",\n",
    "    \"he's\": \"he is\",\n",
    "    \"how'd\": \"how did\",\n",
    "    \"how'd'y\": \"how do you\",\n",
    "    \"how'll\": \"how will\",\n",
    "    \"how's\": \"how is\",\n",
    "    \"i'd\": \"i would\",\n",
    "    \"i'd've\": \"i would have\",\n",
    "    \"i'll\": \"i will\",\n",
    "    \"i'll've\": \"i will have\",\n",
    "    \"i'm\": \"i am\",\n",
    "    \"i've\": \"i have\",\n",
    "    \"isn't\": \"is not\",\n",
    "    \"it'd\": \"it would\",\n",
    "    \"it'd've\": \"it would have\",\n",
    "    \"it'll\": \"it will\",\n",
    "    \"it'll've\": \"it will have\",\n",
    "    \"it's\": \"it is\",\n",
    "    \"let's\": \"let us\",\n",
    "    \"ma'am\": \"madam\",\n",
    "    \"mayn't\": \"may not\",\n",
    "    \"might've\": \"might have\",\n",
    "    \"mightn't\": \"might not\",\n",
    "    \"mightn't've\": \"might not have\",\n",
    "    \"must've\": \"must have\",\n",
    "    \"mustn't\": \"must not\",\n",
    "    \"mustn't've\": \"must not have\",\n",
    "    \"needn't\": \"need not\",\n",
    "    \"needn't've\": \"need not have\",\n",
    "    \"o'clock\": \"of the clock\",\n",
    "    \"oughtn't\": \"ought not\",\n",
    "    \"oughtn't've\": \"ought not have\",\n",
    "    \"shan't\": \"shall not\",\n",
    "    \"sha'n't\": \"shall not\",\n",
    "    \"shan't've\": \"shall not have\",\n",
    "    \"she'd\": \"she would\",\n",
    "    \"she'd've\": \"she would have\",\n",
    "    \"she'll\": \"she will\",\n",
    "    \"she'll've\": \"she will have\",\n",
    "    \"she's\": \"she is\",\n",
    "    \"should've\": \"should have\",\n",
    "    \"shouldn't\": \"should not\",\n",
    "    \"shouldn't've\": \"should not have\",\n",
    "    \"so've\": \"so have\",\n",
    "    \"so's\": \"so as\",\n",
    "    \"that'd\": \"that would\",\n",
    "    \"that'd've\": \"that would have\",\n",
    "    \"that's\": \"that is\",\n",
    "    \"there'd\": \"there would\",\n",
    "    \"there'd've\": \"there would have\",\n",
    "    \"there's\": \"there is\",\n",
    "    \"they'd\": \"they would\",\n",
    "    \"they'd've\": \"they would have\",\n",
    "    \"they'll\": \"they will\",\n",
    "    \"they'll've\": \"they will have\",\n",
    "    \"they're\": \"they are\",\n",
    "    \"they've\": \"they have\",\n",
    "    \"to've\": \"to have\",\n",
    "    \"wasn't\": \"was not\",\n",
    "    \"we'd\": \"we would\",\n",
    "    \"we'd've\": \"we would have\",\n",
    "    \"we'll\": \"we will\",\n",
    "    \"we'll've\": \"we will have\",\n",
    "    \"we're\": \"we are\",\n",
    "    \"we've\": \"we have\",\n",
    "    \"weren't\": \"were not\",\n",
    "    \"what'll\": \"what will\",\n",
    "    \"what'll've\": \"what will have\",\n",
    "    \"what're\": \"what are\",\n",
    "    \"what's\": \"what is\",\n",
    "    \"what've\": \"what have\",\n",
    "    \"when's\": \"when is\",\n",
    "    \"when've\": \"when have\",\n",
    "    \"where'd\": \"where did\",\n",
    "    \"where's\": \"where is\",\n",
    "    \"where've\": \"where have\",\n",
    "    \"who'll\": \"who will\",\n",
    "    \"who'll've\": \"who will have\",\n",
    "    \"who's\": \"who is\",\n",
    "    \"who've\": \"who have\",\n",
    "    \"why's\": \"why is\",\n",
    "    \"why've\": \"why have\",\n",
    "    \"will've\": \"will have\",\n",
    "    \"won't\": \"will not\",\n",
    "    \"won't've\": \"will not have\",\n",
    "    \"would've\": \"would have\",\n",
    "    \"wouldn't\": \"would not\",\n",
    "    \"wouldn't've\": \"would not have\",\n",
    "    \"y'all\": \"you all\",\n",
    "    \"y'all'd\": \"you all would\",\n",
    "    \"y'all'd've\": \"you all would have\",\n",
    "    \"y'all're\": \"you all are\",\n",
    "    \"y'all've\": \"you all have\",\n",
    "    \"you'd\": \"you would\",\n",
    "    \"you'd've\": \"you would have\",\n",
    "    \"you'll\": \"you will\",\n",
    "    \"you'll've\": \"you will have\",\n",
    "    \"you're\": \"you are\",\n",
    "    \"you've\": \"you have\"\n",
    "    }\n",
    "\n",
    "    q_decontracted = []\n",
    "\n",
    "    for word in q.split():\n",
    "        if word in contractions:\n",
    "            word = contractions[word]\n",
    "\n",
    "        q_decontracted.append(word)\n",
    "\n",
    "    q = ' '.join(q_decontracted)\n",
    "    q = q.replace(\"'ve\", \" have\")\n",
    "    q = q.replace(\"n't\", \" not\")\n",
    "    q = q.replace(\"'re\", \" are\")\n",
    "    q = q.replace(\"'ll\", \" will\")\n",
    "    \n",
    "    # Removing HTML tags\n",
    "    q = BeautifulSoup(q)\n",
    "    q = q.get_text()\n",
    "    \n",
    "    # Remove punctuations\n",
    "    pattern = re.compile('\\W')\n",
    "    q = re.sub(pattern, ' ', q).strip()\n",
    "\n",
    "    \n",
    "    return q"
   ]
  },
  {
   "cell_type": "code",
   "execution_count": 16,
   "id": "7b07b8f0",
   "metadata": {
    "execution": {
     "iopub.execute_input": "2022-11-07T14:36:01.164867Z",
     "iopub.status.busy": "2022-11-07T14:36:01.164353Z",
     "iopub.status.idle": "2022-11-07T14:39:58.776281Z",
     "shell.execute_reply": "2022-11-07T14:39:58.774488Z"
    },
    "papermill": {
     "duration": 237.646258,
     "end_time": "2022-11-07T14:39:58.794821",
     "exception": false,
     "start_time": "2022-11-07T14:36:01.148563",
     "status": "completed"
    },
    "tags": []
   },
   "outputs": [
    {
     "name": "stderr",
     "output_type": "stream",
     "text": [
      "/opt/conda/lib/python3.7/site-packages/bs4/__init__.py:439: MarkupResemblesLocatorWarning: The input looks more like a filename than markup. You may want to open this file and pass the filehandle into Beautiful Soup.\n",
      "  MarkupResemblesLocatorWarning\n"
     ]
    },
    {
     "name": "stdout",
     "output_type": "stream",
     "text": [
      "CPU times: user 3min 57s, sys: 674 ms, total: 3min 57s\n",
      "Wall time: 3min 57s\n"
     ]
    }
   ],
   "source": [
    "%%time\n",
    "train['question1'] = train['question1'].apply(preprocess)\n",
    "train['question2'] = train['question2'].apply(preprocess)"
   ]
  },
  {
   "cell_type": "code",
   "execution_count": 17,
   "id": "6ddfc48f",
   "metadata": {
    "execution": {
     "iopub.execute_input": "2022-11-07T14:39:58.836068Z",
     "iopub.status.busy": "2022-11-07T14:39:58.835490Z",
     "iopub.status.idle": "2022-11-07T14:39:58.840187Z",
     "shell.execute_reply": "2022-11-07T14:39:58.839056Z"
    },
    "papermill": {
     "duration": 0.030478,
     "end_time": "2022-11-07T14:39:58.843021",
     "exception": false,
     "start_time": "2022-11-07T14:39:58.812543",
     "status": "completed"
    },
    "tags": []
   },
   "outputs": [],
   "source": [
    "# train = train.head(50000)"
   ]
  },
  {
   "cell_type": "code",
   "execution_count": 20,
   "id": "ccecd2c2",
   "metadata": {
    "execution": {
     "iopub.execute_input": "2022-11-07T14:40:02.306228Z",
     "iopub.status.busy": "2022-11-07T14:40:02.304954Z",
     "iopub.status.idle": "2022-11-07T14:40:02.336090Z",
     "shell.execute_reply": "2022-11-07T14:40:02.334878Z"
    },
    "papermill": {
     "duration": 0.052197,
     "end_time": "2022-11-07T14:40:02.339327",
     "exception": false,
     "start_time": "2022-11-07T14:40:02.287130",
     "status": "completed"
    },
    "tags": []
   },
   "outputs": [
    {
     "data": {
      "text/html": [
       "<div>\n",
       "<style scoped>\n",
       "    .dataframe tbody tr th:only-of-type {\n",
       "        vertical-align: middle;\n",
       "    }\n",
       "\n",
       "    .dataframe tbody tr th {\n",
       "        vertical-align: top;\n",
       "    }\n",
       "\n",
       "    .dataframe thead th {\n",
       "        text-align: right;\n",
       "    }\n",
       "</style>\n",
       "<table border=\"1\" class=\"dataframe\">\n",
       "  <thead>\n",
       "    <tr style=\"text-align: right;\">\n",
       "      <th></th>\n",
       "      <th>question1</th>\n",
       "      <th>question2</th>\n",
       "    </tr>\n",
       "  </thead>\n",
       "  <tbody>\n",
       "    <tr>\n",
       "      <th>0</th>\n",
       "      <td>what is the step by step guide to invest in sh...</td>\n",
       "      <td>what is the step by step guide to invest in sh...</td>\n",
       "    </tr>\n",
       "    <tr>\n",
       "      <th>1</th>\n",
       "      <td>what is the story of kohinoor  koh i noor  dia...</td>\n",
       "      <td>what would happen if the indian government sto...</td>\n",
       "    </tr>\n",
       "    <tr>\n",
       "      <th>2</th>\n",
       "      <td>how can i increase the speed of my internet co...</td>\n",
       "      <td>how can internet speed be increased by hacking...</td>\n",
       "    </tr>\n",
       "    <tr>\n",
       "      <th>3</th>\n",
       "      <td>why am i mentally very lonely  how can i solve it</td>\n",
       "      <td>find the remainder when 23  24   math  is divi...</td>\n",
       "    </tr>\n",
       "    <tr>\n",
       "      <th>4</th>\n",
       "      <td>which one dissolve in water quikly sugar  salt...</td>\n",
       "      <td>which fish would survive in salt water</td>\n",
       "    </tr>\n",
       "  </tbody>\n",
       "</table>\n",
       "</div>"
      ],
      "text/plain": [
       "                                           question1  \\\n",
       "0  what is the step by step guide to invest in sh...   \n",
       "1  what is the story of kohinoor  koh i noor  dia...   \n",
       "2  how can i increase the speed of my internet co...   \n",
       "3  why am i mentally very lonely  how can i solve it   \n",
       "4  which one dissolve in water quikly sugar  salt...   \n",
       "\n",
       "                                           question2  \n",
       "0  what is the step by step guide to invest in sh...  \n",
       "1  what would happen if the indian government sto...  \n",
       "2  how can internet speed be increased by hacking...  \n",
       "3  find the remainder when 23  24   math  is divi...  \n",
       "4             which fish would survive in salt water  "
      ]
     },
     "execution_count": 20,
     "metadata": {},
     "output_type": "execute_result"
    }
   ],
   "source": [
    "# only question1 and question2 extracted from dataframe\n",
    "ques_df = train[['question1','question2']]\n",
    "ques_df.head()"
   ]
  },
  {
   "cell_type": "code",
   "execution_count": 21,
   "id": "979c9f3a",
   "metadata": {
    "execution": {
     "iopub.execute_input": "2022-11-07T14:40:02.371806Z",
     "iopub.status.busy": "2022-11-07T14:40:02.371391Z",
     "iopub.status.idle": "2022-11-07T14:40:02.445340Z",
     "shell.execute_reply": "2022-11-07T14:40:02.444087Z"
    },
    "papermill": {
     "duration": 0.093032,
     "end_time": "2022-11-07T14:40:02.447993",
     "exception": false,
     "start_time": "2022-11-07T14:40:02.354961",
     "status": "completed"
    },
    "tags": []
   },
   "outputs": [
    {
     "name": "stdout",
     "output_type": "stream",
     "text": [
      "<class 'pandas.core.frame.DataFrame'>\n",
      "RangeIndex: 404287 entries, 0 to 404286\n",
      "Data columns (total 2 columns):\n",
      " #   Column     Non-Null Count   Dtype \n",
      "---  ------     --------------   ----- \n",
      " 0   question1  404272 non-null  object\n",
      " 1   question2  404278 non-null  object\n",
      "dtypes: object(2)\n",
      "memory usage: 6.2+ MB\n"
     ]
    }
   ],
   "source": [
    "ques_df.info()"
   ]
  },
  {
   "cell_type": "code",
   "execution_count": 22,
   "id": "42d74a7b",
   "metadata": {
    "execution": {
     "iopub.execute_input": "2022-11-07T14:40:02.479851Z",
     "iopub.status.busy": "2022-11-07T14:40:02.479087Z",
     "iopub.status.idle": "2022-11-07T14:40:03.829025Z",
     "shell.execute_reply": "2022-11-07T14:40:03.827575Z"
    },
    "papermill": {
     "duration": 1.369164,
     "end_time": "2022-11-07T14:40:03.831721",
     "exception": false,
     "start_time": "2022-11-07T14:40:02.462557",
     "status": "completed"
    },
    "tags": []
   },
   "outputs": [
    {
     "name": "stderr",
     "output_type": "stream",
     "text": [
      "/opt/conda/lib/python3.7/site-packages/ipykernel_launcher.py:2: SettingWithCopyWarning: \n",
      "A value is trying to be set on a copy of a slice from a DataFrame.\n",
      "Try using .loc[row_indexer,col_indexer] = value instead\n",
      "\n",
      "See the caveats in the documentation: https://pandas.pydata.org/pandas-docs/stable/user_guide/indexing.html#returning-a-view-versus-a-copy\n",
      "  \n"
     ]
    },
    {
     "name": "stdout",
     "output_type": "stream",
     "text": [
      "CPU times: user 693 ms, sys: 192 ms, total: 885 ms\n",
      "Wall time: 1.34 s\n"
     ]
    },
    {
     "name": "stderr",
     "output_type": "stream",
     "text": [
      "/opt/conda/lib/python3.7/site-packages/ipykernel_launcher.py:3: SettingWithCopyWarning: \n",
      "A value is trying to be set on a copy of a slice from a DataFrame.\n",
      "Try using .loc[row_indexer,col_indexer] = value instead\n",
      "\n",
      "See the caveats in the documentation: https://pandas.pydata.org/pandas-docs/stable/user_guide/indexing.html#returning-a-view-versus-a-copy\n",
      "  This is separate from the ipykernel package so we can avoid doing imports until\n"
     ]
    }
   ],
   "source": [
    "%%time\n",
    "from nltk.tokenize import word_tokenize\n",
    "ques_df['question1'] = ques_df['question1'].apply(lambda x : str(x).lower())\n",
    "ques_df['question2'] = ques_df['question2'].apply(lambda x : str(x).lower())\n",
    "# ques_df['question1_token'] = ques_df['question1'].apply(lambda x : word_tokenize(x))\n",
    "# ques_df['question2_token'] = ques_df['question2'].apply(lambda x : word_tokenize(x))\n",
    "# for word in ques_df['question1_token'].loc[169329]:\n",
    "#     if word.isalpha():\n",
    "#         print(\"alpha :\", word)\n",
    "#     else :\n",
    "#         print(\"non alpha :\", word)"
   ]
  },
  {
   "cell_type": "code",
   "execution_count": 23,
   "id": "f59c34fc",
   "metadata": {
    "execution": {
     "iopub.execute_input": "2022-11-07T14:40:03.865652Z",
     "iopub.status.busy": "2022-11-07T14:40:03.865215Z",
     "iopub.status.idle": "2022-11-07T14:40:03.869714Z",
     "shell.execute_reply": "2022-11-07T14:40:03.868824Z"
    },
    "papermill": {
     "duration": 0.024107,
     "end_time": "2022-11-07T14:40:03.871945",
     "exception": false,
     "start_time": "2022-11-07T14:40:03.847838",
     "status": "completed"
    },
    "tags": []
   },
   "outputs": [],
   "source": [
    "# %%time\n",
    "# vocab = Counter()\n",
    "# for line in ques_df['question1_token']:\n",
    "#     vocab.update(line)\n",
    "# for line in ques_df['question2_token']:\n",
    "#     vocab.update(line)"
   ]
  },
  {
   "cell_type": "code",
   "execution_count": 24,
   "id": "fc4e2fd4",
   "metadata": {
    "execution": {
     "iopub.execute_input": "2022-11-07T14:40:03.903348Z",
     "iopub.status.busy": "2022-11-07T14:40:03.902938Z",
     "iopub.status.idle": "2022-11-07T14:40:03.907830Z",
     "shell.execute_reply": "2022-11-07T14:40:03.906537Z"
    },
    "papermill": {
     "duration": 0.023261,
     "end_time": "2022-11-07T14:40:03.910156",
     "exception": false,
     "start_time": "2022-11-07T14:40:03.886895",
     "status": "completed"
    },
    "tags": []
   },
   "outputs": [],
   "source": [
    "# len(vocab)"
   ]
  },
  {
   "cell_type": "code",
   "execution_count": 25,
   "id": "c39cddac",
   "metadata": {
    "execution": {
     "iopub.execute_input": "2022-11-07T14:40:03.941900Z",
     "iopub.status.busy": "2022-11-07T14:40:03.941438Z",
     "iopub.status.idle": "2022-11-07T14:40:03.946358Z",
     "shell.execute_reply": "2022-11-07T14:40:03.945088Z"
    },
    "papermill": {
     "duration": 0.023135,
     "end_time": "2022-11-07T14:40:03.948628",
     "exception": false,
     "start_time": "2022-11-07T14:40:03.925493",
     "status": "completed"
    },
    "tags": []
   },
   "outputs": [],
   "source": [
    "# for key, val in vocab.items():\n",
    "#     if key.isalpha()!=True:\n",
    "#         print(key, \" \", val)\n",
    "        "
   ]
  },
  {
   "cell_type": "code",
   "execution_count": 26,
   "id": "632e3580",
   "metadata": {
    "execution": {
     "iopub.execute_input": "2022-11-07T14:40:03.979831Z",
     "iopub.status.busy": "2022-11-07T14:40:03.979391Z",
     "iopub.status.idle": "2022-11-07T14:40:03.984506Z",
     "shell.execute_reply": "2022-11-07T14:40:03.983476Z"
    },
    "papermill": {
     "duration": 0.02345,
     "end_time": "2022-11-07T14:40:03.986802",
     "exception": false,
     "start_time": "2022-11-07T14:40:03.963352",
     "status": "completed"
    },
    "tags": []
   },
   "outputs": [],
   "source": [
    "# vocab\n",
    "# sorted(vocab.items(), key=lambda item: item[1])"
   ]
  },
  {
   "cell_type": "code",
   "execution_count": null,
   "id": "914eb3c6",
   "metadata": {
    "papermill": {
     "duration": 0.014361,
     "end_time": "2022-11-07T14:40:04.016176",
     "exception": false,
     "start_time": "2022-11-07T14:40:04.001815",
     "status": "completed"
    },
    "tags": []
   },
   "outputs": [],
   "source": []
  },
  {
   "cell_type": "code",
   "execution_count": 27,
   "id": "9327f5bf",
   "metadata": {
    "execution": {
     "iopub.execute_input": "2022-11-07T14:40:04.047623Z",
     "iopub.status.busy": "2022-11-07T14:40:04.047184Z",
     "iopub.status.idle": "2022-11-07T14:40:04.149593Z",
     "shell.execute_reply": "2022-11-07T14:40:04.148561Z"
    },
    "papermill": {
     "duration": 0.120991,
     "end_time": "2022-11-07T14:40:04.152195",
     "exception": false,
     "start_time": "2022-11-07T14:40:04.031204",
     "status": "completed"
    },
    "tags": []
   },
   "outputs": [
    {
     "name": "stdout",
     "output_type": "stream",
     "text": [
      "CPU times: user 94 ms, sys: 1.01 ms, total: 95 ms\n",
      "Wall time: 94.2 ms\n"
     ]
    }
   ],
   "source": [
    "%%time\n",
    "# to implement bag of words\n",
    "from sklearn.feature_extraction.text import CountVectorizer\n",
    "\n",
    "# merge texts\n",
    "questions = list(ques_df['question1']) + list(ques_df['question2'])\n",
    "\n",
    "# max_feature is 3000 because keeping all features causing notebook crash due to limited RAM size \n",
    "cv = CountVectorizer()\n",
    "\n",
    "# vsplit function split an array into multiple sub-arrays vertically (row-wise).\n"
   ]
  },
  {
   "cell_type": "code",
   "execution_count": 28,
   "id": "4cc27204",
   "metadata": {
    "execution": {
     "iopub.execute_input": "2022-11-07T14:40:04.183345Z",
     "iopub.status.busy": "2022-11-07T14:40:04.182930Z",
     "iopub.status.idle": "2022-11-07T14:40:14.202424Z",
     "shell.execute_reply": "2022-11-07T14:40:14.201012Z"
    },
    "papermill": {
     "duration": 10.037813,
     "end_time": "2022-11-07T14:40:14.204807",
     "exception": false,
     "start_time": "2022-11-07T14:40:04.166994",
     "status": "completed"
    },
    "tags": []
   },
   "outputs": [
    {
     "name": "stdout",
     "output_type": "stream",
     "text": [
      "CPU times: user 9.75 s, sys: 251 ms, total: 10 s\n",
      "Wall time: 10 s\n"
     ]
    }
   ],
   "source": [
    "%%time\n",
    "q = cv.fit_transform(questions)"
   ]
  },
  {
   "cell_type": "code",
   "execution_count": 29,
   "id": "1988140c",
   "metadata": {
    "execution": {
     "iopub.execute_input": "2022-11-07T14:40:14.237679Z",
     "iopub.status.busy": "2022-11-07T14:40:14.236439Z",
     "iopub.status.idle": "2022-11-07T14:40:14.329244Z",
     "shell.execute_reply": "2022-11-07T14:40:14.327993Z"
    },
    "papermill": {
     "duration": 0.112422,
     "end_time": "2022-11-07T14:40:14.331988",
     "exception": false,
     "start_time": "2022-11-07T14:40:14.219566",
     "status": "completed"
    },
    "tags": []
   },
   "outputs": [],
   "source": [
    "q1_arr = q[:(q.shape[0]//2),]"
   ]
  },
  {
   "cell_type": "code",
   "execution_count": 30,
   "id": "f923e1f1",
   "metadata": {
    "execution": {
     "iopub.execute_input": "2022-11-07T14:40:14.366383Z",
     "iopub.status.busy": "2022-11-07T14:40:14.365655Z",
     "iopub.status.idle": "2022-11-07T14:40:14.447447Z",
     "shell.execute_reply": "2022-11-07T14:40:14.446258Z"
    },
    "papermill": {
     "duration": 0.102214,
     "end_time": "2022-11-07T14:40:14.450281",
     "exception": false,
     "start_time": "2022-11-07T14:40:14.348067",
     "status": "completed"
    },
    "tags": []
   },
   "outputs": [],
   "source": [
    "q2_arr = q[(q.shape[0]//2):,]"
   ]
  },
  {
   "cell_type": "code",
   "execution_count": 31,
   "id": "de67d678",
   "metadata": {
    "execution": {
     "iopub.execute_input": "2022-11-07T14:40:14.481252Z",
     "iopub.status.busy": "2022-11-07T14:40:14.480842Z",
     "iopub.status.idle": "2022-11-07T14:40:14.488595Z",
     "shell.execute_reply": "2022-11-07T14:40:14.487507Z"
    },
    "papermill": {
     "duration": 0.025722,
     "end_time": "2022-11-07T14:40:14.490730",
     "exception": false,
     "start_time": "2022-11-07T14:40:14.465008",
     "status": "completed"
    },
    "tags": []
   },
   "outputs": [
    {
     "data": {
      "text/plain": [
       "808574"
      ]
     },
     "execution_count": 31,
     "metadata": {},
     "output_type": "execute_result"
    }
   ],
   "source": [
    "q1_arr.shape[0]+q2_arr.shape[0]"
   ]
  },
  {
   "cell_type": "code",
   "execution_count": 32,
   "id": "8d009a80",
   "metadata": {
    "execution": {
     "iopub.execute_input": "2022-11-07T14:40:14.522836Z",
     "iopub.status.busy": "2022-11-07T14:40:14.522155Z",
     "iopub.status.idle": "2022-11-07T14:40:14.528433Z",
     "shell.execute_reply": "2022-11-07T14:40:14.527596Z"
    },
    "papermill": {
     "duration": 0.024631,
     "end_time": "2022-11-07T14:40:14.530639",
     "exception": false,
     "start_time": "2022-11-07T14:40:14.506008",
     "status": "completed"
    },
    "tags": []
   },
   "outputs": [
    {
     "data": {
      "text/plain": [
       "((404287, 86152), (404287, 86152))"
      ]
     },
     "execution_count": 32,
     "metadata": {},
     "output_type": "execute_result"
    }
   ],
   "source": [
    "q1_arr.shape, q2_arr.shape"
   ]
  },
  {
   "cell_type": "code",
   "execution_count": 33,
   "id": "53cbb23d",
   "metadata": {
    "execution": {
     "iopub.execute_input": "2022-11-07T14:40:14.562478Z",
     "iopub.status.busy": "2022-11-07T14:40:14.561805Z",
     "iopub.status.idle": "2022-11-07T14:40:14.834967Z",
     "shell.execute_reply": "2022-11-07T14:40:14.833696Z"
    },
    "papermill": {
     "duration": 0.292276,
     "end_time": "2022-11-07T14:40:14.837743",
     "exception": false,
     "start_time": "2022-11-07T14:40:14.545467",
     "status": "completed"
    },
    "tags": []
   },
   "outputs": [],
   "source": [
    "from scipy.sparse import hstack\n",
    "q_arr = hstack((q1_arr, q2_arr))"
   ]
  },
  {
   "cell_type": "code",
   "execution_count": 34,
   "id": "0865a948",
   "metadata": {
    "execution": {
     "iopub.execute_input": "2022-11-07T14:40:14.869114Z",
     "iopub.status.busy": "2022-11-07T14:40:14.868649Z",
     "iopub.status.idle": "2022-11-07T14:40:14.875812Z",
     "shell.execute_reply": "2022-11-07T14:40:14.874674Z"
    },
    "papermill": {
     "duration": 0.025519,
     "end_time": "2022-11-07T14:40:14.878098",
     "exception": false,
     "start_time": "2022-11-07T14:40:14.852579",
     "status": "completed"
    },
    "tags": []
   },
   "outputs": [
    {
     "data": {
      "text/plain": [
       "(404287, 172304)"
      ]
     },
     "execution_count": 34,
     "metadata": {},
     "output_type": "execute_result"
    }
   ],
   "source": [
    "q_arr.shape"
   ]
  },
  {
   "cell_type": "code",
   "execution_count": 35,
   "id": "25690ef4",
   "metadata": {
    "execution": {
     "iopub.execute_input": "2022-11-07T14:40:14.909858Z",
     "iopub.status.busy": "2022-11-07T14:40:14.909399Z",
     "iopub.status.idle": "2022-11-07T14:40:14.913783Z",
     "shell.execute_reply": "2022-11-07T14:40:14.912848Z"
    },
    "papermill": {
     "duration": 0.023033,
     "end_time": "2022-11-07T14:40:14.916067",
     "exception": false,
     "start_time": "2022-11-07T14:40:14.893034",
     "status": "completed"
    },
    "tags": []
   },
   "outputs": [],
   "source": [
    "# %%time\n",
    "# q1_arr, q2_arr = np.vsplit(cv.fit_transform(questions).toarray(),2)"
   ]
  },
  {
   "cell_type": "code",
   "execution_count": 36,
   "id": "17948a33",
   "metadata": {
    "execution": {
     "iopub.execute_input": "2022-11-07T14:40:14.948649Z",
     "iopub.status.busy": "2022-11-07T14:40:14.947653Z",
     "iopub.status.idle": "2022-11-07T14:40:14.952404Z",
     "shell.execute_reply": "2022-11-07T14:40:14.951356Z"
    },
    "papermill": {
     "duration": 0.023486,
     "end_time": "2022-11-07T14:40:14.954682",
     "exception": false,
     "start_time": "2022-11-07T14:40:14.931196",
     "status": "completed"
    },
    "tags": []
   },
   "outputs": [],
   "source": [
    "# %%time\n",
    "# # numpy to data frame conversion to concate the data coulm wise(side by side)\n",
    "# temp_df1 = pd.DataFrame(q1_arr, index= ques_df.index)\n",
    "# temp_df2 = pd.DataFrame(q2_arr, index= ques_df.index)\n",
    "# del q1_arr, q2_arr "
   ]
  },
  {
   "cell_type": "code",
   "execution_count": 37,
   "id": "56364ede",
   "metadata": {
    "execution": {
     "iopub.execute_input": "2022-11-07T14:40:14.986479Z",
     "iopub.status.busy": "2022-11-07T14:40:14.985816Z",
     "iopub.status.idle": "2022-11-07T14:40:14.990268Z",
     "shell.execute_reply": "2022-11-07T14:40:14.989153Z"
    },
    "papermill": {
     "duration": 0.023485,
     "end_time": "2022-11-07T14:40:14.993014",
     "exception": false,
     "start_time": "2022-11-07T14:40:14.969529",
     "status": "completed"
    },
    "tags": []
   },
   "outputs": [],
   "source": [
    "\n",
    "\n",
    "\n",
    "# temp_df = pd.concat([temp_df1, temp_df2], axis=1)\n",
    "# del temp_df1, temp_df2\n",
    "# temp_df.shape\n",
    "# temp_df['is_duplicate'] = new_df['is_duplicate']"
   ]
  },
  {
   "cell_type": "code",
   "execution_count": 38,
   "id": "379c3eb1",
   "metadata": {
    "execution": {
     "iopub.execute_input": "2022-11-07T14:40:15.024532Z",
     "iopub.status.busy": "2022-11-07T14:40:15.024120Z",
     "iopub.status.idle": "2022-11-07T14:40:15.511804Z",
     "shell.execute_reply": "2022-11-07T14:40:15.510540Z"
    },
    "papermill": {
     "duration": 0.506808,
     "end_time": "2022-11-07T14:40:15.514718",
     "exception": false,
     "start_time": "2022-11-07T14:40:15.007910",
     "status": "completed"
    },
    "tags": []
   },
   "outputs": [],
   "source": [
    "# train test split, 20% data for testing \n",
    "from sklearn.model_selection import train_test_split\n",
    "# X_train,X_test,y_train,y_test = train_test_split(temp_df.iloc[:,0:-1].values,temp_df.iloc[:,-1].values,test_size=0.2,random_state=1)\n",
    "X_train,X_test,y_train,y_test = train_test_split(q_arr,new_df['is_duplicate'],test_size=0.2,random_state=1)"
   ]
  },
  {
   "cell_type": "code",
   "execution_count": 39,
   "id": "edba0dd5",
   "metadata": {
    "execution": {
     "iopub.execute_input": "2022-11-07T14:40:15.547299Z",
     "iopub.status.busy": "2022-11-07T14:40:15.546571Z",
     "iopub.status.idle": "2022-11-07T14:40:35.343092Z",
     "shell.execute_reply": "2022-11-07T14:40:35.341924Z"
    },
    "papermill": {
     "duration": 19.817986,
     "end_time": "2022-11-07T14:40:35.347664",
     "exception": false,
     "start_time": "2022-11-07T14:40:15.529678",
     "status": "completed"
    },
    "tags": []
   },
   "outputs": [
    {
     "name": "stdout",
     "output_type": "stream",
     "text": [
      "CPU times: user 39.6 s, sys: 34.9 s, total: 1min 14s\n",
      "Wall time: 19.8 s\n"
     ]
    },
    {
     "name": "stderr",
     "output_type": "stream",
     "text": [
      "/opt/conda/lib/python3.7/site-packages/sklearn/linear_model/_logistic.py:818: ConvergenceWarning: lbfgs failed to converge (status=1):\n",
      "STOP: TOTAL NO. of ITERATIONS REACHED LIMIT.\n",
      "\n",
      "Increase the number of iterations (max_iter) or scale the data as shown in:\n",
      "    https://scikit-learn.org/stable/modules/preprocessing.html\n",
      "Please also refer to the documentation for alternative solver options:\n",
      "    https://scikit-learn.org/stable/modules/linear_model.html#logistic-regression\n",
      "  extra_warning_msg=_LOGISTIC_SOLVER_CONVERGENCE_MSG,\n"
     ]
    },
    {
     "data": {
      "text/plain": [
       "0.7507234905637042"
      ]
     },
     "execution_count": 39,
     "metadata": {},
     "output_type": "execute_result"
    }
   ],
   "source": [
    "%%time\n",
    "# Logistic Regression\n",
    "from sklearn.linear_model import LogisticRegression\n",
    "from sklearn.metrics import accuracy_score\n",
    "lr = LogisticRegression()\n",
    "lr.fit(X_train,y_train)\n",
    "y_pred = lr.predict(X_test)\n",
    "accuracy_score(y_test,y_pred)"
   ]
  },
  {
   "cell_type": "code",
   "execution_count": 40,
   "id": "78f0d576",
   "metadata": {
    "execution": {
     "iopub.execute_input": "2022-11-07T14:40:35.395312Z",
     "iopub.status.busy": "2022-11-07T14:40:35.394885Z",
     "iopub.status.idle": "2022-11-07T17:27:54.955763Z",
     "shell.execute_reply": "2022-11-07T17:27:54.954275Z"
    },
    "papermill": {
     "duration": 10039.597588,
     "end_time": "2022-11-07T17:27:54.973589",
     "exception": false,
     "start_time": "2022-11-07T14:40:35.376001",
     "status": "completed"
    },
    "tags": []
   },
   "outputs": [
    {
     "name": "stdout",
     "output_type": "stream",
     "text": [
      "CPU times: user 2h 47min 6s, sys: 4.79 s, total: 2h 47min 10s\n",
      "Wall time: 2h 47min 19s\n"
     ]
    },
    {
     "data": {
      "text/plain": [
       "0.8174206633851938"
      ]
     },
     "execution_count": 40,
     "metadata": {},
     "output_type": "execute_result"
    }
   ],
   "source": [
    "%%time\n",
    "# random forest classifier with default parameters\n",
    "from sklearn.ensemble import RandomForestClassifier\n",
    "from sklearn.metrics import accuracy_score\n",
    "rf = RandomForestClassifier()\n",
    "rf.fit(X_train,y_train)\n",
    "y_pred = rf.predict(X_test)\n",
    "accuracy_score(y_test,y_pred)\n"
   ]
  },
  {
   "cell_type": "code",
   "execution_count": 41,
   "id": "74af70d1",
   "metadata": {
    "execution": {
     "iopub.execute_input": "2022-11-07T17:27:55.010553Z",
     "iopub.status.busy": "2022-11-07T17:27:55.009583Z",
     "iopub.status.idle": "2022-11-07T17:27:55.014745Z",
     "shell.execute_reply": "2022-11-07T17:27:55.013758Z"
    },
    "papermill": {
     "duration": 0.027503,
     "end_time": "2022-11-07T17:27:55.018020",
     "exception": false,
     "start_time": "2022-11-07T17:27:54.990517",
     "status": "completed"
    },
    "tags": []
   },
   "outputs": [],
   "source": [
    "# SVC takes a lot of time to run \n",
    "# from sklearn.svm import SVC\n",
    "# svc = SVC()\n",
    "# svc.fit(X_train,y_train)\n",
    "# y_pred = svc.predict(X_test)\n",
    "# accuracy_score(y_test,y_pred)"
   ]
  },
  {
   "cell_type": "code",
   "execution_count": 42,
   "id": "1df58798",
   "metadata": {
    "execution": {
     "iopub.execute_input": "2022-11-07T17:27:55.055650Z",
     "iopub.status.busy": "2022-11-07T17:27:55.054706Z",
     "iopub.status.idle": "2022-11-07T17:28:37.021829Z",
     "shell.execute_reply": "2022-11-07T17:28:37.019916Z"
    },
    "papermill": {
     "duration": 42.004264,
     "end_time": "2022-11-07T17:28:37.040417",
     "exception": false,
     "start_time": "2022-11-07T17:27:55.036153",
     "status": "completed"
    },
    "tags": []
   },
   "outputs": [
    {
     "name": "stdout",
     "output_type": "stream",
     "text": [
      "CPU times: user 2min 44s, sys: 153 ms, total: 2min 44s\n",
      "Wall time: 42 s\n"
     ]
    },
    {
     "data": {
      "text/plain": [
       "0.7477553241485072"
      ]
     },
     "execution_count": 42,
     "metadata": {},
     "output_type": "execute_result"
    }
   ],
   "source": [
    "%%time\n",
    "# xgboost classifier\n",
    "from xgboost import XGBClassifier\n",
    "xgb = XGBClassifier()\n",
    "xgb.fit(X_train,y_train)\n",
    "y_pred = xgb.predict(X_test)\n",
    "accuracy_score(y_test,y_pred)\n"
   ]
  },
  {
   "cell_type": "code",
   "execution_count": 43,
   "id": "4063afba",
   "metadata": {
    "execution": {
     "iopub.execute_input": "2022-11-07T17:28:37.077539Z",
     "iopub.status.busy": "2022-11-07T17:28:37.077113Z",
     "iopub.status.idle": "2022-11-07T19:36:55.141168Z",
     "shell.execute_reply": "2022-11-07T19:36:55.139917Z"
    },
    "papermill": {
     "duration": 7698.102924,
     "end_time": "2022-11-07T19:36:55.160422",
     "exception": false,
     "start_time": "2022-11-07T17:28:37.057498",
     "status": "completed"
    },
    "tags": []
   },
   "outputs": [
    {
     "name": "stderr",
     "output_type": "stream",
     "text": [
      "/opt/conda/lib/python3.7/site-packages/sklearn/linear_model/_logistic.py:818: ConvergenceWarning: lbfgs failed to converge (status=1):\n",
      "STOP: TOTAL NO. of ITERATIONS REACHED LIMIT.\n",
      "\n",
      "Increase the number of iterations (max_iter) or scale the data as shown in:\n",
      "    https://scikit-learn.org/stable/modules/preprocessing.html\n",
      "Please also refer to the documentation for alternative solver options:\n",
      "    https://scikit-learn.org/stable/modules/linear_model.html#logistic-regression\n",
      "  extra_warning_msg=_LOGISTIC_SOLVER_CONVERGENCE_MSG,\n"
     ]
    },
    {
     "name": "stdout",
     "output_type": "stream",
     "text": [
      "Logistic Regression Accuracy score :  0.7619035840609464\n",
      "Random forest Accuracy score :  0.8154295184149991\n",
      "XGBoost Accuracy score :  0.7593682752479656\n",
      "CPU times: user 2h 14min 31s, sys: 38.3 s, total: 2h 15min 9s\n",
      "Wall time: 2h 8min 18s\n"
     ]
    }
   ],
   "source": [
    "%%time\n",
    "# Tf-Idf vectorizer\n",
    "from sklearn.feature_extraction.text import TfidfVectorizer\n",
    "\n",
    "# object for tf-idf vectorization \n",
    "tf = TfidfVectorizer()\n",
    "\n",
    "# vsplit function split an array into multiple sub-arrays vertically (row-wise).\n",
    "q = tf.fit_transform(questions)\n",
    "q1_arr = q[:(q.shape[0]//2),]\n",
    "q2_arr = q[(q.shape[0]//2):,]\n",
    "\n",
    "q_arr = hstack((q1_arr, q2_arr))\n",
    "\n",
    "# train test split same as above\n",
    "X_train,X_test,y_train,y_test = train_test_split(q_arr,new_df['is_duplicate'],test_size=0.2,random_state=1)\n",
    "\n",
    "# Logistic regression\n",
    "lr = LogisticRegression()\n",
    "lr.fit(X_train,y_train)\n",
    "y_pred = lr.predict(X_test)\n",
    "print(\"Logistic Regression Accuracy score : \",accuracy_score(y_test,y_pred))\n",
    "\n",
    "# random forest classifier with default parameters\n",
    "rf = RandomForestClassifier()\n",
    "rf.fit(X_train,y_train)\n",
    "y_pred = rf.predict(X_test)\n",
    "print(\"Random forest Accuracy score : \",accuracy_score(y_test,y_pred))\n",
    "\n",
    "# xgb classifier \n",
    "xgb = XGBClassifier()\n",
    "xgb.fit(X_train,y_train)\n",
    "y_pred = xgb.predict(X_test)\n",
    "print(\"XGBoost Accuracy score : \",accuracy_score(y_test,y_pred))\n"
   ]
  },
  {
   "cell_type": "markdown",
   "id": "133985ca",
   "metadata": {
    "papermill": {
     "duration": 0.016264,
     "end_time": "2022-11-07T19:36:55.193384",
     "exception": false,
     "start_time": "2022-11-07T19:36:55.177120",
     "status": "completed"
    },
    "tags": []
   },
   "source": [
    "### With Tf-Idf there is a shift in performance of all algorithms. But time taken by Random forest is way more than expected. probably due to sparse matrix and data size.   "
   ]
  },
  {
   "cell_type": "markdown",
   "id": "1299fb72",
   "metadata": {
    "papermill": {
     "duration": 0.016532,
     "end_time": "2022-11-07T19:36:55.226204",
     "exception": false,
     "start_time": "2022-11-07T19:36:55.209672",
     "status": "completed"
    },
    "tags": []
   },
   "source": [
    "# Learnings"
   ]
  },
  {
   "cell_type": "markdown",
   "id": "1125b54d",
   "metadata": {
    "papermill": {
     "duration": 0.015862,
     "end_time": "2022-11-07T19:36:55.259811",
     "exception": false,
     "start_time": "2022-11-07T19:36:55.243949",
     "status": "completed"
    },
    "tags": []
   },
   "source": [
    "**there are couple of things i learned by doing hit and trial.**\n",
    "* cv.fit_transform() returns a sparse matrix numby object, converting it into dense array by \"toarray()\" can eats up lots of memmory.\n",
    "* concatinating using panadas data frame and np.concatenate() both are memory intensive operations.\n",
    "* In fact if you do both operations simultaneously, chances are that your notebook might crash.\n",
    "\n",
    "**Solution**\n",
    "* Do not use toarray(), just use sparse matrix when time is not a constaint while space is. \n",
    "* Use hstack or vstack functions to concatenate numpy sparse matrix rather than using numpy dense or pd.concat()"
   ]
  },
  {
   "cell_type": "code",
   "execution_count": null,
   "id": "2aa94b0a",
   "metadata": {
    "papermill": {
     "duration": 0.016701,
     "end_time": "2022-11-07T19:36:55.365453",
     "exception": false,
     "start_time": "2022-11-07T19:36:55.348752",
     "status": "completed"
    },
    "tags": []
   },
   "outputs": [],
   "source": []
  }
 ],
 "metadata": {
  "kernelspec": {
   "display_name": "Python 3 (ipykernel)",
   "language": "python",
   "name": "python3"
  },
  "language_info": {
   "codemirror_mode": {
    "name": "ipython",
    "version": 3
   },
   "file_extension": ".py",
   "mimetype": "text/x-python",
   "name": "python",
   "nbconvert_exporter": "python",
   "pygments_lexer": "ipython3",
   "version": "3.9.7"
  },
  "papermill": {
   "default_parameters": {},
   "duration": 18072.184029,
   "end_time": "2022-11-07T19:36:57.142665",
   "environment_variables": {},
   "exception": null,
   "input_path": "__notebook__.ipynb",
   "output_path": "__notebook__.ipynb",
   "parameters": {},
   "start_time": "2022-11-07T14:35:44.958636",
   "version": "2.3.4"
  }
 },
 "nbformat": 4,
 "nbformat_minor": 5
}
