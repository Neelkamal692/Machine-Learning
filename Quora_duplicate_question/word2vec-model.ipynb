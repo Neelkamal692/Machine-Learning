{
 "cells": [
  {
   "cell_type": "markdown",
   "id": "2bc24a9d",
   "metadata": {
    "papermill": {
     "duration": 0.012951,
     "end_time": "2022-11-11T10:28:01.878101",
     "exception": false,
     "start_time": "2022-11-11T10:28:01.865150",
     "status": "completed"
    },
    "tags": []
   },
   "source": [
    "**Checkout my [first](https://www.kaggle.com/code/neelkamal692/quora-duplicate-question-baseline) notebook to see the performance with baseline model without any preprocessing**"
   ]
  },
  {
   "cell_type": "markdown",
   "id": "b90e7ada",
   "metadata": {
    "papermill": {
     "duration": 0.012956,
     "end_time": "2022-11-11T10:28:01.902719",
     "exception": false,
     "start_time": "2022-11-11T10:28:01.889763",
     "status": "completed"
    },
    "tags": []
   },
   "source": [
    "**Here is me [second](https://www.kaggle.com/code/neelkamal692/bow-tfidf-with-preprocessing) notebook to check performance boost after little bit of preprocessing with BOW and TF-IDF.**"
   ]
  },
  {
   "cell_type": "markdown",
   "id": "58a5943a",
   "metadata": {
    "papermill": {
     "duration": 0.010516,
     "end_time": "2022-11-11T10:28:01.924133",
     "exception": false,
     "start_time": "2022-11-11T10:28:01.913617",
     "status": "completed"
    },
    "tags": []
   },
   "source": [
    "# Import"
   ]
  },
  {
   "cell_type": "code",
   "execution_count": 1,
   "id": "09fc78f9",
   "metadata": {
    "execution": {
     "iopub.execute_input": "2022-11-11T10:28:01.950306Z",
     "iopub.status.busy": "2022-11-11T10:28:01.949419Z",
     "iopub.status.idle": "2022-11-11T10:28:04.868051Z",
     "shell.execute_reply": "2022-11-11T10:28:04.866196Z"
    },
    "papermill": {
     "duration": 2.934017,
     "end_time": "2022-11-11T10:28:04.870431",
     "exception": false,
     "start_time": "2022-11-11T10:28:01.936414",
     "status": "completed"
    },
    "tags": []
   },
   "outputs": [
    {
     "name": "stdout",
     "output_type": "stream",
     "text": [
      "/kaggle/input/quora-question-pairs/train.csv.zip\n",
      "/kaggle/input/quora-question-pairs/sample_submission.csv.zip\n",
      "/kaggle/input/quora-question-pairs/test.csv\n",
      "/kaggle/input/quora-question-pairs/test.csv.zip\n",
      "/kaggle/input/quora-duplicate-unzipped-training-dataset/train.csv\n"
     ]
    }
   ],
   "source": [
    "import numpy as np # linear algebra\n",
    "import pandas as pd # data processing, CSV file I/O (e.g. pd.read_csv)\n",
    "import matplotlib.pyplot as plt \n",
    "import seaborn as sns\n",
    "from collections import Counter\n",
    "import re\n",
    "import gensim\n",
    "from bs4 import BeautifulSoup\n",
    "import warnings\n",
    "from sklearn.model_selection import train_test_split\n",
    "from scipy.sparse import hstack\n",
    "from nltk.corpus import stopwords\n",
    "from sklearn.ensemble import RandomForestClassifier\n",
    "from sklearn.metrics import accuracy_score\n",
    "stop_words=set(stopwords.words('english'))\n",
    "# For example, running this (by clicking run or pressing Shift+Enter) will list all files under the input directory\n",
    "\n",
    "import os\n",
    "for dirname, _, filenames in os.walk('/kaggle/input'):\n",
    "    for filename in filenames:\n",
    "        print(os.path.join(dirname, filename))\n",
    "\n",
    "warnings.filterwarnings('ignore')"
   ]
  },
  {
   "cell_type": "code",
   "execution_count": 2,
   "id": "095186b1",
   "metadata": {
    "execution": {
     "iopub.execute_input": "2022-11-11T10:28:04.896521Z",
     "iopub.status.busy": "2022-11-11T10:28:04.895115Z",
     "iopub.status.idle": "2022-11-11T10:28:11.789074Z",
     "shell.execute_reply": "2022-11-11T10:28:11.786469Z"
    },
    "papermill": {
     "duration": 6.910319,
     "end_time": "2022-11-11T10:28:11.792649",
     "exception": false,
     "start_time": "2022-11-11T10:28:04.882330",
     "status": "completed"
    },
    "tags": []
   },
   "outputs": [],
   "source": [
    "from numpy import array\n",
    "from keras.preprocessing.text import one_hot\n",
    "from keras.preprocessing.sequence import pad_sequences\n",
    "from keras.models import Sequential\n",
    "from keras.layers import Dense\n",
    "from keras.layers import Flatten\n",
    "from keras.layers.embeddings import Embedding"
   ]
  },
  {
   "cell_type": "markdown",
   "id": "578bc053",
   "metadata": {
    "papermill": {
     "duration": 0.010824,
     "end_time": "2022-11-11T10:28:11.814861",
     "exception": false,
     "start_time": "2022-11-11T10:28:11.804037",
     "status": "completed"
    },
    "tags": []
   },
   "source": [
    "# Reading Data"
   ]
  },
  {
   "cell_type": "code",
   "execution_count": 3,
   "id": "37806033",
   "metadata": {
    "execution": {
     "iopub.execute_input": "2022-11-11T10:28:11.839697Z",
     "iopub.status.busy": "2022-11-11T10:28:11.838393Z",
     "iopub.status.idle": "2022-11-11T10:28:14.062683Z",
     "shell.execute_reply": "2022-11-11T10:28:14.061707Z"
    },
    "papermill": {
     "duration": 2.239545,
     "end_time": "2022-11-11T10:28:14.065336",
     "exception": false,
     "start_time": "2022-11-11T10:28:11.825791",
     "status": "completed"
    },
    "tags": []
   },
   "outputs": [
    {
     "data": {
      "text/html": [
       "<div>\n",
       "<style scoped>\n",
       "    .dataframe tbody tr th:only-of-type {\n",
       "        vertical-align: middle;\n",
       "    }\n",
       "\n",
       "    .dataframe tbody tr th {\n",
       "        vertical-align: top;\n",
       "    }\n",
       "\n",
       "    .dataframe thead th {\n",
       "        text-align: right;\n",
       "    }\n",
       "</style>\n",
       "<table border=\"1\" class=\"dataframe\">\n",
       "  <thead>\n",
       "    <tr style=\"text-align: right;\">\n",
       "      <th></th>\n",
       "      <th>id</th>\n",
       "      <th>qid1</th>\n",
       "      <th>qid2</th>\n",
       "      <th>question1</th>\n",
       "      <th>question2</th>\n",
       "      <th>is_duplicate</th>\n",
       "    </tr>\n",
       "  </thead>\n",
       "  <tbody>\n",
       "    <tr>\n",
       "      <th>0</th>\n",
       "      <td>0</td>\n",
       "      <td>1</td>\n",
       "      <td>2</td>\n",
       "      <td>What is the step by step guide to invest in sh...</td>\n",
       "      <td>What is the step by step guide to invest in sh...</td>\n",
       "      <td>0</td>\n",
       "    </tr>\n",
       "    <tr>\n",
       "      <th>1</th>\n",
       "      <td>1</td>\n",
       "      <td>3</td>\n",
       "      <td>4</td>\n",
       "      <td>What is the story of Kohinoor (Koh-i-Noor) Dia...</td>\n",
       "      <td>What would happen if the Indian government sto...</td>\n",
       "      <td>0</td>\n",
       "    </tr>\n",
       "    <tr>\n",
       "      <th>2</th>\n",
       "      <td>2</td>\n",
       "      <td>5</td>\n",
       "      <td>6</td>\n",
       "      <td>How can I increase the speed of my internet co...</td>\n",
       "      <td>How can Internet speed be increased by hacking...</td>\n",
       "      <td>0</td>\n",
       "    </tr>\n",
       "    <tr>\n",
       "      <th>3</th>\n",
       "      <td>3</td>\n",
       "      <td>7</td>\n",
       "      <td>8</td>\n",
       "      <td>Why am I mentally very lonely? How can I solve...</td>\n",
       "      <td>Find the remainder when [math]23^{24}[/math] i...</td>\n",
       "      <td>0</td>\n",
       "    </tr>\n",
       "    <tr>\n",
       "      <th>4</th>\n",
       "      <td>4</td>\n",
       "      <td>9</td>\n",
       "      <td>10</td>\n",
       "      <td>Which one dissolve in water quikly sugar, salt...</td>\n",
       "      <td>Which fish would survive in salt water?</td>\n",
       "      <td>0</td>\n",
       "    </tr>\n",
       "    <tr>\n",
       "      <th>5</th>\n",
       "      <td>5</td>\n",
       "      <td>11</td>\n",
       "      <td>12</td>\n",
       "      <td>Astrology: I am a Capricorn Sun Cap moon and c...</td>\n",
       "      <td>I'm a triple Capricorn (Sun, Moon and ascendan...</td>\n",
       "      <td>1</td>\n",
       "    </tr>\n",
       "    <tr>\n",
       "      <th>6</th>\n",
       "      <td>6</td>\n",
       "      <td>13</td>\n",
       "      <td>14</td>\n",
       "      <td>Should I buy tiago?</td>\n",
       "      <td>What keeps childern active and far from phone ...</td>\n",
       "      <td>0</td>\n",
       "    </tr>\n",
       "    <tr>\n",
       "      <th>7</th>\n",
       "      <td>7</td>\n",
       "      <td>15</td>\n",
       "      <td>16</td>\n",
       "      <td>How can I be a good geologist?</td>\n",
       "      <td>What should I do to be a great geologist?</td>\n",
       "      <td>1</td>\n",
       "    </tr>\n",
       "    <tr>\n",
       "      <th>8</th>\n",
       "      <td>8</td>\n",
       "      <td>17</td>\n",
       "      <td>18</td>\n",
       "      <td>When do you use シ instead of し?</td>\n",
       "      <td>When do you use \"&amp;\" instead of \"and\"?</td>\n",
       "      <td>0</td>\n",
       "    </tr>\n",
       "    <tr>\n",
       "      <th>9</th>\n",
       "      <td>9</td>\n",
       "      <td>19</td>\n",
       "      <td>20</td>\n",
       "      <td>Motorola (company): Can I hack my Charter Moto...</td>\n",
       "      <td>How do I hack Motorola DCX3400 for free internet?</td>\n",
       "      <td>0</td>\n",
       "    </tr>\n",
       "  </tbody>\n",
       "</table>\n",
       "</div>"
      ],
      "text/plain": [
       "   id  qid1  qid2                                          question1  \\\n",
       "0   0     1     2  What is the step by step guide to invest in sh...   \n",
       "1   1     3     4  What is the story of Kohinoor (Koh-i-Noor) Dia...   \n",
       "2   2     5     6  How can I increase the speed of my internet co...   \n",
       "3   3     7     8  Why am I mentally very lonely? How can I solve...   \n",
       "4   4     9    10  Which one dissolve in water quikly sugar, salt...   \n",
       "5   5    11    12  Astrology: I am a Capricorn Sun Cap moon and c...   \n",
       "6   6    13    14                                Should I buy tiago?   \n",
       "7   7    15    16                     How can I be a good geologist?   \n",
       "8   8    17    18                    When do you use シ instead of し?   \n",
       "9   9    19    20  Motorola (company): Can I hack my Charter Moto...   \n",
       "\n",
       "                                           question2  is_duplicate  \n",
       "0  What is the step by step guide to invest in sh...             0  \n",
       "1  What would happen if the Indian government sto...             0  \n",
       "2  How can Internet speed be increased by hacking...             0  \n",
       "3  Find the remainder when [math]23^{24}[/math] i...             0  \n",
       "4            Which fish would survive in salt water?             0  \n",
       "5  I'm a triple Capricorn (Sun, Moon and ascendan...             1  \n",
       "6  What keeps childern active and far from phone ...             0  \n",
       "7          What should I do to be a great geologist?             1  \n",
       "8              When do you use \"&\" instead of \"and\"?             0  \n",
       "9  How do I hack Motorola DCX3400 for free internet?             0  "
      ]
     },
     "execution_count": 3,
     "metadata": {},
     "output_type": "execute_result"
    }
   ],
   "source": [
    "# read tarining data\n",
    "train = pd.read_csv('../input/quora-duplicate-unzipped-training-dataset/train.csv')\n",
    "train.head(10)"
   ]
  },
  {
   "cell_type": "code",
   "execution_count": 4,
   "id": "686ceafa",
   "metadata": {
    "execution": {
     "iopub.execute_input": "2022-11-11T10:28:14.091782Z",
     "iopub.status.busy": "2022-11-11T10:28:14.089892Z",
     "iopub.status.idle": "2022-11-11T10:28:14.099257Z",
     "shell.execute_reply": "2022-11-11T10:28:14.097435Z"
    },
    "papermill": {
     "duration": 0.025506,
     "end_time": "2022-11-11T10:28:14.102360",
     "exception": false,
     "start_time": "2022-11-11T10:28:14.076854",
     "status": "completed"
    },
    "tags": []
   },
   "outputs": [
    {
     "data": {
      "text/plain": [
       "(404290, 6)"
      ]
     },
     "execution_count": 4,
     "metadata": {},
     "output_type": "execute_result"
    }
   ],
   "source": [
    "train.shape"
   ]
  },
  {
   "cell_type": "code",
   "execution_count": 5,
   "id": "4d52fc16",
   "metadata": {
    "execution": {
     "iopub.execute_input": "2022-11-11T10:28:14.127493Z",
     "iopub.status.busy": "2022-11-11T10:28:14.126973Z",
     "iopub.status.idle": "2022-11-11T10:28:14.229187Z",
     "shell.execute_reply": "2022-11-11T10:28:14.227283Z"
    },
    "papermill": {
     "duration": 0.117804,
     "end_time": "2022-11-11T10:28:14.231625",
     "exception": false,
     "start_time": "2022-11-11T10:28:14.113821",
     "status": "completed"
    },
    "tags": []
   },
   "outputs": [
    {
     "name": "stdout",
     "output_type": "stream",
     "text": [
      "<class 'pandas.core.frame.DataFrame'>\n",
      "RangeIndex: 404290 entries, 0 to 404289\n",
      "Data columns (total 6 columns):\n",
      " #   Column        Non-Null Count   Dtype \n",
      "---  ------        --------------   ----- \n",
      " 0   id            404290 non-null  int64 \n",
      " 1   qid1          404290 non-null  int64 \n",
      " 2   qid2          404290 non-null  int64 \n",
      " 3   question1     404289 non-null  object\n",
      " 4   question2     404288 non-null  object\n",
      " 5   is_duplicate  404290 non-null  int64 \n",
      "dtypes: int64(4), object(2)\n",
      "memory usage: 18.5+ MB\n"
     ]
    }
   ],
   "source": [
    "train.info()"
   ]
  },
  {
   "cell_type": "code",
   "execution_count": 6,
   "id": "8162ccce",
   "metadata": {
    "execution": {
     "iopub.execute_input": "2022-11-11T10:28:14.259085Z",
     "iopub.status.busy": "2022-11-11T10:28:14.256508Z",
     "iopub.status.idle": "2022-11-11T10:28:14.339869Z",
     "shell.execute_reply": "2022-11-11T10:28:14.338080Z"
    },
    "papermill": {
     "duration": 0.099826,
     "end_time": "2022-11-11T10:28:14.342994",
     "exception": false,
     "start_time": "2022-11-11T10:28:14.243168",
     "status": "completed"
    },
    "tags": []
   },
   "outputs": [
    {
     "data": {
      "text/plain": [
       "id              0\n",
       "qid1            0\n",
       "qid2            0\n",
       "question1       1\n",
       "question2       2\n",
       "is_duplicate    0\n",
       "dtype: int64"
      ]
     },
     "execution_count": 6,
     "metadata": {},
     "output_type": "execute_result"
    }
   ],
   "source": [
    "# null values in complete dataset\n",
    "train.isnull().sum()"
   ]
  },
  {
   "cell_type": "code",
   "execution_count": 7,
   "id": "2394cfad",
   "metadata": {
    "execution": {
     "iopub.execute_input": "2022-11-11T10:28:14.368709Z",
     "iopub.status.busy": "2022-11-11T10:28:14.368109Z",
     "iopub.status.idle": "2022-11-11T10:28:14.413855Z",
     "shell.execute_reply": "2022-11-11T10:28:14.412933Z"
    },
    "papermill": {
     "duration": 0.061036,
     "end_time": "2022-11-11T10:28:14.415836",
     "exception": false,
     "start_time": "2022-11-11T10:28:14.354800",
     "status": "completed"
    },
    "tags": []
   },
   "outputs": [
    {
     "data": {
      "text/html": [
       "<div>\n",
       "<style scoped>\n",
       "    .dataframe tbody tr th:only-of-type {\n",
       "        vertical-align: middle;\n",
       "    }\n",
       "\n",
       "    .dataframe tbody tr th {\n",
       "        vertical-align: top;\n",
       "    }\n",
       "\n",
       "    .dataframe thead th {\n",
       "        text-align: right;\n",
       "    }\n",
       "</style>\n",
       "<table border=\"1\" class=\"dataframe\">\n",
       "  <thead>\n",
       "    <tr style=\"text-align: right;\">\n",
       "      <th></th>\n",
       "      <th>id</th>\n",
       "      <th>qid1</th>\n",
       "      <th>qid2</th>\n",
       "      <th>question1</th>\n",
       "      <th>question2</th>\n",
       "      <th>is_duplicate</th>\n",
       "    </tr>\n",
       "  </thead>\n",
       "  <tbody>\n",
       "    <tr>\n",
       "      <th>363362</th>\n",
       "      <td>363362</td>\n",
       "      <td>493340</td>\n",
       "      <td>493341</td>\n",
       "      <td>NaN</td>\n",
       "      <td>My Chinese name is Haichao Yu. What English na...</td>\n",
       "      <td>0</td>\n",
       "    </tr>\n",
       "  </tbody>\n",
       "</table>\n",
       "</div>"
      ],
      "text/plain": [
       "            id    qid1    qid2 question1  \\\n",
       "363362  363362  493340  493341       NaN   \n",
       "\n",
       "                                                question2  is_duplicate  \n",
       "363362  My Chinese name is Haichao Yu. What English na...             0  "
      ]
     },
     "execution_count": 7,
     "metadata": {},
     "output_type": "execute_result"
    }
   ],
   "source": [
    "# Null value in question1\n",
    "train[train.question1.isnull()]"
   ]
  },
  {
   "cell_type": "code",
   "execution_count": 8,
   "id": "15122835",
   "metadata": {
    "execution": {
     "iopub.execute_input": "2022-11-11T10:28:14.441473Z",
     "iopub.status.busy": "2022-11-11T10:28:14.441041Z",
     "iopub.status.idle": "2022-11-11T10:28:14.486876Z",
     "shell.execute_reply": "2022-11-11T10:28:14.484852Z"
    },
    "papermill": {
     "duration": 0.063135,
     "end_time": "2022-11-11T10:28:14.490869",
     "exception": false,
     "start_time": "2022-11-11T10:28:14.427734",
     "status": "completed"
    },
    "tags": []
   },
   "outputs": [
    {
     "data": {
      "text/html": [
       "<div>\n",
       "<style scoped>\n",
       "    .dataframe tbody tr th:only-of-type {\n",
       "        vertical-align: middle;\n",
       "    }\n",
       "\n",
       "    .dataframe tbody tr th {\n",
       "        vertical-align: top;\n",
       "    }\n",
       "\n",
       "    .dataframe thead th {\n",
       "        text-align: right;\n",
       "    }\n",
       "</style>\n",
       "<table border=\"1\" class=\"dataframe\">\n",
       "  <thead>\n",
       "    <tr style=\"text-align: right;\">\n",
       "      <th></th>\n",
       "      <th>id</th>\n",
       "      <th>qid1</th>\n",
       "      <th>qid2</th>\n",
       "      <th>question1</th>\n",
       "      <th>question2</th>\n",
       "      <th>is_duplicate</th>\n",
       "    </tr>\n",
       "  </thead>\n",
       "  <tbody>\n",
       "    <tr>\n",
       "      <th>105780</th>\n",
       "      <td>105780</td>\n",
       "      <td>174363</td>\n",
       "      <td>174364</td>\n",
       "      <td>How can I develop android app?</td>\n",
       "      <td>NaN</td>\n",
       "      <td>0</td>\n",
       "    </tr>\n",
       "    <tr>\n",
       "      <th>201841</th>\n",
       "      <td>201841</td>\n",
       "      <td>303951</td>\n",
       "      <td>174364</td>\n",
       "      <td>How can I create an Android app?</td>\n",
       "      <td>NaN</td>\n",
       "      <td>0</td>\n",
       "    </tr>\n",
       "  </tbody>\n",
       "</table>\n",
       "</div>"
      ],
      "text/plain": [
       "            id    qid1    qid2                         question1 question2  \\\n",
       "105780  105780  174363  174364    How can I develop android app?       NaN   \n",
       "201841  201841  303951  174364  How can I create an Android app?       NaN   \n",
       "\n",
       "        is_duplicate  \n",
       "105780             0  \n",
       "201841             0  "
      ]
     },
     "execution_count": 8,
     "metadata": {},
     "output_type": "execute_result"
    }
   ],
   "source": [
    "# Null value in question2\n",
    "train[train.question2.isnull()]"
   ]
  },
  {
   "cell_type": "markdown",
   "id": "2b366988",
   "metadata": {
    "papermill": {
     "duration": 0.011577,
     "end_time": "2022-11-11T10:28:14.514916",
     "exception": false,
     "start_time": "2022-11-11T10:28:14.503339",
     "status": "completed"
    },
    "tags": []
   },
   "source": [
    "we already have lots of data so we can safely remove these 3 missing values "
   ]
  },
  {
   "cell_type": "code",
   "execution_count": 9,
   "id": "26ec18bd",
   "metadata": {
    "execution": {
     "iopub.execute_input": "2022-11-11T10:28:14.542399Z",
     "iopub.status.busy": "2022-11-11T10:28:14.541928Z",
     "iopub.status.idle": "2022-11-11T10:28:14.665648Z",
     "shell.execute_reply": "2022-11-11T10:28:14.664127Z"
    },
    "papermill": {
     "duration": 0.140952,
     "end_time": "2022-11-11T10:28:14.667989",
     "exception": false,
     "start_time": "2022-11-11T10:28:14.527037",
     "status": "completed"
    },
    "tags": []
   },
   "outputs": [
    {
     "data": {
      "text/plain": [
       "(404287, 6)"
      ]
     },
     "execution_count": 9,
     "metadata": {},
     "output_type": "execute_result"
    }
   ],
   "source": [
    "#drop samples with missing values\n",
    "train.dropna(axis = 0, inplace = True)\n",
    "train.shape"
   ]
  },
  {
   "cell_type": "code",
   "execution_count": 10,
   "id": "6d648649",
   "metadata": {
    "execution": {
     "iopub.execute_input": "2022-11-11T10:28:14.696335Z",
     "iopub.status.busy": "2022-11-11T10:28:14.694686Z",
     "iopub.status.idle": "2022-11-11T10:28:14.704795Z",
     "shell.execute_reply": "2022-11-11T10:28:14.703469Z"
    },
    "papermill": {
     "duration": 0.026538,
     "end_time": "2022-11-11T10:28:14.707077",
     "exception": false,
     "start_time": "2022-11-11T10:28:14.680539",
     "status": "completed"
    },
    "tags": []
   },
   "outputs": [
    {
     "data": {
      "text/plain": [
       "('Why is it irritating to rub your nails against a blackboard or a wall?',\n",
       " \"Is There any adverse effect on rubbing both hand's nails against each other ?\")"
      ]
     },
     "execution_count": 10,
     "metadata": {},
     "output_type": "execute_result"
    }
   ],
   "source": [
    "# Similar questions\n",
    "train['question1'].iloc[190123],train['question2'].iloc[190123]"
   ]
  },
  {
   "cell_type": "code",
   "execution_count": 11,
   "id": "4089f90f",
   "metadata": {
    "execution": {
     "iopub.execute_input": "2022-11-11T10:28:14.734742Z",
     "iopub.status.busy": "2022-11-11T10:28:14.734188Z",
     "iopub.status.idle": "2022-11-11T10:28:14.744923Z",
     "shell.execute_reply": "2022-11-11T10:28:14.742711Z"
    },
    "papermill": {
     "duration": 0.027593,
     "end_time": "2022-11-11T10:28:14.747636",
     "exception": false,
     "start_time": "2022-11-11T10:28:14.720043",
     "status": "completed"
    },
    "tags": []
   },
   "outputs": [
    {
     "data": {
      "text/plain": [
       "('What in our opinion are the top 5 best books of all time?',\n",
       " 'What are some of the best books ever written?')"
      ]
     },
     "execution_count": 11,
     "metadata": {},
     "output_type": "execute_result"
    }
   ],
   "source": [
    "# Similar questions\n",
    "train['question1'].iloc[95847],train['question2'].iloc[95847]"
   ]
  },
  {
   "cell_type": "code",
   "execution_count": 12,
   "id": "a5bdd7df",
   "metadata": {
    "execution": {
     "iopub.execute_input": "2022-11-11T10:28:14.776039Z",
     "iopub.status.busy": "2022-11-11T10:28:14.775519Z",
     "iopub.status.idle": "2022-11-11T10:28:14.783808Z",
     "shell.execute_reply": "2022-11-11T10:28:14.782723Z"
    },
    "papermill": {
     "duration": 0.0256,
     "end_time": "2022-11-11T10:28:14.786198",
     "exception": false,
     "start_time": "2022-11-11T10:28:14.760598",
     "status": "completed"
    },
    "tags": []
   },
   "outputs": [
    {
     "data": {
      "text/plain": [
       "('What are 3 things people can learn from Mashable?',\n",
       " \"What is the thing which you can't learn from a course?\")"
      ]
     },
     "execution_count": 12,
     "metadata": {},
     "output_type": "execute_result"
    }
   ],
   "source": [
    "# Different questions\n",
    "train['question1'].iloc[125695],train['question2'].iloc[125695]"
   ]
  },
  {
   "cell_type": "code",
   "execution_count": 13,
   "id": "a0b8cee3",
   "metadata": {
    "execution": {
     "iopub.execute_input": "2022-11-11T10:28:14.815941Z",
     "iopub.status.busy": "2022-11-11T10:28:14.814272Z",
     "iopub.status.idle": "2022-11-11T10:28:15.018590Z",
     "shell.execute_reply": "2022-11-11T10:28:15.016344Z"
    },
    "papermill": {
     "duration": 0.222443,
     "end_time": "2022-11-11T10:28:15.022232",
     "exception": false,
     "start_time": "2022-11-11T10:28:14.799789",
     "status": "completed"
    },
    "tags": []
   },
   "outputs": [
    {
     "data": {
      "text/plain": [
       "<AxesSubplot:>"
      ]
     },
     "execution_count": 13,
     "metadata": {},
     "output_type": "execute_result"
    },
    {
     "data": {
      "image/png": "[encoded data removed]",
      "text/plain": [
       "<Figure size 432x288 with 1 Axes>"
      ]
     },
     "metadata": {
      "needs_background": "light"
     },
     "output_type": "display_data"
    }
   ],
   "source": [
    "# non duplicate and duplicate question count plot \n",
    "train['is_duplicate'].value_counts().plot.bar()"
   ]
  },
  {
   "cell_type": "code",
   "execution_count": 14,
   "id": "bb72d0f8",
   "metadata": {
    "execution": {
     "iopub.execute_input": "2022-11-11T10:28:15.049920Z",
     "iopub.status.busy": "2022-11-11T10:28:15.049434Z",
     "iopub.status.idle": "2022-11-11T10:28:16.036451Z",
     "shell.execute_reply": "2022-11-11T10:28:16.034234Z"
    },
    "papermill": {
     "duration": 1.003605,
     "end_time": "2022-11-11T10:28:16.038840",
     "exception": false,
     "start_time": "2022-11-11T10:28:15.035235",
     "status": "completed"
    },
    "tags": []
   },
   "outputs": [
    {
     "name": "stdout",
     "output_type": "stream",
     "text": [
      "No. of unique question ids :  537929\n",
      "No. of repeated questions :  111778\n",
      "No. of duplicate question pairs :  0\n"
     ]
    }
   ],
   "source": [
    "# Unique question ids in the dataset\n",
    "qid = pd.Series(train['qid1'].tolist()+train['qid2'].tolist())\n",
    "print(\"No. of unique question ids : \", len(np.unique(qid)))\n",
    "# Duplicate question ids in the dataset\n",
    "x = pd.Series(train['qid1'].tolist()+train['qid2'].tolist()).value_counts()>1\n",
    "print(\"No. of repeated questions : \",x[x].shape[0])\n",
    "\n",
    "# duplicate question pairs \n",
    "print(\"No. of duplicate question pairs : \",train.duplicated().sum())"
   ]
  },
  {
   "cell_type": "markdown",
   "id": "80ea7f9d",
   "metadata": {
    "papermill": {
     "duration": 0.011845,
     "end_time": "2022-11-11T10:28:16.063058",
     "exception": false,
     "start_time": "2022-11-11T10:28:16.051213",
     "status": "completed"
    },
    "tags": []
   },
   "source": [
    "# Text Preprocessing"
   ]
  },
  {
   "cell_type": "code",
   "execution_count": 15,
   "id": "acf139ae",
   "metadata": {
    "execution": {
     "iopub.execute_input": "2022-11-11T10:28:16.092241Z",
     "iopub.status.busy": "2022-11-11T10:28:16.091105Z",
     "iopub.status.idle": "2022-11-11T10:28:30.294136Z",
     "shell.execute_reply": "2022-11-11T10:28:30.291625Z"
    },
    "papermill": {
     "duration": 14.222172,
     "end_time": "2022-11-11T10:28:30.297738",
     "exception": false,
     "start_time": "2022-11-11T10:28:16.075566",
     "status": "completed"
    },
    "tags": []
   },
   "outputs": [],
   "source": [
    "# Clean data using the built in cleaner in gensim\n",
    "train['q1_clean'] = train['question1'].apply(lambda x: gensim.utils.simple_preprocess(x))\n",
    "train['q2_clean'] = train['question2'].apply(lambda x: gensim.utils.simple_preprocess(x))"
   ]
  },
  {
   "cell_type": "code",
   "execution_count": 16,
   "id": "2bf74b6a",
   "metadata": {
    "execution": {
     "iopub.execute_input": "2022-11-11T10:28:30.325554Z",
     "iopub.status.busy": "2022-11-11T10:28:30.325056Z",
     "iopub.status.idle": "2022-11-11T10:28:30.335885Z",
     "shell.execute_reply": "2022-11-11T10:28:30.334322Z"
    },
    "papermill": {
     "duration": 0.028954,
     "end_time": "2022-11-11T10:28:30.339645",
     "exception": false,
     "start_time": "2022-11-11T10:28:30.310691",
     "status": "completed"
    },
    "tags": []
   },
   "outputs": [],
   "source": [
    "# def preprocess(q):\n",
    "    \n",
    "#     q = str(q).lower().strip()\n",
    "    \n",
    "#     # Replace certain special characters with their string equivalents\n",
    "#     q = q.replace('%', ' percent')\n",
    "#     q = q.replace('$', ' dollar ')\n",
    "#     q = q.replace('₹', ' rupee ')\n",
    "#     q = q.replace('€', ' euro ')\n",
    "#     q = q.replace('@', ' at ')\n",
    "    \n",
    "#     # The pattern '[math]' appears around 900 times in the whole dataset.\n",
    "#     q = q.replace('[math]', '')\n",
    "    \n",
    "#     # Replacing some numbers with string equivalents (not perfect, can be done better to account for more cases)\n",
    "#     q = q.replace(',000,000,000 ', 'b ')\n",
    "#     q = q.replace(',000,000 ', 'm ')\n",
    "#     q = q.replace(',000 ', 'k ')\n",
    "#     q = q.replace('?', '')\n",
    "#     q = q.replace('/', ' ')\n",
    "#     q = re.sub(r'([0-9]+)000000000', r'\\1b', q)\n",
    "#     q = re.sub(r'([0-9]+)000000', r'\\1m', q)\n",
    "#     q = re.sub(r'([0-9]+)000', r'\\1k', q)\n",
    "    \n",
    "#     # Decontracting words\n",
    "#     # https://en.wikipedia.org/wiki/Wikipedia%3aList_of_English_contractions\n",
    "#     # https://stackoverflow.com/a/19794953\n",
    "#     contractions = { \n",
    "#     \"ain't\": \"am not\",\n",
    "#     \"aren't\": \"are not\",\n",
    "#     \"can't\": \"can not\",\n",
    "#     \"can't've\": \"can not have\",\n",
    "#     \"'cause\": \"because\",\n",
    "#     \"could've\": \"could have\",\n",
    "#     \"couldn't\": \"could not\",\n",
    "#     \"couldn't've\": \"could not have\",\n",
    "#     \"didn't\": \"did not\",\n",
    "#     \"doesn't\": \"does not\",\n",
    "#     \"don't\": \"do not\",\n",
    "#     \"hadn't\": \"had not\",\n",
    "#     \"hadn't've\": \"had not have\",\n",
    "#     \"hasn't\": \"has not\",\n",
    "#     \"haven't\": \"have not\",\n",
    "#     \"he'd\": \"he would\",\n",
    "#     \"he'd've\": \"he would have\",\n",
    "#     \"he'll\": \"he will\",\n",
    "#     \"he'll've\": \"he will have\",\n",
    "#     \"he's\": \"he is\",\n",
    "#     \"how'd\": \"how did\",\n",
    "#     \"how'd'y\": \"how do you\",\n",
    "#     \"how'll\": \"how will\",\n",
    "#     \"how's\": \"how is\",\n",
    "#     \"i'd\": \"i would\",\n",
    "#     \"i'd've\": \"i would have\",\n",
    "#     \"i'll\": \"i will\",\n",
    "#     \"i'll've\": \"i will have\",\n",
    "#     \"i'm\": \"i am\",\n",
    "#     \"i've\": \"i have\",\n",
    "#     \"isn't\": \"is not\",\n",
    "#     \"it'd\": \"it would\",\n",
    "#     \"it'd've\": \"it would have\",\n",
    "#     \"it'll\": \"it will\",\n",
    "#     \"it'll've\": \"it will have\",\n",
    "#     \"it's\": \"it is\",\n",
    "#     \"let's\": \"let us\",\n",
    "#     \"ma'am\": \"madam\",\n",
    "#     \"mayn't\": \"may not\",\n",
    "#     \"might've\": \"might have\",\n",
    "#     \"mightn't\": \"might not\",\n",
    "#     \"mightn't've\": \"might not have\",\n",
    "#     \"must've\": \"must have\",\n",
    "#     \"mustn't\": \"must not\",\n",
    "#     \"mustn't've\": \"must not have\",\n",
    "#     \"needn't\": \"need not\",\n",
    "#     \"needn't've\": \"need not have\",\n",
    "#     \"o'clock\": \"of the clock\",\n",
    "#     \"oughtn't\": \"ought not\",\n",
    "#     \"oughtn't've\": \"ought not have\",\n",
    "#     \"shan't\": \"shall not\",\n",
    "#     \"sha'n't\": \"shall not\",\n",
    "#     \"shan't've\": \"shall not have\",\n",
    "#     \"she'd\": \"she would\",\n",
    "#     \"she'd've\": \"she would have\",\n",
    "#     \"she'll\": \"she will\",\n",
    "#     \"she'll've\": \"she will have\",\n",
    "#     \"she's\": \"she is\",\n",
    "#     \"should've\": \"should have\",\n",
    "#     \"shouldn't\": \"should not\",\n",
    "#     \"shouldn't've\": \"should not have\",\n",
    "#     \"so've\": \"so have\",\n",
    "#     \"so's\": \"so as\",\n",
    "#     \"that'd\": \"that would\",\n",
    "#     \"that'd've\": \"that would have\",\n",
    "#     \"that's\": \"that is\",\n",
    "#     \"there'd\": \"there would\",\n",
    "#     \"there'd've\": \"there would have\",\n",
    "#     \"there's\": \"there is\",\n",
    "#     \"they'd\": \"they would\",\n",
    "#     \"they'd've\": \"they would have\",\n",
    "#     \"they'll\": \"they will\",\n",
    "#     \"they'll've\": \"they will have\",\n",
    "#     \"they're\": \"they are\",\n",
    "#     \"they've\": \"they have\",\n",
    "#     \"to've\": \"to have\",\n",
    "#     \"wasn't\": \"was not\",\n",
    "#     \"we'd\": \"we would\",\n",
    "#     \"we'd've\": \"we would have\",\n",
    "#     \"we'll\": \"we will\",\n",
    "#     \"we'll've\": \"we will have\",\n",
    "#     \"we're\": \"we are\",\n",
    "#     \"we've\": \"we have\",\n",
    "#     \"weren't\": \"were not\",\n",
    "#     \"what'll\": \"what will\",\n",
    "#     \"what'll've\": \"what will have\",\n",
    "#     \"what're\": \"what are\",\n",
    "#     \"what's\": \"what is\",\n",
    "#     \"what've\": \"what have\",\n",
    "#     \"when's\": \"when is\",\n",
    "#     \"when've\": \"when have\",\n",
    "#     \"where'd\": \"where did\",\n",
    "#     \"where's\": \"where is\",\n",
    "#     \"where've\": \"where have\",\n",
    "#     \"who'll\": \"who will\",\n",
    "#     \"who'll've\": \"who will have\",\n",
    "#     \"who's\": \"who is\",\n",
    "#     \"who've\": \"who have\",\n",
    "#     \"why's\": \"why is\",\n",
    "#     \"why've\": \"why have\",\n",
    "#     \"will've\": \"will have\",\n",
    "#     \"won't\": \"will not\",\n",
    "#     \"won't've\": \"will not have\",\n",
    "#     \"would've\": \"would have\",\n",
    "#     \"wouldn't\": \"would not\",\n",
    "#     \"wouldn't've\": \"would not have\",\n",
    "#     \"y'all\": \"you all\",\n",
    "#     \"y'all'd\": \"you all would\",\n",
    "#     \"y'all'd've\": \"you all would have\",\n",
    "#     \"y'all're\": \"you all are\",\n",
    "#     \"y'all've\": \"you all have\",\n",
    "#     \"you'd\": \"you would\",\n",
    "#     \"you'd've\": \"you would have\",\n",
    "#     \"you'll\": \"you will\",\n",
    "#     \"you'll've\": \"you will have\",\n",
    "#     \"you're\": \"you are\",\n",
    "#     \"you've\": \"you have\"\n",
    "#     }\n",
    "\n",
    "#     q_decontracted = []\n",
    "\n",
    "#     for word in q.split():\n",
    "#         if (word.strip() not in stop_words):\n",
    "#             if (word in contractions):\n",
    "#                 word = contractions[word]\n",
    "        \n",
    "#         q_decontracted.append(word)\n",
    "        \n",
    "\n",
    "#     q = ' '.join(q_decontracted)\n",
    "# #     non_stop = []\n",
    "# #     for word in q.split():\n",
    "# #         if (word.strip() not in stop_words):\n",
    "# #             non_stop.append(word)\n",
    "            \n",
    "# #     q = ' '.join(non_stop)\n",
    "#     q = q.replace(\"'ve\", \" have\")\n",
    "#     q = q.replace(\"n't\", \" not\")\n",
    "#     q = q.replace(\"'re\", \" are\")\n",
    "#     q = q.replace(\"'ll\", \" will\")\n",
    "    \n",
    "#     # Removing HTML tags\n",
    "#     q = BeautifulSoup(q)\n",
    "#     q = q.get_text()\n",
    "    \n",
    "#     # Remove punctuations\n",
    "#     pattern = re.compile('\\W')\n",
    "#     q = re.sub(pattern, ' ', q).strip()\n",
    "\n",
    "    \n",
    "#     return q"
   ]
  },
  {
   "cell_type": "code",
   "execution_count": 17,
   "id": "2467beda",
   "metadata": {
    "execution": {
     "iopub.execute_input": "2022-11-11T10:28:30.369490Z",
     "iopub.status.busy": "2022-11-11T10:28:30.368724Z",
     "iopub.status.idle": "2022-11-11T10:28:30.375144Z",
     "shell.execute_reply": "2022-11-11T10:28:30.373723Z"
    },
    "papermill": {
     "duration": 0.024842,
     "end_time": "2022-11-11T10:28:30.378500",
     "exception": false,
     "start_time": "2022-11-11T10:28:30.353658",
     "status": "completed"
    },
    "tags": []
   },
   "outputs": [],
   "source": [
    "# %%time\n",
    "# train['question1'] = train['question1'].apply(preprocess)\n",
    "# train['question2'] = train['question2'].apply(preprocess)"
   ]
  },
  {
   "cell_type": "code",
   "execution_count": 18,
   "id": "48f220ad",
   "metadata": {
    "execution": {
     "iopub.execute_input": "2022-11-11T10:28:30.408369Z",
     "iopub.status.busy": "2022-11-11T10:28:30.407868Z",
     "iopub.status.idle": "2022-11-11T10:28:30.414650Z",
     "shell.execute_reply": "2022-11-11T10:28:30.413375Z"
    },
    "papermill": {
     "duration": 0.025148,
     "end_time": "2022-11-11T10:28:30.416649",
     "exception": false,
     "start_time": "2022-11-11T10:28:30.391501",
     "status": "completed"
    },
    "tags": []
   },
   "outputs": [],
   "source": [
    "# train['question1'] = train['question1'].apply(lambda x: x.split())\n",
    "# train['question2'] = train['question2'].apply(lambda x: x.split())"
   ]
  },
  {
   "cell_type": "code",
   "execution_count": 19,
   "id": "0b6edbaa",
   "metadata": {
    "execution": {
     "iopub.execute_input": "2022-11-11T10:28:30.445770Z",
     "iopub.status.busy": "2022-11-11T10:28:30.445332Z",
     "iopub.status.idle": "2022-11-11T10:28:30.569477Z",
     "shell.execute_reply": "2022-11-11T10:28:30.567755Z"
    },
    "papermill": {
     "duration": 0.142066,
     "end_time": "2022-11-11T10:28:30.572043",
     "exception": false,
     "start_time": "2022-11-11T10:28:30.429977",
     "status": "completed"
    },
    "tags": []
   },
   "outputs": [
    {
     "data": {
      "text/html": [
       "<div>\n",
       "<style scoped>\n",
       "    .dataframe tbody tr th:only-of-type {\n",
       "        vertical-align: middle;\n",
       "    }\n",
       "\n",
       "    .dataframe tbody tr th {\n",
       "        vertical-align: top;\n",
       "    }\n",
       "\n",
       "    .dataframe thead th {\n",
       "        text-align: right;\n",
       "    }\n",
       "</style>\n",
       "<table border=\"1\" class=\"dataframe\">\n",
       "  <thead>\n",
       "    <tr style=\"text-align: right;\">\n",
       "      <th></th>\n",
       "      <th>q1_clean</th>\n",
       "      <th>q2_clean</th>\n",
       "      <th>is_duplicate</th>\n",
       "    </tr>\n",
       "  </thead>\n",
       "  <tbody>\n",
       "    <tr>\n",
       "      <th>0</th>\n",
       "      <td>[what, is, the, step, by, step, guide, to, inv...</td>\n",
       "      <td>[what, is, the, step, by, step, guide, to, inv...</td>\n",
       "      <td>0</td>\n",
       "    </tr>\n",
       "    <tr>\n",
       "      <th>1</th>\n",
       "      <td>[what, is, the, story, of, kohinoor, koh, noor...</td>\n",
       "      <td>[what, would, happen, if, the, indian, governm...</td>\n",
       "      <td>0</td>\n",
       "    </tr>\n",
       "    <tr>\n",
       "      <th>2</th>\n",
       "      <td>[how, can, increase, the, speed, of, my, inter...</td>\n",
       "      <td>[how, can, internet, speed, be, increased, by,...</td>\n",
       "      <td>0</td>\n",
       "    </tr>\n",
       "    <tr>\n",
       "      <th>3</th>\n",
       "      <td>[why, am, mentally, very, lonely, how, can, so...</td>\n",
       "      <td>[find, the, remainder, when, math, math, is, d...</td>\n",
       "      <td>0</td>\n",
       "    </tr>\n",
       "    <tr>\n",
       "      <th>4</th>\n",
       "      <td>[which, one, dissolve, in, water, quikly, suga...</td>\n",
       "      <td>[which, fish, would, survive, in, salt, water]</td>\n",
       "      <td>0</td>\n",
       "    </tr>\n",
       "  </tbody>\n",
       "</table>\n",
       "</div>"
      ],
      "text/plain": [
       "                                            q1_clean  \\\n",
       "0  [what, is, the, step, by, step, guide, to, inv...   \n",
       "1  [what, is, the, story, of, kohinoor, koh, noor...   \n",
       "2  [how, can, increase, the, speed, of, my, inter...   \n",
       "3  [why, am, mentally, very, lonely, how, can, so...   \n",
       "4  [which, one, dissolve, in, water, quikly, suga...   \n",
       "\n",
       "                                            q2_clean  is_duplicate  \n",
       "0  [what, is, the, step, by, step, guide, to, inv...             0  \n",
       "1  [what, would, happen, if, the, indian, governm...             0  \n",
       "2  [how, can, internet, speed, be, increased, by,...             0  \n",
       "3  [find, the, remainder, when, math, math, is, d...             0  \n",
       "4     [which, fish, would, survive, in, salt, water]             0  "
      ]
     },
     "execution_count": 19,
     "metadata": {},
     "output_type": "execute_result"
    }
   ],
   "source": [
    "# only question1 and question2 extracted from dataframe\n",
    "ques_df = train[['q1_clean','q2_clean', 'is_duplicate']]\n",
    "ques_df.head()"
   ]
  },
  {
   "cell_type": "markdown",
   "id": "d7430dc3",
   "metadata": {
    "papermill": {
     "duration": 0.012988,
     "end_time": "2022-11-11T10:28:30.598597",
     "exception": false,
     "start_time": "2022-11-11T10:28:30.585609",
     "status": "completed"
    },
    "tags": []
   },
   "source": [
    "*After prepocessing some null values came in*"
   ]
  },
  {
   "cell_type": "code",
   "execution_count": 20,
   "id": "fa9fe3b8",
   "metadata": {
    "execution": {
     "iopub.execute_input": "2022-11-11T10:28:30.627359Z",
     "iopub.status.busy": "2022-11-11T10:28:30.626936Z",
     "iopub.status.idle": "2022-11-11T10:28:30.732672Z",
     "shell.execute_reply": "2022-11-11T10:28:30.730229Z"
    },
    "papermill": {
     "duration": 0.123797,
     "end_time": "2022-11-11T10:28:30.736230",
     "exception": false,
     "start_time": "2022-11-11T10:28:30.612433",
     "status": "completed"
    },
    "tags": []
   },
   "outputs": [
    {
     "name": "stdout",
     "output_type": "stream",
     "text": [
      "3306\n",
      "13016\n",
      "20794\n",
      "31239\n",
      "54029\n",
      "96725\n",
      "104101\n",
      "108977\n",
      "115346\n",
      "134402\n",
      "151921\n",
      "158777\n",
      "169289\n",
      "175583\n",
      "182614\n",
      "189658\n",
      "190569\n",
      "199109\n",
      "208483\n",
      "213218\n",
      "217456\n",
      "254159\n",
      "273063\n",
      "301581\n",
      "342157\n",
      "351786\n",
      "357125\n",
      "402420\n"
     ]
    }
   ],
   "source": [
    "count = 0\n",
    "for i in ques_df['q1_clean'].values:\n",
    "    if(len(i)==0):\n",
    "        print(count)\n",
    "    count+=1"
   ]
  },
  {
   "cell_type": "code",
   "execution_count": 21,
   "id": "50d271c4",
   "metadata": {
    "execution": {
     "iopub.execute_input": "2022-11-11T10:28:30.766172Z",
     "iopub.status.busy": "2022-11-11T10:28:30.765659Z",
     "iopub.status.idle": "2022-11-11T10:28:30.875576Z",
     "shell.execute_reply": "2022-11-11T10:28:30.872956Z"
    },
    "papermill": {
     "duration": 0.128486,
     "end_time": "2022-11-11T10:28:30.878202",
     "exception": false,
     "start_time": "2022-11-11T10:28:30.749716",
     "status": "completed"
    },
    "tags": []
   },
   "outputs": [
    {
     "name": "stdout",
     "output_type": "stream",
     "text": [
      "20072\n",
      "34755\n",
      "47056\n",
      "124820\n",
      "198912\n",
      "222728\n",
      "226923\n",
      "384290\n"
     ]
    }
   ],
   "source": [
    "count = 0\n",
    "for i in ques_df['q2_clean'].values:\n",
    "    if(len(i)==0):\n",
    "        print(count)\n",
    "    count+=1"
   ]
  },
  {
   "cell_type": "code",
   "execution_count": 22,
   "id": "f2f165f4",
   "metadata": {
    "execution": {
     "iopub.execute_input": "2022-11-11T10:28:30.907669Z",
     "iopub.status.busy": "2022-11-11T10:28:30.907217Z",
     "iopub.status.idle": "2022-11-11T10:28:30.917785Z",
     "shell.execute_reply": "2022-11-11T10:28:30.915350Z"
    },
    "papermill": {
     "duration": 0.029656,
     "end_time": "2022-11-11T10:28:30.921883",
     "exception": false,
     "start_time": "2022-11-11T10:28:30.892227",
     "status": "completed"
    },
    "tags": []
   },
   "outputs": [
    {
     "data": {
      "text/plain": [
       "[]"
      ]
     },
     "execution_count": 22,
     "metadata": {},
     "output_type": "execute_result"
    }
   ],
   "source": [
    "ques_df['q1_clean'].iloc[402420]"
   ]
  },
  {
   "cell_type": "code",
   "execution_count": 23,
   "id": "cb9e3b32",
   "metadata": {
    "execution": {
     "iopub.execute_input": "2022-11-11T10:28:30.951838Z",
     "iopub.status.busy": "2022-11-11T10:28:30.951406Z",
     "iopub.status.idle": "2022-11-11T10:28:30.960693Z",
     "shell.execute_reply": "2022-11-11T10:28:30.958798Z"
    },
    "papermill": {
     "duration": 0.028154,
     "end_time": "2022-11-11T10:28:30.964103",
     "exception": false,
     "start_time": "2022-11-11T10:28:30.935949",
     "status": "completed"
    },
    "tags": []
   },
   "outputs": [
    {
     "data": {
      "text/plain": [
       "(404287, 3)"
      ]
     },
     "execution_count": 23,
     "metadata": {},
     "output_type": "execute_result"
    }
   ],
   "source": [
    "ques_df.shape"
   ]
  },
  {
   "cell_type": "code",
   "execution_count": 24,
   "id": "c82612f1",
   "metadata": {
    "execution": {
     "iopub.execute_input": "2022-11-11T10:28:30.993534Z",
     "iopub.status.busy": "2022-11-11T10:28:30.992991Z",
     "iopub.status.idle": "2022-11-11T10:28:31.249258Z",
     "shell.execute_reply": "2022-11-11T10:28:31.246707Z"
    },
    "papermill": {
     "duration": 0.274855,
     "end_time": "2022-11-11T10:28:31.252579",
     "exception": false,
     "start_time": "2022-11-11T10:28:30.977724",
     "status": "completed"
    },
    "tags": []
   },
   "outputs": [],
   "source": [
    "ques_df['q1_clean'] = ques_df['q1_clean'].apply(lambda x: np.nan if len(x)==0 else x)\n",
    "ques_df['q2_clean'] = ques_df['q2_clean'].apply(lambda x: np.nan if len(x)==0 else x)"
   ]
  },
  {
   "cell_type": "code",
   "execution_count": 25,
   "id": "3e276c1e",
   "metadata": {
    "execution": {
     "iopub.execute_input": "2022-11-11T10:28:31.284140Z",
     "iopub.status.busy": "2022-11-11T10:28:31.282834Z",
     "iopub.status.idle": "2022-11-11T10:28:31.356444Z",
     "shell.execute_reply": "2022-11-11T10:28:31.353716Z"
    },
    "papermill": {
     "duration": 0.092687,
     "end_time": "2022-11-11T10:28:31.359739",
     "exception": false,
     "start_time": "2022-11-11T10:28:31.267052",
     "status": "completed"
    },
    "tags": []
   },
   "outputs": [],
   "source": [
    "ques_df.dropna(axis = 0, inplace=True)"
   ]
  },
  {
   "cell_type": "code",
   "execution_count": 26,
   "id": "62b77a25",
   "metadata": {
    "execution": {
     "iopub.execute_input": "2022-11-11T10:28:31.391108Z",
     "iopub.status.busy": "2022-11-11T10:28:31.390590Z",
     "iopub.status.idle": "2022-11-11T10:28:31.489235Z",
     "shell.execute_reply": "2022-11-11T10:28:31.487745Z"
    },
    "papermill": {
     "duration": 0.118198,
     "end_time": "2022-11-11T10:28:31.492534",
     "exception": false,
     "start_time": "2022-11-11T10:28:31.374336",
     "status": "completed"
    },
    "tags": []
   },
   "outputs": [],
   "source": [
    "question = list(ques_df['q1_clean'])+list(ques_df['q2_clean'])\n"
   ]
  },
  {
   "cell_type": "code",
   "execution_count": 27,
   "id": "3ab12c87",
   "metadata": {
    "execution": {
     "iopub.execute_input": "2022-11-11T10:28:31.523777Z",
     "iopub.status.busy": "2022-11-11T10:28:31.523226Z",
     "iopub.status.idle": "2022-11-11T10:29:27.664215Z",
     "shell.execute_reply": "2022-11-11T10:29:27.663338Z"
    },
    "papermill": {
     "duration": 56.172954,
     "end_time": "2022-11-11T10:29:27.680082",
     "exception": false,
     "start_time": "2022-11-11T10:28:31.507128",
     "status": "completed"
    },
    "tags": []
   },
   "outputs": [
    {
     "name": "stdout",
     "output_type": "stream",
     "text": [
      "CPU times: user 3min 2s, sys: 1 s, total: 3min 3s\n",
      "Wall time: 56.1 s\n"
     ]
    }
   ],
   "source": [
    "%%time\n",
    "from gensim.models import Word2Vec\n",
    "model = Word2Vec(sentences=question, vector_size=300, window=10, min_count=2, workers=4)\n",
    "model.build_vocab(question)"
   ]
  },
  {
   "cell_type": "code",
   "execution_count": 28,
   "id": "3fa0a2bc",
   "metadata": {
    "execution": {
     "iopub.execute_input": "2022-11-11T10:29:27.709242Z",
     "iopub.status.busy": "2022-11-11T10:29:27.708732Z",
     "iopub.status.idle": "2022-11-11T10:30:15.749203Z",
     "shell.execute_reply": "2022-11-11T10:30:15.747493Z"
    },
    "papermill": {
     "duration": 48.071987,
     "end_time": "2022-11-11T10:30:15.765116",
     "exception": false,
     "start_time": "2022-11-11T10:29:27.693129",
     "status": "completed"
    },
    "tags": []
   },
   "outputs": [
    {
     "name": "stdout",
     "output_type": "stream",
     "text": [
      "CPU times: user 2min 49s, sys: 1.01 s, total: 2min 50s\n",
      "Wall time: 48 s\n"
     ]
    },
    {
     "data": {
      "text/plain": [
       "(30346006, 42081155)"
      ]
     },
     "execution_count": 28,
     "metadata": {},
     "output_type": "execute_result"
    }
   ],
   "source": [
    "%%time\n",
    "model.train(question, total_examples=model.corpus_count, epochs=model.epochs)"
   ]
  },
  {
   "cell_type": "code",
   "execution_count": 29,
   "id": "c2e6fe86",
   "metadata": {
    "execution": {
     "iopub.execute_input": "2022-11-11T10:30:15.795263Z",
     "iopub.status.busy": "2022-11-11T10:30:15.794779Z",
     "iopub.status.idle": "2022-11-11T10:30:15.825463Z",
     "shell.execute_reply": "2022-11-11T10:30:15.824582Z"
    },
    "papermill": {
     "duration": 0.050824,
     "end_time": "2022-11-11T10:30:15.829795",
     "exception": false,
     "start_time": "2022-11-11T10:30:15.778971",
     "status": "completed"
    },
    "tags": []
   },
   "outputs": [
    {
     "data": {
      "text/plain": [
       "[('firefox', 0.5036675930023193),\n",
       " ('dropbox', 0.4534209370613098),\n",
       " ('microsoft', 0.44438791275024414),\n",
       " ('amazon', 0.4404872953891754),\n",
       " ('facebook', 0.4143190383911133),\n",
       " ('backups', 0.40237855911254883),\n",
       " ('ibm', 0.39561042189598083),\n",
       " ('yelp', 0.38672056794166565),\n",
       " ('webpage', 0.38671866059303284),\n",
       " ('click', 0.3829178214073181)]"
      ]
     },
     "execution_count": 29,
     "metadata": {},
     "output_type": "execute_result"
    }
   ],
   "source": [
    "model.wv.most_similar('google')"
   ]
  },
  {
   "cell_type": "code",
   "execution_count": 30,
   "id": "8f4b5428",
   "metadata": {
    "execution": {
     "iopub.execute_input": "2022-11-11T10:30:15.869797Z",
     "iopub.status.busy": "2022-11-11T10:30:15.868435Z",
     "iopub.status.idle": "2022-11-11T10:30:15.885742Z",
     "shell.execute_reply": "2022-11-11T10:30:15.884717Z"
    },
    "papermill": {
     "duration": 0.040658,
     "end_time": "2022-11-11T10:30:15.888552",
     "exception": false,
     "start_time": "2022-11-11T10:30:15.847894",
     "status": "completed"
    },
    "tags": []
   },
   "outputs": [],
   "source": [
    "words = set(model.wv.index_to_key )\n",
    "# words"
   ]
  },
  {
   "cell_type": "code",
   "execution_count": 31,
   "id": "8eb1100d",
   "metadata": {
    "execution": {
     "iopub.execute_input": "2022-11-11T10:30:15.930250Z",
     "iopub.status.busy": "2022-11-11T10:30:15.929766Z",
     "iopub.status.idle": "2022-11-11T10:30:33.897158Z",
     "shell.execute_reply": "2022-11-11T10:30:33.895204Z"
    },
    "papermill": {
     "duration": 17.990786,
     "end_time": "2022-11-11T10:30:33.900863",
     "exception": false,
     "start_time": "2022-11-11T10:30:15.910077",
     "status": "completed"
    },
    "tags": []
   },
   "outputs": [],
   "source": [
    "ques_df[\"question_1\"] = ques_df[\"q1_clean\"].apply(lambda text: np.mean([model.wv[word] for word in text if word in model.wv], axis  =0))"
   ]
  },
  {
   "cell_type": "code",
   "execution_count": 32,
   "id": "cd6e5279",
   "metadata": {
    "execution": {
     "iopub.execute_input": "2022-11-11T10:30:33.931034Z",
     "iopub.status.busy": "2022-11-11T10:30:33.930555Z",
     "iopub.status.idle": "2022-11-11T10:30:52.209200Z",
     "shell.execute_reply": "2022-11-11T10:30:52.207372Z"
    },
    "papermill": {
     "duration": 18.297506,
     "end_time": "2022-11-11T10:30:52.212506",
     "exception": false,
     "start_time": "2022-11-11T10:30:33.915000",
     "status": "completed"
    },
    "tags": []
   },
   "outputs": [],
   "source": [
    "ques_df[\"question_2\"] = ques_df[\"q2_clean\"].apply(lambda text: np.mean([model.wv[word] for word in text if word in model.wv],axis = 0))"
   ]
  },
  {
   "cell_type": "code",
   "execution_count": 33,
   "id": "44e2c5c0",
   "metadata": {
    "execution": {
     "iopub.execute_input": "2022-11-11T10:30:52.245532Z",
     "iopub.status.busy": "2022-11-11T10:30:52.244061Z",
     "iopub.status.idle": "2022-11-11T10:31:00.784168Z",
     "shell.execute_reply": "2022-11-11T10:31:00.782395Z"
    },
    "papermill": {
     "duration": 8.55895,
     "end_time": "2022-11-11T10:31:00.786420",
     "exception": false,
     "start_time": "2022-11-11T10:30:52.227470",
     "status": "completed"
    },
    "tags": []
   },
   "outputs": [
    {
     "name": "stdout",
     "output_type": "stream",
     "text": [
      "CPU times: user 7.92 s, sys: 625 ms, total: 8.54 s\n",
      "Wall time: 8.53 s\n"
     ]
    }
   ],
   "source": [
    "%%time\n",
    "ques_df['new'] = ques_df.apply(lambda x : np.hstack([x['question_1'],x['question_2']]), axis = 1)"
   ]
  },
  {
   "cell_type": "code",
   "execution_count": 34,
   "id": "583a37e4",
   "metadata": {
    "execution": {
     "iopub.execute_input": "2022-11-11T10:31:00.817347Z",
     "iopub.status.busy": "2022-11-11T10:31:00.816063Z",
     "iopub.status.idle": "2022-11-11T10:31:00.824235Z",
     "shell.execute_reply": "2022-11-11T10:31:00.822506Z"
    },
    "papermill": {
     "duration": 0.026968,
     "end_time": "2022-11-11T10:31:00.827573",
     "exception": false,
     "start_time": "2022-11-11T10:31:00.800605",
     "status": "completed"
    },
    "tags": []
   },
   "outputs": [],
   "source": [
    "X = ques_df['new'].values\n",
    "y = np.array(ques_df['is_duplicate'].values)"
   ]
  },
  {
   "cell_type": "code",
   "execution_count": 35,
   "id": "14002ef7",
   "metadata": {
    "execution": {
     "iopub.execute_input": "2022-11-11T10:31:00.858459Z",
     "iopub.status.busy": "2022-11-11T10:31:00.857718Z",
     "iopub.status.idle": "2022-11-11T10:31:00.864788Z",
     "shell.execute_reply": "2022-11-11T10:31:00.863827Z"
    },
    "papermill": {
     "duration": 0.024385,
     "end_time": "2022-11-11T10:31:00.866741",
     "exception": false,
     "start_time": "2022-11-11T10:31:00.842356",
     "status": "completed"
    },
    "tags": []
   },
   "outputs": [
    {
     "data": {
      "text/plain": [
       "((404251,), (404251,))"
      ]
     },
     "execution_count": 35,
     "metadata": {},
     "output_type": "execute_result"
    }
   ],
   "source": [
    "X.shape, y.shape"
   ]
  },
  {
   "cell_type": "code",
   "execution_count": 36,
   "id": "d8a07c34",
   "metadata": {
    "execution": {
     "iopub.execute_input": "2022-11-11T10:31:00.896527Z",
     "iopub.status.busy": "2022-11-11T10:31:00.895801Z",
     "iopub.status.idle": "2022-11-11T10:31:00.902078Z",
     "shell.execute_reply": "2022-11-11T10:31:00.900217Z"
    },
    "papermill": {
     "duration": 0.025501,
     "end_time": "2022-11-11T10:31:00.905858",
     "exception": false,
     "start_time": "2022-11-11T10:31:00.880357",
     "status": "completed"
    },
    "tags": []
   },
   "outputs": [],
   "source": [
    "# count = 0\n",
    "# index = []\n",
    "# for ele in x:\n",
    "#     if ele.dtype!='float32':\n",
    "#         index.append(count)\n",
    "#     count+=1\n",
    "# index      "
   ]
  },
  {
   "cell_type": "code",
   "execution_count": null,
   "id": "1d1ab823",
   "metadata": {
    "execution": {
     "iopub.execute_input": "2022-11-11T07:25:29.972101Z",
     "iopub.status.busy": "2022-11-11T07:25:29.971692Z",
     "iopub.status.idle": "2022-11-11T07:25:29.979204Z",
     "shell.execute_reply": "2022-11-11T07:25:29.977767Z",
     "shell.execute_reply.started": "2022-11-11T07:25:29.972068Z"
    },
    "papermill": {
     "duration": 0.016496,
     "end_time": "2022-11-11T10:31:00.941152",
     "exception": false,
     "start_time": "2022-11-11T10:31:00.924656",
     "status": "completed"
    },
    "tags": []
   },
   "outputs": [],
   "source": []
  },
  {
   "cell_type": "code",
   "execution_count": 37,
   "id": "37b890bb",
   "metadata": {
    "execution": {
     "iopub.execute_input": "2022-11-11T10:31:00.974872Z",
     "iopub.status.busy": "2022-11-11T10:31:00.974279Z",
     "iopub.status.idle": "2022-11-11T10:31:01.214283Z",
     "shell.execute_reply": "2022-11-11T10:31:01.212618Z"
    },
    "papermill": {
     "duration": 0.260378,
     "end_time": "2022-11-11T10:31:01.217468",
     "exception": false,
     "start_time": "2022-11-11T10:31:00.957090",
     "status": "completed"
    },
    "tags": []
   },
   "outputs": [],
   "source": [
    "x_updated = []\n",
    "y_updated = []\n",
    "for i, ele in enumerate(ques_df['new'].values):\n",
    "    if ele.dtype=='float32':\n",
    "        x_updated.append(ele)\n",
    "        y_updated.append(y[i])"
   ]
  },
  {
   "cell_type": "code",
   "execution_count": 38,
   "id": "b979c362",
   "metadata": {
    "execution": {
     "iopub.execute_input": "2022-11-11T10:31:01.248969Z",
     "iopub.status.busy": "2022-11-11T10:31:01.248488Z",
     "iopub.status.idle": "2022-11-11T10:31:01.666161Z",
     "shell.execute_reply": "2022-11-11T10:31:01.664733Z"
    },
    "papermill": {
     "duration": 0.437014,
     "end_time": "2022-11-11T10:31:01.668528",
     "exception": false,
     "start_time": "2022-11-11T10:31:01.231514",
     "status": "completed"
    },
    "tags": []
   },
   "outputs": [
    {
     "data": {
      "text/plain": [
       "((404247, 600), (404247,))"
      ]
     },
     "execution_count": 38,
     "metadata": {},
     "output_type": "execute_result"
    }
   ],
   "source": [
    "x_updated = np.array(x_updated)\n",
    "y_updated = np.array(y_updated)\n",
    "x_updated.shape, y_updated.shape\n"
   ]
  },
  {
   "cell_type": "code",
   "execution_count": 39,
   "id": "ed0cc974",
   "metadata": {
    "execution": {
     "iopub.execute_input": "2022-11-11T10:31:01.697366Z",
     "iopub.status.busy": "2022-11-11T10:31:01.696501Z",
     "iopub.status.idle": "2022-11-11T10:31:02.019884Z",
     "shell.execute_reply": "2022-11-11T10:31:02.018373Z"
    },
    "papermill": {
     "duration": 0.340742,
     "end_time": "2022-11-11T10:31:02.022652",
     "exception": false,
     "start_time": "2022-11-11T10:31:01.681910",
     "status": "completed"
    },
    "tags": []
   },
   "outputs": [],
   "source": [
    "Xtrain,Xtest,ytrain,ytest = train_test_split(x_updated, y_updated,test_size = 0.2,random_state = 24)"
   ]
  },
  {
   "cell_type": "code",
   "execution_count": 40,
   "id": "3356b4a0",
   "metadata": {
    "execution": {
     "iopub.execute_input": "2022-11-11T10:31:02.052282Z",
     "iopub.status.busy": "2022-11-11T10:31:02.051880Z",
     "iopub.status.idle": "2022-11-11T10:31:02.060610Z",
     "shell.execute_reply": "2022-11-11T10:31:02.059327Z"
    },
    "papermill": {
     "duration": 0.026333,
     "end_time": "2022-11-11T10:31:02.062721",
     "exception": false,
     "start_time": "2022-11-11T10:31:02.036388",
     "status": "completed"
    },
    "tags": []
   },
   "outputs": [
    {
     "data": {
      "text/plain": [
       "((323397, 600), (323397,))"
      ]
     },
     "execution_count": 40,
     "metadata": {},
     "output_type": "execute_result"
    }
   ],
   "source": [
    "Xtrain.shape, ytrain.shape"
   ]
  },
  {
   "cell_type": "code",
   "execution_count": 41,
   "id": "c534661d",
   "metadata": {
    "execution": {
     "iopub.execute_input": "2022-11-11T10:31:02.093019Z",
     "iopub.status.busy": "2022-11-11T10:31:02.092196Z",
     "iopub.status.idle": "2022-11-11T10:31:19.838880Z",
     "shell.execute_reply": "2022-11-11T10:31:19.836677Z"
    },
    "papermill": {
     "duration": 17.764646,
     "end_time": "2022-11-11T10:31:19.841203",
     "exception": false,
     "start_time": "2022-11-11T10:31:02.076557",
     "status": "completed"
    },
    "tags": []
   },
   "outputs": [
    {
     "name": "stdout",
     "output_type": "stream",
     "text": [
      "72.84848484848484\n"
     ]
    }
   ],
   "source": [
    "from sklearn.linear_model import LogisticRegression\n",
    "from sklearn.metrics import accuracy_score\n",
    "lr = LogisticRegression()\n",
    "lr.fit(Xtrain,ytrain)\n",
    "pre = lr.predict(Xtest)\n",
    "acc =accuracy_score(ytest,pre)\n",
    "print(acc*100)\n",
    "\n"
   ]
  },
  {
   "cell_type": "code",
   "execution_count": 42,
   "id": "d30a7e7b",
   "metadata": {
    "execution": {
     "iopub.execute_input": "2022-11-11T10:31:19.877118Z",
     "iopub.status.busy": "2022-11-11T10:31:19.876697Z",
     "iopub.status.idle": "2022-11-11T11:02:22.788483Z",
     "shell.execute_reply": "2022-11-11T11:02:22.786851Z"
    },
    "papermill": {
     "duration": 1862.946176,
     "end_time": "2022-11-11T11:02:22.804512",
     "exception": false,
     "start_time": "2022-11-11T10:31:19.858336",
     "status": "completed"
    },
    "tags": []
   },
   "outputs": [
    {
     "name": "stdout",
     "output_type": "stream",
     "text": [
      "79.74025974025975\n"
     ]
    }
   ],
   "source": [
    "from sklearn.ensemble import RandomForestClassifier\n",
    "rf = RandomForestClassifier()\n",
    "rf.fit(Xtrain,ytrain)\n",
    "pre = rf.predict(Xtest)\n",
    "acc =accuracy_score(ytest,pre)\n",
    "print(acc*100)"
   ]
  },
  {
   "cell_type": "code",
   "execution_count": 43,
   "id": "cda8b313",
   "metadata": {
    "execution": {
     "iopub.execute_input": "2022-11-11T11:02:22.834180Z",
     "iopub.status.busy": "2022-11-11T11:02:22.833683Z",
     "iopub.status.idle": "2022-11-11T11:53:46.709981Z",
     "shell.execute_reply": "2022-11-11T11:53:46.708787Z"
    },
    "papermill": {
     "duration": 3083.894535,
     "end_time": "2022-11-11T11:53:46.712763",
     "exception": false,
     "start_time": "2022-11-11T11:02:22.818228",
     "status": "completed"
    },
    "tags": []
   },
   "outputs": [
    {
     "name": "stderr",
     "output_type": "stream",
     "text": [
      "2022-11-11 11:02:23.453592: I tensorflow/core/common_runtime/process_util.cc:146] Creating new thread pool with default inter op setting: 2. Tune using inter_op_parallelism_threads for best performance.\n",
      "2022-11-11 11:02:24.048661: I tensorflow/compiler/mlir/mlir_graph_optimization_pass.cc:185] None of the MLIR Optimization Passes are enabled (registered 2)\n"
     ]
    },
    {
     "name": "stdout",
     "output_type": "stream",
     "text": [
      "Epoch 1/15\n",
      "32340/32340 [==============================] - 201s 6ms/step - loss: 0.4917 - accuracy: 0.7504 - val_loss: 0.4578 - val_accuracy: 0.7704\n",
      "Epoch 2/15\n",
      "32340/32340 [==============================] - 203s 6ms/step - loss: 0.4418 - accuracy: 0.7802 - val_loss: 0.4394 - val_accuracy: 0.7819\n",
      "Epoch 3/15\n",
      "32340/32340 [==============================] - 201s 6ms/step - loss: 0.4152 - accuracy: 0.7945 - val_loss: 0.4336 - val_accuracy: 0.7887\n",
      "Epoch 4/15\n",
      "32340/32340 [==============================] - 203s 6ms/step - loss: 0.3922 - accuracy: 0.8089 - val_loss: 0.4287 - val_accuracy: 0.7907\n",
      "Epoch 5/15\n",
      "32340/32340 [==============================] - 208s 6ms/step - loss: 0.3715 - accuracy: 0.8211 - val_loss: 0.4339 - val_accuracy: 0.7963\n",
      "Epoch 6/15\n",
      "32340/32340 [==============================] - 204s 6ms/step - loss: 0.3527 - accuracy: 0.8312 - val_loss: 0.4242 - val_accuracy: 0.7937\n",
      "Epoch 7/15\n",
      "32340/32340 [==============================] - 202s 6ms/step - loss: 0.3364 - accuracy: 0.8404 - val_loss: 0.4443 - val_accuracy: 0.8001\n",
      "Epoch 8/15\n",
      "32340/32340 [==============================] - 206s 6ms/step - loss: 0.3204 - accuracy: 0.8492 - val_loss: 0.4629 - val_accuracy: 0.8008\n",
      "Epoch 9/15\n",
      "32340/32340 [==============================] - 213s 7ms/step - loss: 0.3045 - accuracy: 0.8575 - val_loss: 0.5013 - val_accuracy: 0.7969\n",
      "Epoch 10/15\n",
      "32340/32340 [==============================] - 211s 7ms/step - loss: 0.2895 - accuracy: 0.8657 - val_loss: 0.4662 - val_accuracy: 0.7990\n",
      "Epoch 11/15\n",
      "32340/32340 [==============================] - 206s 6ms/step - loss: 0.2759 - accuracy: 0.8733 - val_loss: 0.5416 - val_accuracy: 0.7985\n",
      "Epoch 12/15\n",
      "32340/32340 [==============================] - 203s 6ms/step - loss: 0.2674 - accuracy: 0.8799 - val_loss: 0.4846 - val_accuracy: 0.7986\n",
      "Epoch 13/15\n",
      "32340/32340 [==============================] - 201s 6ms/step - loss: 0.2517 - accuracy: 0.8857 - val_loss: 0.5077 - val_accuracy: 0.7967\n",
      "Epoch 14/15\n",
      "32340/32340 [==============================] - 207s 6ms/step - loss: 0.2410 - accuracy: 0.8920 - val_loss: 0.6092 - val_accuracy: 0.8006\n",
      "Epoch 15/15\n",
      "32340/32340 [==============================] - 195s 6ms/step - loss: 0.2306 - accuracy: 0.8967 - val_loss: 0.6044 - val_accuracy: 0.8021\n"
     ]
    },
    {
     "data": {
      "text/plain": [
       "<keras.callbacks.History at 0x7fbb46f96e50>"
      ]
     },
     "execution_count": 43,
     "metadata": {},
     "output_type": "execute_result"
    }
   ],
   "source": [
    "from tensorflow.keras.models import Sequential\n",
    "from tensorflow.keras.layers import Dense\n",
    "\n",
    "# define the keras model\n",
    "model = Sequential()\n",
    "model.add(Dense(512, input_shape = (Xtrain.shape[1],), activation='relu'))\n",
    "model.add(Dense(288, activation='relu'))\n",
    "model.add(Dense(144, activation='relu'))\n",
    "model.add(Dense(64, activation='relu'))\n",
    "model.add(Dense(32, activation='relu'))\n",
    "model.add(Dense(1, activation='sigmoid'))\n",
    "# compile the keras model\n",
    "model.compile(loss='binary_crossentropy', optimizer='adam', metrics=['accuracy'])\n",
    "# fit the keras model on the dataset\n",
    "model.fit(Xtrain,ytrain, epochs=15, batch_size=10, validation_data = (Xtest, ytest))"
   ]
  },
  {
   "cell_type": "code",
   "execution_count": null,
   "id": "60cf8096",
   "metadata": {
    "papermill": {
     "duration": 3.156122,
     "end_time": "2022-11-11T11:53:53.102309",
     "exception": false,
     "start_time": "2022-11-11T11:53:49.946187",
     "status": "completed"
    },
    "tags": []
   },
   "outputs": [],
   "source": []
  }
 ],
 "metadata": {
  "kernelspec": {
   "display_name": "Python 3",
   "language": "python",
   "name": "python3"
  },
  "language_info": {
   "codemirror_mode": {
    "name": "ipython",
    "version": 3
   },
   "file_extension": ".py",
   "mimetype": "text/x-python",
   "name": "python",
   "nbconvert_exporter": "python",
   "pygments_lexer": "ipython3",
   "version": "3.7.12"
  },
  "papermill": {
   "default_parameters": {},
   "duration": 5166.017456,
   "end_time": "2022-11-11T11:53:59.039897",
   "environment_variables": {},
   "exception": null,
   "input_path": "__notebook__.ipynb",
   "output_path": "__notebook__.ipynb",
   "parameters": {},
   "start_time": "2022-11-11T10:27:53.022441",
   "version": "2.3.4"
  }
 },
 "nbformat": 4,
 "nbformat_minor": 5
}
