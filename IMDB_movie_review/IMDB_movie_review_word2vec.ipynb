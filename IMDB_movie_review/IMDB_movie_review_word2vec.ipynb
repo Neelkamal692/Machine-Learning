{
  "cells": [
    {
      "cell_type": "markdown",
      "metadata": {
        "id": "1iI2PfAo4j9B"
      },
      "source": [
        "## importing required Libraries"
      ]
    },
    {
      "cell_type": "code",
      "execution_count": null,
      "metadata": {
        "colab": {
          "base_uri": "https://localhost:8080/"
        },
        "id": "J2RS4oTk4j9G",
        "outputId": "2eb722fc-49cf-4ad4-b404-e90bcba8affd"
      },
      "outputs": [
        {
          "output_type": "stream",
          "name": "stderr",
          "text": [
            "[nltk_data] Downloading package wordnet to /root/nltk_data...\n",
            "[nltk_data] Downloading package omw-1.4 to /root/nltk_data...\n",
            "[nltk_data] Downloading package stopwords to /root/nltk_data...\n",
            "[nltk_data]   Unzipping corpora/stopwords.zip.\n"
          ]
        }
      ],
      "source": [
        "import warnings\n",
        "warnings.filterwarnings('ignore')\n",
        "from string import punctuation\n",
        "from os import listdir\n",
        "from collections import Counter\n",
        "from nltk.corpus import stopwords\n",
        "from sklearn.linear_model import LogisticRegression\n",
        "from sklearn.metrics import accuracy_score\n",
        "import pandas as pd\n",
        "import numpy as np\n",
        "import string\n",
        "import re\n",
        "from bs4 import BeautifulSoup\n",
        "from nltk.stem import PorterStemmer\n",
        "from sklearn.model_selection import train_test_split\n",
        "from keras.preprocessing.text import Tokenizer\n",
        "from keras.utils.vis_utils import plot_model\n",
        "from keras.models import Sequential\n",
        "from keras.layers import Dense\n",
        "from collections import Counter\n",
        "from sklearn.ensemble import RandomForestClassifier\n",
        "rf = RandomForestClassifier()\n",
        "import nltk\n",
        "nltk.download('wordnet')\n",
        "nltk.download('omw-1.4')\n",
        "from textblob import Word\n",
        "nltk.download('stopwords')\n",
        "vocab = Counter()\n",
        "\n"
      ]
    },
    {
      "cell_type": "markdown",
      "metadata": {
        "id": "NDmfz9Na4j9M"
      },
      "source": [
        "### stop words in english to remove them from corpus"
      ]
    },
    {
      "cell_type": "code",
      "execution_count": null,
      "metadata": {
        "id": "9I_F89it4j9N"
      },
      "outputs": [],
      "source": [
        "stop_words = set(stopwords.words('english'))\n",
        "from nltk.stem import WordNetLemmatizer\n",
        "lemmatizer = WordNetLemmatizer()\n",
        "ps = PorterStemmer()"
      ]
    },
    {
      "cell_type": "code",
      "execution_count": null,
      "metadata": {
        "id": "WmqUq3Hd4j9T"
      },
      "outputs": [],
      "source": [
        "#Removing the html strips\n",
        "def strip_html(text):\n",
        "    soup = BeautifulSoup(text, \"html.parser\")\n",
        "    return soup.get_text()\n",
        "\n",
        "#Removing the square brackets\n",
        "def remove_between_square_brackets(text):\n",
        "    return re.sub('\\[[^]]*\\]', '', text)\n",
        "\n",
        "#Removing the noisy text\n",
        "def denoise_text(text):\n",
        "    text = strip_html(text)\n",
        "    text = remove_between_square_brackets(text)\n",
        "    return text"
      ]
    },
    {
      "cell_type": "code",
      "execution_count": null,
      "metadata": {
        "id": "yLoymzuO4j9V"
      },
      "outputs": [],
      "source": [
        "train = pd.read_csv('/content/drive/MyDrive/imdb_movie_review/IMDB Dataset.csv')"
      ]
    },
    {
      "cell_type": "code",
      "execution_count": null,
      "metadata": {
        "colab": {
          "base_uri": "https://localhost:8080/",
          "height": 206
        },
        "id": "KB7kQvyl6Yzp",
        "outputId": "44f3a210-f848-4784-dbd7-73dde2244fed"
      },
      "outputs": [
        {
          "output_type": "execute_result",
          "data": {
            "text/plain": [
              "                                              review sentiment\n",
              "0  One of the other reviewers has mentioned that ...  positive\n",
              "1  A wonderful little production. <br /><br />The...  positive\n",
              "2  I thought this was a wonderful way to spend ti...  positive\n",
              "3  Basically there's a family where a little boy ...  negative\n",
              "4  Petter Mattei's \"Love in the Time of Money\" is...  positive"
            ],
            "text/html": [
              "\n",
              "  <div id=\"df-87ea2ed7-b625-4926-9490-631283b0e023\">\n",
              "    <div class=\"colab-df-container\">\n",
              "      <div>\n",
              "<style scoped>\n",
              "    .dataframe tbody tr th:only-of-type {\n",
              "        vertical-align: middle;\n",
              "    }\n",
              "\n",
              "    .dataframe tbody tr th {\n",
              "        vertical-align: top;\n",
              "    }\n",
              "\n",
              "    .dataframe thead th {\n",
              "        text-align: right;\n",
              "    }\n",
              "</style>\n",
              "<table border=\"1\" class=\"dataframe\">\n",
              "  <thead>\n",
              "    <tr style=\"text-align: right;\">\n",
              "      <th></th>\n",
              "      <th>review</th>\n",
              "      <th>sentiment</th>\n",
              "    </tr>\n",
              "  </thead>\n",
              "  <tbody>\n",
              "    <tr>\n",
              "      <th>0</th>\n",
              "      <td>One of the other reviewers has mentioned that ...</td>\n",
              "      <td>positive</td>\n",
              "    </tr>\n",
              "    <tr>\n",
              "      <th>1</th>\n",
              "      <td>A wonderful little production. &lt;br /&gt;&lt;br /&gt;The...</td>\n",
              "      <td>positive</td>\n",
              "    </tr>\n",
              "    <tr>\n",
              "      <th>2</th>\n",
              "      <td>I thought this was a wonderful way to spend ti...</td>\n",
              "      <td>positive</td>\n",
              "    </tr>\n",
              "    <tr>\n",
              "      <th>3</th>\n",
              "      <td>Basically there's a family where a little boy ...</td>\n",
              "      <td>negative</td>\n",
              "    </tr>\n",
              "    <tr>\n",
              "      <th>4</th>\n",
              "      <td>Petter Mattei's \"Love in the Time of Money\" is...</td>\n",
              "      <td>positive</td>\n",
              "    </tr>\n",
              "  </tbody>\n",
              "</table>\n",
              "</div>\n",
              "      <button class=\"colab-df-convert\" onclick=\"convertToInteractive('df-87ea2ed7-b625-4926-9490-631283b0e023')\"\n",
              "              title=\"Convert this dataframe to an interactive table.\"\n",
              "              style=\"display:none;\">\n",
              "        \n",
              "  <svg xmlns=\"http://www.w3.org/2000/svg\" height=\"24px\"viewBox=\"0 0 24 24\"\n",
              "       width=\"24px\">\n",
              "    <path d=\"M0 0h24v24H0V0z\" fill=\"none\"/>\n",
              "    <path d=\"M18.56 5.44l.94 2.06.94-2.06 2.06-.94-2.06-.94-.94-2.06-.94 2.06-2.06.94zm-11 1L8.5 8.5l.94-2.06 2.06-.94-2.06-.94L8.5 2.5l-.94 2.06-2.06.94zm10 10l.94 2.06.94-2.06 2.06-.94-2.06-.94-.94-2.06-.94 2.06-2.06.94z\"/><path d=\"M17.41 7.96l-1.37-1.37c-.4-.4-.92-.59-1.43-.59-.52 0-1.04.2-1.43.59L10.3 9.45l-7.72 7.72c-.78.78-.78 2.05 0 2.83L4 21.41c.39.39.9.59 1.41.59.51 0 1.02-.2 1.41-.59l7.78-7.78 2.81-2.81c.8-.78.8-2.07 0-2.86zM5.41 20L4 18.59l7.72-7.72 1.47 1.35L5.41 20z\"/>\n",
              "  </svg>\n",
              "      </button>\n",
              "      \n",
              "  <style>\n",
              "    .colab-df-container {\n",
              "      display:flex;\n",
              "      flex-wrap:wrap;\n",
              "      gap: 12px;\n",
              "    }\n",
              "\n",
              "    .colab-df-convert {\n",
              "      background-color: #E8F0FE;\n",
              "      border: none;\n",
              "      border-radius: 50%;\n",
              "      cursor: pointer;\n",
              "      display: none;\n",
              "      fill: #1967D2;\n",
              "      height: 32px;\n",
              "      padding: 0 0 0 0;\n",
              "      width: 32px;\n",
              "    }\n",
              "\n",
              "    .colab-df-convert:hover {\n",
              "      background-color: #E2EBFA;\n",
              "      box-shadow: 0px 1px 2px rgba(60, 64, 67, 0.3), 0px 1px 3px 1px rgba(60, 64, 67, 0.15);\n",
              "      fill: #174EA6;\n",
              "    }\n",
              "\n",
              "    [theme=dark] .colab-df-convert {\n",
              "      background-color: #3B4455;\n",
              "      fill: #D2E3FC;\n",
              "    }\n",
              "\n",
              "    [theme=dark] .colab-df-convert:hover {\n",
              "      background-color: #434B5C;\n",
              "      box-shadow: 0px 1px 3px 1px rgba(0, 0, 0, 0.15);\n",
              "      filter: drop-shadow(0px 1px 2px rgba(0, 0, 0, 0.3));\n",
              "      fill: #FFFFFF;\n",
              "    }\n",
              "  </style>\n",
              "\n",
              "      <script>\n",
              "        const buttonEl =\n",
              "          document.querySelector('#df-87ea2ed7-b625-4926-9490-631283b0e023 button.colab-df-convert');\n",
              "        buttonEl.style.display =\n",
              "          google.colab.kernel.accessAllowed ? 'block' : 'none';\n",
              "\n",
              "        async function convertToInteractive(key) {\n",
              "          const element = document.querySelector('#df-87ea2ed7-b625-4926-9490-631283b0e023');\n",
              "          const dataTable =\n",
              "            await google.colab.kernel.invokeFunction('convertToInteractive',\n",
              "                                                     [key], {});\n",
              "          if (!dataTable) return;\n",
              "\n",
              "          const docLinkHtml = 'Like what you see? Visit the ' +\n",
              "            '<a target=\"_blank\" href=https://colab.research.google.com/notebooks/data_table.ipynb>data table notebook</a>'\n",
              "            + ' to learn more about interactive tables.';\n",
              "          element.innerHTML = '';\n",
              "          dataTable['output_type'] = 'display_data';\n",
              "          await google.colab.output.renderOutput(dataTable, element);\n",
              "          const docLink = document.createElement('div');\n",
              "          docLink.innerHTML = docLinkHtml;\n",
              "          element.appendChild(docLink);\n",
              "        }\n",
              "      </script>\n",
              "    </div>\n",
              "  </div>\n",
              "  "
            ]
          },
          "metadata": {},
          "execution_count": 5
        }
      ],
      "source": [
        "train.head()"
      ]
    },
    {
      "cell_type": "code",
      "execution_count": null,
      "metadata": {
        "colab": {
          "base_uri": "https://localhost:8080/",
          "height": 175
        },
        "id": "3o0MrlM160b0",
        "outputId": "7beb6586-498f-4d98-a2e0-15cdb72bf9d2"
      },
      "outputs": [
        {
          "output_type": "execute_result",
          "data": {
            "text/plain": [
              "                                                   review sentiment\n",
              "count                                               50000     50000\n",
              "unique                                              49582         2\n",
              "top     Loved today's show!!! It was a variety and not...  positive\n",
              "freq                                                    5     25000"
            ],
            "text/html": [
              "\n",
              "  <div id=\"df-655c0127-3a45-414a-9bc0-dbd69e3bdfe0\">\n",
              "    <div class=\"colab-df-container\">\n",
              "      <div>\n",
              "<style scoped>\n",
              "    .dataframe tbody tr th:only-of-type {\n",
              "        vertical-align: middle;\n",
              "    }\n",
              "\n",
              "    .dataframe tbody tr th {\n",
              "        vertical-align: top;\n",
              "    }\n",
              "\n",
              "    .dataframe thead th {\n",
              "        text-align: right;\n",
              "    }\n",
              "</style>\n",
              "<table border=\"1\" class=\"dataframe\">\n",
              "  <thead>\n",
              "    <tr style=\"text-align: right;\">\n",
              "      <th></th>\n",
              "      <th>review</th>\n",
              "      <th>sentiment</th>\n",
              "    </tr>\n",
              "  </thead>\n",
              "  <tbody>\n",
              "    <tr>\n",
              "      <th>count</th>\n",
              "      <td>50000</td>\n",
              "      <td>50000</td>\n",
              "    </tr>\n",
              "    <tr>\n",
              "      <th>unique</th>\n",
              "      <td>49582</td>\n",
              "      <td>2</td>\n",
              "    </tr>\n",
              "    <tr>\n",
              "      <th>top</th>\n",
              "      <td>Loved today's show!!! It was a variety and not...</td>\n",
              "      <td>positive</td>\n",
              "    </tr>\n",
              "    <tr>\n",
              "      <th>freq</th>\n",
              "      <td>5</td>\n",
              "      <td>25000</td>\n",
              "    </tr>\n",
              "  </tbody>\n",
              "</table>\n",
              "</div>\n",
              "      <button class=\"colab-df-convert\" onclick=\"convertToInteractive('df-655c0127-3a45-414a-9bc0-dbd69e3bdfe0')\"\n",
              "              title=\"Convert this dataframe to an interactive table.\"\n",
              "              style=\"display:none;\">\n",
              "        \n",
              "  <svg xmlns=\"http://www.w3.org/2000/svg\" height=\"24px\"viewBox=\"0 0 24 24\"\n",
              "       width=\"24px\">\n",
              "    <path d=\"M0 0h24v24H0V0z\" fill=\"none\"/>\n",
              "    <path d=\"M18.56 5.44l.94 2.06.94-2.06 2.06-.94-2.06-.94-.94-2.06-.94 2.06-2.06.94zm-11 1L8.5 8.5l.94-2.06 2.06-.94-2.06-.94L8.5 2.5l-.94 2.06-2.06.94zm10 10l.94 2.06.94-2.06 2.06-.94-2.06-.94-.94-2.06-.94 2.06-2.06.94z\"/><path d=\"M17.41 7.96l-1.37-1.37c-.4-.4-.92-.59-1.43-.59-.52 0-1.04.2-1.43.59L10.3 9.45l-7.72 7.72c-.78.78-.78 2.05 0 2.83L4 21.41c.39.39.9.59 1.41.59.51 0 1.02-.2 1.41-.59l7.78-7.78 2.81-2.81c.8-.78.8-2.07 0-2.86zM5.41 20L4 18.59l7.72-7.72 1.47 1.35L5.41 20z\"/>\n",
              "  </svg>\n",
              "      </button>\n",
              "      \n",
              "  <style>\n",
              "    .colab-df-container {\n",
              "      display:flex;\n",
              "      flex-wrap:wrap;\n",
              "      gap: 12px;\n",
              "    }\n",
              "\n",
              "    .colab-df-convert {\n",
              "      background-color: #E8F0FE;\n",
              "      border: none;\n",
              "      border-radius: 50%;\n",
              "      cursor: pointer;\n",
              "      display: none;\n",
              "      fill: #1967D2;\n",
              "      height: 32px;\n",
              "      padding: 0 0 0 0;\n",
              "      width: 32px;\n",
              "    }\n",
              "\n",
              "    .colab-df-convert:hover {\n",
              "      background-color: #E2EBFA;\n",
              "      box-shadow: 0px 1px 2px rgba(60, 64, 67, 0.3), 0px 1px 3px 1px rgba(60, 64, 67, 0.15);\n",
              "      fill: #174EA6;\n",
              "    }\n",
              "\n",
              "    [theme=dark] .colab-df-convert {\n",
              "      background-color: #3B4455;\n",
              "      fill: #D2E3FC;\n",
              "    }\n",
              "\n",
              "    [theme=dark] .colab-df-convert:hover {\n",
              "      background-color: #434B5C;\n",
              "      box-shadow: 0px 1px 3px 1px rgba(0, 0, 0, 0.15);\n",
              "      filter: drop-shadow(0px 1px 2px rgba(0, 0, 0, 0.3));\n",
              "      fill: #FFFFFF;\n",
              "    }\n",
              "  </style>\n",
              "\n",
              "      <script>\n",
              "        const buttonEl =\n",
              "          document.querySelector('#df-655c0127-3a45-414a-9bc0-dbd69e3bdfe0 button.colab-df-convert');\n",
              "        buttonEl.style.display =\n",
              "          google.colab.kernel.accessAllowed ? 'block' : 'none';\n",
              "\n",
              "        async function convertToInteractive(key) {\n",
              "          const element = document.querySelector('#df-655c0127-3a45-414a-9bc0-dbd69e3bdfe0');\n",
              "          const dataTable =\n",
              "            await google.colab.kernel.invokeFunction('convertToInteractive',\n",
              "                                                     [key], {});\n",
              "          if (!dataTable) return;\n",
              "\n",
              "          const docLinkHtml = 'Like what you see? Visit the ' +\n",
              "            '<a target=\"_blank\" href=https://colab.research.google.com/notebooks/data_table.ipynb>data table notebook</a>'\n",
              "            + ' to learn more about interactive tables.';\n",
              "          element.innerHTML = '';\n",
              "          dataTable['output_type'] = 'display_data';\n",
              "          await google.colab.output.renderOutput(dataTable, element);\n",
              "          const docLink = document.createElement('div');\n",
              "          docLink.innerHTML = docLinkHtml;\n",
              "          element.appendChild(docLink);\n",
              "        }\n",
              "      </script>\n",
              "    </div>\n",
              "  </div>\n",
              "  "
            ]
          },
          "metadata": {},
          "execution_count": 6
        }
      ],
      "source": [
        "train.describe()"
      ]
    },
    {
      "cell_type": "markdown",
      "metadata": {
        "id": "4VwdaY3Y8_OS"
      },
      "source": [
        "Unique values are less than total count, it means there are few duplicate values in the dataset "
      ]
    },
    {
      "cell_type": "code",
      "execution_count": null,
      "metadata": {
        "id": "PQBgK7ll7Rom"
      },
      "outputs": [],
      "source": [
        "train.drop_duplicates(inplace = True)"
      ]
    },
    {
      "cell_type": "code",
      "execution_count": null,
      "metadata": {
        "colab": {
          "base_uri": "https://localhost:8080/",
          "height": 191
        },
        "id": "Rob3Zi1t7Rhl",
        "outputId": "69f64a90-91c8-411e-fb19-a81bf26dd487"
      },
      "outputs": [
        {
          "output_type": "execute_result",
          "data": {
            "text/plain": [
              "'WARNING: SPOILER,SPOILER,SPOILER!!!!<br /><br />This is written for filmgoers who may have walked away from \"Mood for Love\" perplexed and confused about paths the main characters choose in life. From reading other comments and reviews it seems that many viewers and critics missed some very important details which may have prevented them from enjoying this delightful tease of a movie.<br /><br />We are so use to seeing blatant SEX in narrations that we forget that there was a time when filmakers would suggest the \"dirty deed\" by simply showing the slack-mouthed couples ride off in a sleigh or haywagon only to return into the next scene with a bulging gut or a fat toddler stuck to the hip...\"Meet your child\".<br /><br />The director chose the same nostalgic approach in telling the story of Mr Chow and Mrs Chan. Last warning...SPOILER SPOILER SPOILER<br /><br />Mr Chow fools Mrs Chan into showing her real emotions when they rehearse his departure forever. Next scene: Mrs Chan leans her head on Mr Chow in the taxi and says \"I do not want to go home tonight\". Translation: \"Let\\'s Do It\"<br /><br />Why then did the couple just not do the modern thing of dumping their cheating spouses,get a divorce,raise their love child and live happily ever after? The answer is that this whole story takes place in Hong Kong during the Sixties. A bastard would live in a bleak life of shame if he were the child of an adulteress;whereas,a \"legitimate\" child could live a tragic but noble/honest life if his mother chose to raise him away from his cheating \"father\"-the invisible Mr Chan. In short,Mr Chow and Mrs Chan sacrifices their relationship for the future of their child.<br /><br />That is why Mr Chow,upon learning that Mrs Chan lives alone with a little boy gives a knowing smile and ends his dreams of making Mrs Chan his Mrs Chow. He then,also realizes why Mrs Chan went to all the way to Singapore to be with him,only to reconsiders at the last momment and leave..,choosing to never see him again.(But not before taking some unnamed keepsake) Mr Chow lives with this wonderful secret with no one to tell. No one,except for a crumbling temple wall and of course we the viewer,...but only if we listen carefuly.'"
            ],
            "application/vnd.google.colaboratory.intrinsic+json": {
              "type": "string"
            }
          },
          "metadata": {},
          "execution_count": 8
        }
      ],
      "source": [
        "train['review'][1197]"
      ]
    },
    {
      "cell_type": "markdown",
      "metadata": {
        "id": "4Mo6zhoR70AZ"
      },
      "source": [
        "there are lots of html tags, we need to remove those tags"
      ]
    },
    {
      "cell_type": "code",
      "execution_count": null,
      "metadata": {
        "colab": {
          "base_uri": "https://localhost:8080/"
        },
        "id": "wk0u5ey87Rrc",
        "outputId": "4bf80f20-57af-4ac1-8586-a0d82802d8d4"
      },
      "outputs": [
        {
          "output_type": "execute_result",
          "data": {
            "text/plain": [
              "(49582, 2)"
            ]
          },
          "metadata": {},
          "execution_count": 9
        }
      ],
      "source": [
        "train.shape"
      ]
    },
    {
      "cell_type": "code",
      "execution_count": null,
      "metadata": {
        "colab": {
          "base_uri": "https://localhost:8080/",
          "height": 424
        },
        "id": "ZE4Vctvj_zgm",
        "outputId": "7bed00c1-48f2-4b22-99bf-6cc2928d32df"
      },
      "outputs": [
        {
          "output_type": "execute_result",
          "data": {
            "text/plain": [
              "                                                  review sentiment\n",
              "0      One of the other reviewers has mentioned that ...  positive\n",
              "1      A wonderful little production. The filming tec...  positive\n",
              "2      I thought this was a wonderful way to spend ti...  positive\n",
              "3      Basically there's a family where a little boy ...  negative\n",
              "4      Petter Mattei's \"Love in the Time of Money\" is...  positive\n",
              "...                                                  ...       ...\n",
              "49995  I thought this movie did a down right good job...  positive\n",
              "49996  Bad plot, bad dialogue, bad acting, idiotic di...  negative\n",
              "49997  I am a Catholic taught in parochial elementary...  negative\n",
              "49998  I'm going to have to disagree with the previou...  negative\n",
              "49999  No one expects the Star Trek movies to be high...  negative\n",
              "\n",
              "[49582 rows x 2 columns]"
            ],
            "text/html": [
              "\n",
              "  <div id=\"df-a2d61e0b-c38e-46b9-b45c-3b74bc9c630a\">\n",
              "    <div class=\"colab-df-container\">\n",
              "      <div>\n",
              "<style scoped>\n",
              "    .dataframe tbody tr th:only-of-type {\n",
              "        vertical-align: middle;\n",
              "    }\n",
              "\n",
              "    .dataframe tbody tr th {\n",
              "        vertical-align: top;\n",
              "    }\n",
              "\n",
              "    .dataframe thead th {\n",
              "        text-align: right;\n",
              "    }\n",
              "</style>\n",
              "<table border=\"1\" class=\"dataframe\">\n",
              "  <thead>\n",
              "    <tr style=\"text-align: right;\">\n",
              "      <th></th>\n",
              "      <th>review</th>\n",
              "      <th>sentiment</th>\n",
              "    </tr>\n",
              "  </thead>\n",
              "  <tbody>\n",
              "    <tr>\n",
              "      <th>0</th>\n",
              "      <td>One of the other reviewers has mentioned that ...</td>\n",
              "      <td>positive</td>\n",
              "    </tr>\n",
              "    <tr>\n",
              "      <th>1</th>\n",
              "      <td>A wonderful little production. The filming tec...</td>\n",
              "      <td>positive</td>\n",
              "    </tr>\n",
              "    <tr>\n",
              "      <th>2</th>\n",
              "      <td>I thought this was a wonderful way to spend ti...</td>\n",
              "      <td>positive</td>\n",
              "    </tr>\n",
              "    <tr>\n",
              "      <th>3</th>\n",
              "      <td>Basically there's a family where a little boy ...</td>\n",
              "      <td>negative</td>\n",
              "    </tr>\n",
              "    <tr>\n",
              "      <th>4</th>\n",
              "      <td>Petter Mattei's \"Love in the Time of Money\" is...</td>\n",
              "      <td>positive</td>\n",
              "    </tr>\n",
              "    <tr>\n",
              "      <th>...</th>\n",
              "      <td>...</td>\n",
              "      <td>...</td>\n",
              "    </tr>\n",
              "    <tr>\n",
              "      <th>49995</th>\n",
              "      <td>I thought this movie did a down right good job...</td>\n",
              "      <td>positive</td>\n",
              "    </tr>\n",
              "    <tr>\n",
              "      <th>49996</th>\n",
              "      <td>Bad plot, bad dialogue, bad acting, idiotic di...</td>\n",
              "      <td>negative</td>\n",
              "    </tr>\n",
              "    <tr>\n",
              "      <th>49997</th>\n",
              "      <td>I am a Catholic taught in parochial elementary...</td>\n",
              "      <td>negative</td>\n",
              "    </tr>\n",
              "    <tr>\n",
              "      <th>49998</th>\n",
              "      <td>I'm going to have to disagree with the previou...</td>\n",
              "      <td>negative</td>\n",
              "    </tr>\n",
              "    <tr>\n",
              "      <th>49999</th>\n",
              "      <td>No one expects the Star Trek movies to be high...</td>\n",
              "      <td>negative</td>\n",
              "    </tr>\n",
              "  </tbody>\n",
              "</table>\n",
              "<p>49582 rows × 2 columns</p>\n",
              "</div>\n",
              "      <button class=\"colab-df-convert\" onclick=\"convertToInteractive('df-a2d61e0b-c38e-46b9-b45c-3b74bc9c630a')\"\n",
              "              title=\"Convert this dataframe to an interactive table.\"\n",
              "              style=\"display:none;\">\n",
              "        \n",
              "  <svg xmlns=\"http://www.w3.org/2000/svg\" height=\"24px\"viewBox=\"0 0 24 24\"\n",
              "       width=\"24px\">\n",
              "    <path d=\"M0 0h24v24H0V0z\" fill=\"none\"/>\n",
              "    <path d=\"M18.56 5.44l.94 2.06.94-2.06 2.06-.94-2.06-.94-.94-2.06-.94 2.06-2.06.94zm-11 1L8.5 8.5l.94-2.06 2.06-.94-2.06-.94L8.5 2.5l-.94 2.06-2.06.94zm10 10l.94 2.06.94-2.06 2.06-.94-2.06-.94-.94-2.06-.94 2.06-2.06.94z\"/><path d=\"M17.41 7.96l-1.37-1.37c-.4-.4-.92-.59-1.43-.59-.52 0-1.04.2-1.43.59L10.3 9.45l-7.72 7.72c-.78.78-.78 2.05 0 2.83L4 21.41c.39.39.9.59 1.41.59.51 0 1.02-.2 1.41-.59l7.78-7.78 2.81-2.81c.8-.78.8-2.07 0-2.86zM5.41 20L4 18.59l7.72-7.72 1.47 1.35L5.41 20z\"/>\n",
              "  </svg>\n",
              "      </button>\n",
              "      \n",
              "  <style>\n",
              "    .colab-df-container {\n",
              "      display:flex;\n",
              "      flex-wrap:wrap;\n",
              "      gap: 12px;\n",
              "    }\n",
              "\n",
              "    .colab-df-convert {\n",
              "      background-color: #E8F0FE;\n",
              "      border: none;\n",
              "      border-radius: 50%;\n",
              "      cursor: pointer;\n",
              "      display: none;\n",
              "      fill: #1967D2;\n",
              "      height: 32px;\n",
              "      padding: 0 0 0 0;\n",
              "      width: 32px;\n",
              "    }\n",
              "\n",
              "    .colab-df-convert:hover {\n",
              "      background-color: #E2EBFA;\n",
              "      box-shadow: 0px 1px 2px rgba(60, 64, 67, 0.3), 0px 1px 3px 1px rgba(60, 64, 67, 0.15);\n",
              "      fill: #174EA6;\n",
              "    }\n",
              "\n",
              "    [theme=dark] .colab-df-convert {\n",
              "      background-color: #3B4455;\n",
              "      fill: #D2E3FC;\n",
              "    }\n",
              "\n",
              "    [theme=dark] .colab-df-convert:hover {\n",
              "      background-color: #434B5C;\n",
              "      box-shadow: 0px 1px 3px 1px rgba(0, 0, 0, 0.15);\n",
              "      filter: drop-shadow(0px 1px 2px rgba(0, 0, 0, 0.3));\n",
              "      fill: #FFFFFF;\n",
              "    }\n",
              "  </style>\n",
              "\n",
              "      <script>\n",
              "        const buttonEl =\n",
              "          document.querySelector('#df-a2d61e0b-c38e-46b9-b45c-3b74bc9c630a button.colab-df-convert');\n",
              "        buttonEl.style.display =\n",
              "          google.colab.kernel.accessAllowed ? 'block' : 'none';\n",
              "\n",
              "        async function convertToInteractive(key) {\n",
              "          const element = document.querySelector('#df-a2d61e0b-c38e-46b9-b45c-3b74bc9c630a');\n",
              "          const dataTable =\n",
              "            await google.colab.kernel.invokeFunction('convertToInteractive',\n",
              "                                                     [key], {});\n",
              "          if (!dataTable) return;\n",
              "\n",
              "          const docLinkHtml = 'Like what you see? Visit the ' +\n",
              "            '<a target=\"_blank\" href=https://colab.research.google.com/notebooks/data_table.ipynb>data table notebook</a>'\n",
              "            + ' to learn more about interactive tables.';\n",
              "          element.innerHTML = '';\n",
              "          dataTable['output_type'] = 'display_data';\n",
              "          await google.colab.output.renderOutput(dataTable, element);\n",
              "          const docLink = document.createElement('div');\n",
              "          docLink.innerHTML = docLinkHtml;\n",
              "          element.appendChild(docLink);\n",
              "        }\n",
              "      </script>\n",
              "    </div>\n",
              "  </div>\n",
              "  "
            ]
          },
          "metadata": {},
          "execution_count": 10
        }
      ],
      "source": [
        "#Apply function on review column\n",
        "train['review']=train['review'].apply(denoise_text)\n",
        "train"
      ]
    },
    {
      "cell_type": "code",
      "execution_count": null,
      "metadata": {
        "id": "pHaI6JNUCDKH"
      },
      "outputs": [],
      "source": [
        "#Define function for removing special characters\n",
        "def remove_special_characters(text, remove_digits=True):\n",
        "    pattern=r'[^a-zA-z0-9\\s]'\n",
        "    text=re.sub(pattern,'',text)\n",
        "    return text\n",
        "#Apply function on review column\n",
        "train['review']=train['review'].apply(remove_special_characters)\n"
      ]
    },
    {
      "cell_type": "code",
      "execution_count": null,
      "metadata": {
        "id": "POz6GfuD4j9g"
      },
      "outputs": [],
      "source": [
        "# # train['review'] = train['review'].map(lambda x:  [re_punc.sub('',w) for w in x]) ### punctuations removed\n",
        "\n",
        "train['review']=train['review'].map(lambda x : x.split())"
      ]
    },
    {
      "cell_type": "code",
      "execution_count": null,
      "metadata": {
        "colab": {
          "base_uri": "https://localhost:8080/"
        },
        "id": "rrrUwwrd4j9Z",
        "outputId": "c067e41c-9cd6-427d-8693-2d09e0345160"
      },
      "outputs": [
        {
          "output_type": "execute_result",
          "data": {
            "text/plain": [
              "['WARNING',\n",
              " 'SPOILERSPOILERSPOILERThis',\n",
              " 'is',\n",
              " 'written',\n",
              " 'for',\n",
              " 'filmgoers',\n",
              " 'who',\n",
              " 'may',\n",
              " 'have',\n",
              " 'walked',\n",
              " 'away',\n",
              " 'from',\n",
              " 'Mood',\n",
              " 'for',\n",
              " 'Love',\n",
              " 'perplexed',\n",
              " 'and',\n",
              " 'confused',\n",
              " 'about',\n",
              " 'paths',\n",
              " 'the',\n",
              " 'main',\n",
              " 'characters',\n",
              " 'choose',\n",
              " 'in',\n",
              " 'life',\n",
              " 'From',\n",
              " 'reading',\n",
              " 'other',\n",
              " 'comments',\n",
              " 'and',\n",
              " 'reviews',\n",
              " 'it',\n",
              " 'seems',\n",
              " 'that',\n",
              " 'many',\n",
              " 'viewers',\n",
              " 'and',\n",
              " 'critics',\n",
              " 'missed',\n",
              " 'some',\n",
              " 'very',\n",
              " 'important',\n",
              " 'details',\n",
              " 'which',\n",
              " 'may',\n",
              " 'have',\n",
              " 'prevented',\n",
              " 'them',\n",
              " 'from',\n",
              " 'enjoying',\n",
              " 'this',\n",
              " 'delightful',\n",
              " 'tease',\n",
              " 'of',\n",
              " 'a',\n",
              " 'movieWe',\n",
              " 'are',\n",
              " 'so',\n",
              " 'use',\n",
              " 'to',\n",
              " 'seeing',\n",
              " 'blatant',\n",
              " 'SEX',\n",
              " 'in',\n",
              " 'narrations',\n",
              " 'that',\n",
              " 'we',\n",
              " 'forget',\n",
              " 'that',\n",
              " 'there',\n",
              " 'was',\n",
              " 'a',\n",
              " 'time',\n",
              " 'when',\n",
              " 'filmakers',\n",
              " 'would',\n",
              " 'suggest',\n",
              " 'the',\n",
              " 'dirty',\n",
              " 'deed',\n",
              " 'by',\n",
              " 'simply',\n",
              " 'showing',\n",
              " 'the',\n",
              " 'slackmouthed',\n",
              " 'couples',\n",
              " 'ride',\n",
              " 'off',\n",
              " 'in',\n",
              " 'a',\n",
              " 'sleigh',\n",
              " 'or',\n",
              " 'haywagon',\n",
              " 'only',\n",
              " 'to',\n",
              " 'return',\n",
              " 'into',\n",
              " 'the',\n",
              " 'next',\n",
              " 'scene',\n",
              " 'with',\n",
              " 'a',\n",
              " 'bulging',\n",
              " 'gut',\n",
              " 'or',\n",
              " 'a',\n",
              " 'fat',\n",
              " 'toddler',\n",
              " 'stuck',\n",
              " 'to',\n",
              " 'the',\n",
              " 'hipMeet',\n",
              " 'your',\n",
              " 'childThe',\n",
              " 'director',\n",
              " 'chose',\n",
              " 'the',\n",
              " 'same',\n",
              " 'nostalgic',\n",
              " 'approach',\n",
              " 'in',\n",
              " 'telling',\n",
              " 'the',\n",
              " 'story',\n",
              " 'of',\n",
              " 'Mr',\n",
              " 'Chow',\n",
              " 'and',\n",
              " 'Mrs',\n",
              " 'Chan',\n",
              " 'Last',\n",
              " 'warningSPOILER',\n",
              " 'SPOILER',\n",
              " 'SPOILERMr',\n",
              " 'Chow',\n",
              " 'fools',\n",
              " 'Mrs',\n",
              " 'Chan',\n",
              " 'into',\n",
              " 'showing',\n",
              " 'her',\n",
              " 'real',\n",
              " 'emotions',\n",
              " 'when',\n",
              " 'they',\n",
              " 'rehearse',\n",
              " 'his',\n",
              " 'departure',\n",
              " 'forever',\n",
              " 'Next',\n",
              " 'scene',\n",
              " 'Mrs',\n",
              " 'Chan',\n",
              " 'leans',\n",
              " 'her',\n",
              " 'head',\n",
              " 'on',\n",
              " 'Mr',\n",
              " 'Chow',\n",
              " 'in',\n",
              " 'the',\n",
              " 'taxi',\n",
              " 'and',\n",
              " 'says',\n",
              " 'I',\n",
              " 'do',\n",
              " 'not',\n",
              " 'want',\n",
              " 'to',\n",
              " 'go',\n",
              " 'home',\n",
              " 'tonight',\n",
              " 'Translation',\n",
              " 'Lets',\n",
              " 'Do',\n",
              " 'ItWhy',\n",
              " 'then',\n",
              " 'did',\n",
              " 'the',\n",
              " 'couple',\n",
              " 'just',\n",
              " 'not',\n",
              " 'do',\n",
              " 'the',\n",
              " 'modern',\n",
              " 'thing',\n",
              " 'of',\n",
              " 'dumping',\n",
              " 'their',\n",
              " 'cheating',\n",
              " 'spousesget',\n",
              " 'a',\n",
              " 'divorceraise',\n",
              " 'their',\n",
              " 'love',\n",
              " 'child',\n",
              " 'and',\n",
              " 'live',\n",
              " 'happily',\n",
              " 'ever',\n",
              " 'after',\n",
              " 'The',\n",
              " 'answer',\n",
              " 'is',\n",
              " 'that',\n",
              " 'this',\n",
              " 'whole',\n",
              " 'story',\n",
              " 'takes',\n",
              " 'place',\n",
              " 'in',\n",
              " 'Hong',\n",
              " 'Kong',\n",
              " 'during',\n",
              " 'the',\n",
              " 'Sixties',\n",
              " 'A',\n",
              " 'bastard',\n",
              " 'would',\n",
              " 'live',\n",
              " 'in',\n",
              " 'a',\n",
              " 'bleak',\n",
              " 'life',\n",
              " 'of',\n",
              " 'shame',\n",
              " 'if',\n",
              " 'he',\n",
              " 'were',\n",
              " 'the',\n",
              " 'child',\n",
              " 'of',\n",
              " 'an',\n",
              " 'adulteresswhereasa',\n",
              " 'legitimate',\n",
              " 'child',\n",
              " 'could',\n",
              " 'live',\n",
              " 'a',\n",
              " 'tragic',\n",
              " 'but',\n",
              " 'noblehonest',\n",
              " 'life',\n",
              " 'if',\n",
              " 'his',\n",
              " 'mother',\n",
              " 'chose',\n",
              " 'to',\n",
              " 'raise',\n",
              " 'him',\n",
              " 'away',\n",
              " 'from',\n",
              " 'his',\n",
              " 'cheating',\n",
              " 'fatherthe',\n",
              " 'invisible',\n",
              " 'Mr',\n",
              " 'Chan',\n",
              " 'In',\n",
              " 'shortMr',\n",
              " 'Chow',\n",
              " 'and',\n",
              " 'Mrs',\n",
              " 'Chan',\n",
              " 'sacrifices',\n",
              " 'their',\n",
              " 'relationship',\n",
              " 'for',\n",
              " 'the',\n",
              " 'future',\n",
              " 'of',\n",
              " 'their',\n",
              " 'childThat',\n",
              " 'is',\n",
              " 'why',\n",
              " 'Mr',\n",
              " 'Chowupon',\n",
              " 'learning',\n",
              " 'that',\n",
              " 'Mrs',\n",
              " 'Chan',\n",
              " 'lives',\n",
              " 'alone',\n",
              " 'with',\n",
              " 'a',\n",
              " 'little',\n",
              " 'boy',\n",
              " 'gives',\n",
              " 'a',\n",
              " 'knowing',\n",
              " 'smile',\n",
              " 'and',\n",
              " 'ends',\n",
              " 'his',\n",
              " 'dreams',\n",
              " 'of',\n",
              " 'making',\n",
              " 'Mrs',\n",
              " 'Chan',\n",
              " 'his',\n",
              " 'Mrs',\n",
              " 'Chow',\n",
              " 'He',\n",
              " 'thenalso',\n",
              " 'realizes',\n",
              " 'why',\n",
              " 'Mrs',\n",
              " 'Chan',\n",
              " 'went',\n",
              " 'to',\n",
              " 'all',\n",
              " 'the',\n",
              " 'way',\n",
              " 'to',\n",
              " 'Singapore',\n",
              " 'to',\n",
              " 'be',\n",
              " 'with',\n",
              " 'himonly',\n",
              " 'to',\n",
              " 'reconsiders',\n",
              " 'at',\n",
              " 'the',\n",
              " 'last',\n",
              " 'momment',\n",
              " 'and',\n",
              " 'leavechoosing',\n",
              " 'to',\n",
              " 'never',\n",
              " 'see',\n",
              " 'him',\n",
              " 'againBut',\n",
              " 'not',\n",
              " 'before',\n",
              " 'taking',\n",
              " 'some',\n",
              " 'unnamed',\n",
              " 'keepsake',\n",
              " 'Mr',\n",
              " 'Chow',\n",
              " 'lives',\n",
              " 'with',\n",
              " 'this',\n",
              " 'wonderful',\n",
              " 'secret',\n",
              " 'with',\n",
              " 'no',\n",
              " 'one',\n",
              " 'to',\n",
              " 'tell',\n",
              " 'No',\n",
              " 'oneexcept',\n",
              " 'for',\n",
              " 'a',\n",
              " 'crumbling',\n",
              " 'temple',\n",
              " 'wall',\n",
              " 'and',\n",
              " 'of',\n",
              " 'course',\n",
              " 'we',\n",
              " 'the',\n",
              " 'viewerbut',\n",
              " 'only',\n",
              " 'if',\n",
              " 'we',\n",
              " 'listen',\n",
              " 'carefuly']"
            ]
          },
          "metadata": {},
          "execution_count": 13
        }
      ],
      "source": [
        "train['review'][1197]"
      ]
    },
    {
      "cell_type": "markdown",
      "metadata": {
        "id": "QUXWcXs24j9j"
      },
      "source": [
        "### basic text preprocessing such as removing stop word, lower casing, punctuation removal etc"
      ]
    },
    {
      "cell_type": "code",
      "execution_count": null,
      "metadata": {
        "id": "LDwZV-c0-GYD"
      },
      "outputs": [],
      "source": [
        "re_punc = re.compile('[%s]'%re.escape(string.punctuation))\n",
        "train['review'] = train['review'].map(lambda x: [word for word in x if word.isalpha()]) ### only alphabets, no no.s and alphanumeric\n",
        "train['review'] = train['review'].map(lambda x: [w.lower() for w in x]) ### lower case every word\n",
        "train['review'] = train['review'].map(lambda x:  [w for w in x if not w in stop_words ]) ### stop words removed"
      ]
    },
    {
      "cell_type": "code",
      "execution_count": null,
      "metadata": {
        "id": "zApBJMMp-WU6"
      },
      "outputs": [],
      "source": [
        "train['review'] = train['review'].map(lambda x: [w for w in x if len(w)>2]) ### words less than 2 letters also dropped"
      ]
    },
    {
      "cell_type": "code",
      "execution_count": null,
      "metadata": {
        "colab": {
          "base_uri": "https://localhost:8080/",
          "height": 424
        },
        "id": "x6w8Ee3MDHRg",
        "outputId": "811dbb67-20fb-4c0e-e296-c10d2f702de2"
      },
      "outputs": [
        {
          "output_type": "execute_result",
          "data": {
            "text/plain": [
              "                                                  review sentiment\n",
              "0      [one, reviewers, mentioned, watching, episode,...  positive\n",
              "1      [wonderful, little, production, filming, techn...  positive\n",
              "2      [thought, wonderful, way, spend, time, hot, su...  positive\n",
              "3      [basically, theres, family, little, boy, jake,...  negative\n",
              "4      [petter, matteis, love, time, money, visually,...  positive\n",
              "...                                                  ...       ...\n",
              "49995  [thought, movie, right, good, job, wasnt, crea...  positive\n",
              "49996  [bad, plot, bad, dialogue, bad, acting, idioti...  negative\n",
              "49997  [catholic, taught, parochial, elementary, scho...  negative\n",
              "49998  [going, disagree, previous, comment, side, mal...  negative\n",
              "49999  [one, expects, star, trek, movies, high, art, ...  negative\n",
              "\n",
              "[49582 rows x 2 columns]"
            ],
            "text/html": [
              "\n",
              "  <div id=\"df-1781c780-9f48-480d-89b3-b2aa5b2faf8f\">\n",
              "    <div class=\"colab-df-container\">\n",
              "      <div>\n",
              "<style scoped>\n",
              "    .dataframe tbody tr th:only-of-type {\n",
              "        vertical-align: middle;\n",
              "    }\n",
              "\n",
              "    .dataframe tbody tr th {\n",
              "        vertical-align: top;\n",
              "    }\n",
              "\n",
              "    .dataframe thead th {\n",
              "        text-align: right;\n",
              "    }\n",
              "</style>\n",
              "<table border=\"1\" class=\"dataframe\">\n",
              "  <thead>\n",
              "    <tr style=\"text-align: right;\">\n",
              "      <th></th>\n",
              "      <th>review</th>\n",
              "      <th>sentiment</th>\n",
              "    </tr>\n",
              "  </thead>\n",
              "  <tbody>\n",
              "    <tr>\n",
              "      <th>0</th>\n",
              "      <td>[one, reviewers, mentioned, watching, episode,...</td>\n",
              "      <td>positive</td>\n",
              "    </tr>\n",
              "    <tr>\n",
              "      <th>1</th>\n",
              "      <td>[wonderful, little, production, filming, techn...</td>\n",
              "      <td>positive</td>\n",
              "    </tr>\n",
              "    <tr>\n",
              "      <th>2</th>\n",
              "      <td>[thought, wonderful, way, spend, time, hot, su...</td>\n",
              "      <td>positive</td>\n",
              "    </tr>\n",
              "    <tr>\n",
              "      <th>3</th>\n",
              "      <td>[basically, theres, family, little, boy, jake,...</td>\n",
              "      <td>negative</td>\n",
              "    </tr>\n",
              "    <tr>\n",
              "      <th>4</th>\n",
              "      <td>[petter, matteis, love, time, money, visually,...</td>\n",
              "      <td>positive</td>\n",
              "    </tr>\n",
              "    <tr>\n",
              "      <th>...</th>\n",
              "      <td>...</td>\n",
              "      <td>...</td>\n",
              "    </tr>\n",
              "    <tr>\n",
              "      <th>49995</th>\n",
              "      <td>[thought, movie, right, good, job, wasnt, crea...</td>\n",
              "      <td>positive</td>\n",
              "    </tr>\n",
              "    <tr>\n",
              "      <th>49996</th>\n",
              "      <td>[bad, plot, bad, dialogue, bad, acting, idioti...</td>\n",
              "      <td>negative</td>\n",
              "    </tr>\n",
              "    <tr>\n",
              "      <th>49997</th>\n",
              "      <td>[catholic, taught, parochial, elementary, scho...</td>\n",
              "      <td>negative</td>\n",
              "    </tr>\n",
              "    <tr>\n",
              "      <th>49998</th>\n",
              "      <td>[going, disagree, previous, comment, side, mal...</td>\n",
              "      <td>negative</td>\n",
              "    </tr>\n",
              "    <tr>\n",
              "      <th>49999</th>\n",
              "      <td>[one, expects, star, trek, movies, high, art, ...</td>\n",
              "      <td>negative</td>\n",
              "    </tr>\n",
              "  </tbody>\n",
              "</table>\n",
              "<p>49582 rows × 2 columns</p>\n",
              "</div>\n",
              "      <button class=\"colab-df-convert\" onclick=\"convertToInteractive('df-1781c780-9f48-480d-89b3-b2aa5b2faf8f')\"\n",
              "              title=\"Convert this dataframe to an interactive table.\"\n",
              "              style=\"display:none;\">\n",
              "        \n",
              "  <svg xmlns=\"http://www.w3.org/2000/svg\" height=\"24px\"viewBox=\"0 0 24 24\"\n",
              "       width=\"24px\">\n",
              "    <path d=\"M0 0h24v24H0V0z\" fill=\"none\"/>\n",
              "    <path d=\"M18.56 5.44l.94 2.06.94-2.06 2.06-.94-2.06-.94-.94-2.06-.94 2.06-2.06.94zm-11 1L8.5 8.5l.94-2.06 2.06-.94-2.06-.94L8.5 2.5l-.94 2.06-2.06.94zm10 10l.94 2.06.94-2.06 2.06-.94-2.06-.94-.94-2.06-.94 2.06-2.06.94z\"/><path d=\"M17.41 7.96l-1.37-1.37c-.4-.4-.92-.59-1.43-.59-.52 0-1.04.2-1.43.59L10.3 9.45l-7.72 7.72c-.78.78-.78 2.05 0 2.83L4 21.41c.39.39.9.59 1.41.59.51 0 1.02-.2 1.41-.59l7.78-7.78 2.81-2.81c.8-.78.8-2.07 0-2.86zM5.41 20L4 18.59l7.72-7.72 1.47 1.35L5.41 20z\"/>\n",
              "  </svg>\n",
              "      </button>\n",
              "      \n",
              "  <style>\n",
              "    .colab-df-container {\n",
              "      display:flex;\n",
              "      flex-wrap:wrap;\n",
              "      gap: 12px;\n",
              "    }\n",
              "\n",
              "    .colab-df-convert {\n",
              "      background-color: #E8F0FE;\n",
              "      border: none;\n",
              "      border-radius: 50%;\n",
              "      cursor: pointer;\n",
              "      display: none;\n",
              "      fill: #1967D2;\n",
              "      height: 32px;\n",
              "      padding: 0 0 0 0;\n",
              "      width: 32px;\n",
              "    }\n",
              "\n",
              "    .colab-df-convert:hover {\n",
              "      background-color: #E2EBFA;\n",
              "      box-shadow: 0px 1px 2px rgba(60, 64, 67, 0.3), 0px 1px 3px 1px rgba(60, 64, 67, 0.15);\n",
              "      fill: #174EA6;\n",
              "    }\n",
              "\n",
              "    [theme=dark] .colab-df-convert {\n",
              "      background-color: #3B4455;\n",
              "      fill: #D2E3FC;\n",
              "    }\n",
              "\n",
              "    [theme=dark] .colab-df-convert:hover {\n",
              "      background-color: #434B5C;\n",
              "      box-shadow: 0px 1px 3px 1px rgba(0, 0, 0, 0.15);\n",
              "      filter: drop-shadow(0px 1px 2px rgba(0, 0, 0, 0.3));\n",
              "      fill: #FFFFFF;\n",
              "    }\n",
              "  </style>\n",
              "\n",
              "      <script>\n",
              "        const buttonEl =\n",
              "          document.querySelector('#df-1781c780-9f48-480d-89b3-b2aa5b2faf8f button.colab-df-convert');\n",
              "        buttonEl.style.display =\n",
              "          google.colab.kernel.accessAllowed ? 'block' : 'none';\n",
              "\n",
              "        async function convertToInteractive(key) {\n",
              "          const element = document.querySelector('#df-1781c780-9f48-480d-89b3-b2aa5b2faf8f');\n",
              "          const dataTable =\n",
              "            await google.colab.kernel.invokeFunction('convertToInteractive',\n",
              "                                                     [key], {});\n",
              "          if (!dataTable) return;\n",
              "\n",
              "          const docLinkHtml = 'Like what you see? Visit the ' +\n",
              "            '<a target=\"_blank\" href=https://colab.research.google.com/notebooks/data_table.ipynb>data table notebook</a>'\n",
              "            + ' to learn more about interactive tables.';\n",
              "          element.innerHTML = '';\n",
              "          dataTable['output_type'] = 'display_data';\n",
              "          await google.colab.output.renderOutput(dataTable, element);\n",
              "          const docLink = document.createElement('div');\n",
              "          docLink.innerHTML = docLinkHtml;\n",
              "          element.appendChild(docLink);\n",
              "        }\n",
              "      </script>\n",
              "    </div>\n",
              "  </div>\n",
              "  "
            ]
          },
          "metadata": {},
          "execution_count": 16
        }
      ],
      "source": [
        "train"
      ]
    },
    {
      "cell_type": "code",
      "source": [
        "# nltk.download('all')  "
      ],
      "metadata": {
        "id": "nFBZucqFQNtb"
      },
      "execution_count": null,
      "outputs": []
    },
    {
      "cell_type": "code",
      "execution_count": null,
      "metadata": {
        "id": "BBEZ_SN64j9l"
      },
      "outputs": [],
      "source": [
        "train['review'] = train['review'].map(lambda x: [lemmatizer.lemmatize(w) for w in x ]) #### Sometimes lemmatization is not just a good idea\n",
        "# train['Text'] = train['Text'].map(lambda x: [ps.stem(w) for w in x ]) #### Sometimes lemmatization is not just a good idea"
      ]
    },
    {
      "cell_type": "code",
      "execution_count": null,
      "metadata": {
        "id": "aCWVEMcIFGeS"
      },
      "outputs": [],
      "source": []
    },
    {
      "cell_type": "code",
      "execution_count": null,
      "metadata": {
        "colab": {
          "base_uri": "https://localhost:8080/",
          "height": 520
        },
        "id": "i9hkui3M4j9m",
        "outputId": "e779f67d-ca59-4df5-9945-a74ca7c3d6d2"
      },
      "outputs": [
        {
          "output_type": "execute_result",
          "data": {
            "text/plain": [
              "                                                  review sentiment  \\\n",
              "0      [one, reviewer, mentioned, watching, episode, ...  positive   \n",
              "1      [wonderful, little, production, filming, techn...  positive   \n",
              "2      [thought, wonderful, way, spend, time, hot, su...  positive   \n",
              "3      [basically, there, family, little, boy, jake, ...  negative   \n",
              "4      [petter, matteis, love, time, money, visually,...  positive   \n",
              "...                                                  ...       ...   \n",
              "49995  [thought, movie, right, good, job, wasnt, crea...  positive   \n",
              "49996  [bad, plot, bad, dialogue, bad, acting, idioti...  negative   \n",
              "49997  [catholic, taught, parochial, elementary, scho...  negative   \n",
              "49998  [going, disagree, previous, comment, side, mal...  negative   \n",
              "49999  [one, expects, star, trek, movie, high, art, f...  negative   \n",
              "\n",
              "                                           Combined_Text  \n",
              "0      one reviewer mentioned watching episode youll ...  \n",
              "1      wonderful little production filming technique ...  \n",
              "2      thought wonderful way spend time hot summer we...  \n",
              "3      basically there family little boy jake think t...  \n",
              "4      petter matteis love time money visually stunni...  \n",
              "...                                                  ...  \n",
              "49995  thought movie right good job wasnt creative or...  \n",
              "49996  bad plot bad dialogue bad acting idiotic direc...  \n",
              "49997  catholic taught parochial elementary school nu...  \n",
              "49998  going disagree previous comment side maltin on...  \n",
              "49999  one expects star trek movie high art fan expec...  \n",
              "\n",
              "[49582 rows x 3 columns]"
            ],
            "text/html": [
              "\n",
              "  <div id=\"df-ed387f40-09e0-4780-bf2c-5a83203a512f\">\n",
              "    <div class=\"colab-df-container\">\n",
              "      <div>\n",
              "<style scoped>\n",
              "    .dataframe tbody tr th:only-of-type {\n",
              "        vertical-align: middle;\n",
              "    }\n",
              "\n",
              "    .dataframe tbody tr th {\n",
              "        vertical-align: top;\n",
              "    }\n",
              "\n",
              "    .dataframe thead th {\n",
              "        text-align: right;\n",
              "    }\n",
              "</style>\n",
              "<table border=\"1\" class=\"dataframe\">\n",
              "  <thead>\n",
              "    <tr style=\"text-align: right;\">\n",
              "      <th></th>\n",
              "      <th>review</th>\n",
              "      <th>sentiment</th>\n",
              "      <th>Combined_Text</th>\n",
              "    </tr>\n",
              "  </thead>\n",
              "  <tbody>\n",
              "    <tr>\n",
              "      <th>0</th>\n",
              "      <td>[one, reviewer, mentioned, watching, episode, ...</td>\n",
              "      <td>positive</td>\n",
              "      <td>one reviewer mentioned watching episode youll ...</td>\n",
              "    </tr>\n",
              "    <tr>\n",
              "      <th>1</th>\n",
              "      <td>[wonderful, little, production, filming, techn...</td>\n",
              "      <td>positive</td>\n",
              "      <td>wonderful little production filming technique ...</td>\n",
              "    </tr>\n",
              "    <tr>\n",
              "      <th>2</th>\n",
              "      <td>[thought, wonderful, way, spend, time, hot, su...</td>\n",
              "      <td>positive</td>\n",
              "      <td>thought wonderful way spend time hot summer we...</td>\n",
              "    </tr>\n",
              "    <tr>\n",
              "      <th>3</th>\n",
              "      <td>[basically, there, family, little, boy, jake, ...</td>\n",
              "      <td>negative</td>\n",
              "      <td>basically there family little boy jake think t...</td>\n",
              "    </tr>\n",
              "    <tr>\n",
              "      <th>4</th>\n",
              "      <td>[petter, matteis, love, time, money, visually,...</td>\n",
              "      <td>positive</td>\n",
              "      <td>petter matteis love time money visually stunni...</td>\n",
              "    </tr>\n",
              "    <tr>\n",
              "      <th>...</th>\n",
              "      <td>...</td>\n",
              "      <td>...</td>\n",
              "      <td>...</td>\n",
              "    </tr>\n",
              "    <tr>\n",
              "      <th>49995</th>\n",
              "      <td>[thought, movie, right, good, job, wasnt, crea...</td>\n",
              "      <td>positive</td>\n",
              "      <td>thought movie right good job wasnt creative or...</td>\n",
              "    </tr>\n",
              "    <tr>\n",
              "      <th>49996</th>\n",
              "      <td>[bad, plot, bad, dialogue, bad, acting, idioti...</td>\n",
              "      <td>negative</td>\n",
              "      <td>bad plot bad dialogue bad acting idiotic direc...</td>\n",
              "    </tr>\n",
              "    <tr>\n",
              "      <th>49997</th>\n",
              "      <td>[catholic, taught, parochial, elementary, scho...</td>\n",
              "      <td>negative</td>\n",
              "      <td>catholic taught parochial elementary school nu...</td>\n",
              "    </tr>\n",
              "    <tr>\n",
              "      <th>49998</th>\n",
              "      <td>[going, disagree, previous, comment, side, mal...</td>\n",
              "      <td>negative</td>\n",
              "      <td>going disagree previous comment side maltin on...</td>\n",
              "    </tr>\n",
              "    <tr>\n",
              "      <th>49999</th>\n",
              "      <td>[one, expects, star, trek, movie, high, art, f...</td>\n",
              "      <td>negative</td>\n",
              "      <td>one expects star trek movie high art fan expec...</td>\n",
              "    </tr>\n",
              "  </tbody>\n",
              "</table>\n",
              "<p>49582 rows × 3 columns</p>\n",
              "</div>\n",
              "      <button class=\"colab-df-convert\" onclick=\"convertToInteractive('df-ed387f40-09e0-4780-bf2c-5a83203a512f')\"\n",
              "              title=\"Convert this dataframe to an interactive table.\"\n",
              "              style=\"display:none;\">\n",
              "        \n",
              "  <svg xmlns=\"http://www.w3.org/2000/svg\" height=\"24px\"viewBox=\"0 0 24 24\"\n",
              "       width=\"24px\">\n",
              "    <path d=\"M0 0h24v24H0V0z\" fill=\"none\"/>\n",
              "    <path d=\"M18.56 5.44l.94 2.06.94-2.06 2.06-.94-2.06-.94-.94-2.06-.94 2.06-2.06.94zm-11 1L8.5 8.5l.94-2.06 2.06-.94-2.06-.94L8.5 2.5l-.94 2.06-2.06.94zm10 10l.94 2.06.94-2.06 2.06-.94-2.06-.94-.94-2.06-.94 2.06-2.06.94z\"/><path d=\"M17.41 7.96l-1.37-1.37c-.4-.4-.92-.59-1.43-.59-.52 0-1.04.2-1.43.59L10.3 9.45l-7.72 7.72c-.78.78-.78 2.05 0 2.83L4 21.41c.39.39.9.59 1.41.59.51 0 1.02-.2 1.41-.59l7.78-7.78 2.81-2.81c.8-.78.8-2.07 0-2.86zM5.41 20L4 18.59l7.72-7.72 1.47 1.35L5.41 20z\"/>\n",
              "  </svg>\n",
              "      </button>\n",
              "      \n",
              "  <style>\n",
              "    .colab-df-container {\n",
              "      display:flex;\n",
              "      flex-wrap:wrap;\n",
              "      gap: 12px;\n",
              "    }\n",
              "\n",
              "    .colab-df-convert {\n",
              "      background-color: #E8F0FE;\n",
              "      border: none;\n",
              "      border-radius: 50%;\n",
              "      cursor: pointer;\n",
              "      display: none;\n",
              "      fill: #1967D2;\n",
              "      height: 32px;\n",
              "      padding: 0 0 0 0;\n",
              "      width: 32px;\n",
              "    }\n",
              "\n",
              "    .colab-df-convert:hover {\n",
              "      background-color: #E2EBFA;\n",
              "      box-shadow: 0px 1px 2px rgba(60, 64, 67, 0.3), 0px 1px 3px 1px rgba(60, 64, 67, 0.15);\n",
              "      fill: #174EA6;\n",
              "    }\n",
              "\n",
              "    [theme=dark] .colab-df-convert {\n",
              "      background-color: #3B4455;\n",
              "      fill: #D2E3FC;\n",
              "    }\n",
              "\n",
              "    [theme=dark] .colab-df-convert:hover {\n",
              "      background-color: #434B5C;\n",
              "      box-shadow: 0px 1px 3px 1px rgba(0, 0, 0, 0.15);\n",
              "      filter: drop-shadow(0px 1px 2px rgba(0, 0, 0, 0.3));\n",
              "      fill: #FFFFFF;\n",
              "    }\n",
              "  </style>\n",
              "\n",
              "      <script>\n",
              "        const buttonEl =\n",
              "          document.querySelector('#df-ed387f40-09e0-4780-bf2c-5a83203a512f button.colab-df-convert');\n",
              "        buttonEl.style.display =\n",
              "          google.colab.kernel.accessAllowed ? 'block' : 'none';\n",
              "\n",
              "        async function convertToInteractive(key) {\n",
              "          const element = document.querySelector('#df-ed387f40-09e0-4780-bf2c-5a83203a512f');\n",
              "          const dataTable =\n",
              "            await google.colab.kernel.invokeFunction('convertToInteractive',\n",
              "                                                     [key], {});\n",
              "          if (!dataTable) return;\n",
              "\n",
              "          const docLinkHtml = 'Like what you see? Visit the ' +\n",
              "            '<a target=\"_blank\" href=https://colab.research.google.com/notebooks/data_table.ipynb>data table notebook</a>'\n",
              "            + ' to learn more about interactive tables.';\n",
              "          element.innerHTML = '';\n",
              "          dataTable['output_type'] = 'display_data';\n",
              "          await google.colab.output.renderOutput(dataTable, element);\n",
              "          const docLink = document.createElement('div');\n",
              "          docLink.innerHTML = docLinkHtml;\n",
              "          element.appendChild(docLink);\n",
              "        }\n",
              "      </script>\n",
              "    </div>\n",
              "  </div>\n",
              "  "
            ]
          },
          "metadata": {},
          "execution_count": 19
        }
      ],
      "source": [
        "train['Combined_Text'] = train['review'].map(lambda x: ' '.join([w for w in x])) #### text combined because countvectorizer takes care of preprocessing\n",
        "train"
      ]
    },
    {
      "cell_type": "code",
      "execution_count": null,
      "metadata": {
        "colab": {
          "base_uri": "https://localhost:8080/",
          "height": 520
        },
        "id": "A-9DkW5i_Bv2",
        "outputId": "7d6bd80f-9169-4223-a4ab-f0a463f5cae2"
      },
      "outputs": [
        {
          "output_type": "execute_result",
          "data": {
            "text/plain": [
              "                                                  review  sentiment  \\\n",
              "0      [one, reviewer, mentioned, watching, episode, ...          1   \n",
              "1      [wonderful, little, production, filming, techn...          1   \n",
              "2      [thought, wonderful, way, spend, time, hot, su...          1   \n",
              "3      [basically, there, family, little, boy, jake, ...          0   \n",
              "4      [petter, matteis, love, time, money, visually,...          1   \n",
              "...                                                  ...        ...   \n",
              "49995  [thought, movie, right, good, job, wasnt, crea...          1   \n",
              "49996  [bad, plot, bad, dialogue, bad, acting, idioti...          0   \n",
              "49997  [catholic, taught, parochial, elementary, scho...          0   \n",
              "49998  [going, disagree, previous, comment, side, mal...          0   \n",
              "49999  [one, expects, star, trek, movie, high, art, f...          0   \n",
              "\n",
              "                                           Combined_Text  \n",
              "0      one reviewer mentioned watching episode youll ...  \n",
              "1      wonderful little production filming technique ...  \n",
              "2      thought wonderful way spend time hot summer we...  \n",
              "3      basically there family little boy jake think t...  \n",
              "4      petter matteis love time money visually stunni...  \n",
              "...                                                  ...  \n",
              "49995  thought movie right good job wasnt creative or...  \n",
              "49996  bad plot bad dialogue bad acting idiotic direc...  \n",
              "49997  catholic taught parochial elementary school nu...  \n",
              "49998  going disagree previous comment side maltin on...  \n",
              "49999  one expects star trek movie high art fan expec...  \n",
              "\n",
              "[49582 rows x 3 columns]"
            ],
            "text/html": [
              "\n",
              "  <div id=\"df-a9d397ce-0e5a-4faf-8807-d743352bf74b\">\n",
              "    <div class=\"colab-df-container\">\n",
              "      <div>\n",
              "<style scoped>\n",
              "    .dataframe tbody tr th:only-of-type {\n",
              "        vertical-align: middle;\n",
              "    }\n",
              "\n",
              "    .dataframe tbody tr th {\n",
              "        vertical-align: top;\n",
              "    }\n",
              "\n",
              "    .dataframe thead th {\n",
              "        text-align: right;\n",
              "    }\n",
              "</style>\n",
              "<table border=\"1\" class=\"dataframe\">\n",
              "  <thead>\n",
              "    <tr style=\"text-align: right;\">\n",
              "      <th></th>\n",
              "      <th>review</th>\n",
              "      <th>sentiment</th>\n",
              "      <th>Combined_Text</th>\n",
              "    </tr>\n",
              "  </thead>\n",
              "  <tbody>\n",
              "    <tr>\n",
              "      <th>0</th>\n",
              "      <td>[one, reviewer, mentioned, watching, episode, ...</td>\n",
              "      <td>1</td>\n",
              "      <td>one reviewer mentioned watching episode youll ...</td>\n",
              "    </tr>\n",
              "    <tr>\n",
              "      <th>1</th>\n",
              "      <td>[wonderful, little, production, filming, techn...</td>\n",
              "      <td>1</td>\n",
              "      <td>wonderful little production filming technique ...</td>\n",
              "    </tr>\n",
              "    <tr>\n",
              "      <th>2</th>\n",
              "      <td>[thought, wonderful, way, spend, time, hot, su...</td>\n",
              "      <td>1</td>\n",
              "      <td>thought wonderful way spend time hot summer we...</td>\n",
              "    </tr>\n",
              "    <tr>\n",
              "      <th>3</th>\n",
              "      <td>[basically, there, family, little, boy, jake, ...</td>\n",
              "      <td>0</td>\n",
              "      <td>basically there family little boy jake think t...</td>\n",
              "    </tr>\n",
              "    <tr>\n",
              "      <th>4</th>\n",
              "      <td>[petter, matteis, love, time, money, visually,...</td>\n",
              "      <td>1</td>\n",
              "      <td>petter matteis love time money visually stunni...</td>\n",
              "    </tr>\n",
              "    <tr>\n",
              "      <th>...</th>\n",
              "      <td>...</td>\n",
              "      <td>...</td>\n",
              "      <td>...</td>\n",
              "    </tr>\n",
              "    <tr>\n",
              "      <th>49995</th>\n",
              "      <td>[thought, movie, right, good, job, wasnt, crea...</td>\n",
              "      <td>1</td>\n",
              "      <td>thought movie right good job wasnt creative or...</td>\n",
              "    </tr>\n",
              "    <tr>\n",
              "      <th>49996</th>\n",
              "      <td>[bad, plot, bad, dialogue, bad, acting, idioti...</td>\n",
              "      <td>0</td>\n",
              "      <td>bad plot bad dialogue bad acting idiotic direc...</td>\n",
              "    </tr>\n",
              "    <tr>\n",
              "      <th>49997</th>\n",
              "      <td>[catholic, taught, parochial, elementary, scho...</td>\n",
              "      <td>0</td>\n",
              "      <td>catholic taught parochial elementary school nu...</td>\n",
              "    </tr>\n",
              "    <tr>\n",
              "      <th>49998</th>\n",
              "      <td>[going, disagree, previous, comment, side, mal...</td>\n",
              "      <td>0</td>\n",
              "      <td>going disagree previous comment side maltin on...</td>\n",
              "    </tr>\n",
              "    <tr>\n",
              "      <th>49999</th>\n",
              "      <td>[one, expects, star, trek, movie, high, art, f...</td>\n",
              "      <td>0</td>\n",
              "      <td>one expects star trek movie high art fan expec...</td>\n",
              "    </tr>\n",
              "  </tbody>\n",
              "</table>\n",
              "<p>49582 rows × 3 columns</p>\n",
              "</div>\n",
              "      <button class=\"colab-df-convert\" onclick=\"convertToInteractive('df-a9d397ce-0e5a-4faf-8807-d743352bf74b')\"\n",
              "              title=\"Convert this dataframe to an interactive table.\"\n",
              "              style=\"display:none;\">\n",
              "        \n",
              "  <svg xmlns=\"http://www.w3.org/2000/svg\" height=\"24px\"viewBox=\"0 0 24 24\"\n",
              "       width=\"24px\">\n",
              "    <path d=\"M0 0h24v24H0V0z\" fill=\"none\"/>\n",
              "    <path d=\"M18.56 5.44l.94 2.06.94-2.06 2.06-.94-2.06-.94-.94-2.06-.94 2.06-2.06.94zm-11 1L8.5 8.5l.94-2.06 2.06-.94-2.06-.94L8.5 2.5l-.94 2.06-2.06.94zm10 10l.94 2.06.94-2.06 2.06-.94-2.06-.94-.94-2.06-.94 2.06-2.06.94z\"/><path d=\"M17.41 7.96l-1.37-1.37c-.4-.4-.92-.59-1.43-.59-.52 0-1.04.2-1.43.59L10.3 9.45l-7.72 7.72c-.78.78-.78 2.05 0 2.83L4 21.41c.39.39.9.59 1.41.59.51 0 1.02-.2 1.41-.59l7.78-7.78 2.81-2.81c.8-.78.8-2.07 0-2.86zM5.41 20L4 18.59l7.72-7.72 1.47 1.35L5.41 20z\"/>\n",
              "  </svg>\n",
              "      </button>\n",
              "      \n",
              "  <style>\n",
              "    .colab-df-container {\n",
              "      display:flex;\n",
              "      flex-wrap:wrap;\n",
              "      gap: 12px;\n",
              "    }\n",
              "\n",
              "    .colab-df-convert {\n",
              "      background-color: #E8F0FE;\n",
              "      border: none;\n",
              "      border-radius: 50%;\n",
              "      cursor: pointer;\n",
              "      display: none;\n",
              "      fill: #1967D2;\n",
              "      height: 32px;\n",
              "      padding: 0 0 0 0;\n",
              "      width: 32px;\n",
              "    }\n",
              "\n",
              "    .colab-df-convert:hover {\n",
              "      background-color: #E2EBFA;\n",
              "      box-shadow: 0px 1px 2px rgba(60, 64, 67, 0.3), 0px 1px 3px 1px rgba(60, 64, 67, 0.15);\n",
              "      fill: #174EA6;\n",
              "    }\n",
              "\n",
              "    [theme=dark] .colab-df-convert {\n",
              "      background-color: #3B4455;\n",
              "      fill: #D2E3FC;\n",
              "    }\n",
              "\n",
              "    [theme=dark] .colab-df-convert:hover {\n",
              "      background-color: #434B5C;\n",
              "      box-shadow: 0px 1px 3px 1px rgba(0, 0, 0, 0.15);\n",
              "      filter: drop-shadow(0px 1px 2px rgba(0, 0, 0, 0.3));\n",
              "      fill: #FFFFFF;\n",
              "    }\n",
              "  </style>\n",
              "\n",
              "      <script>\n",
              "        const buttonEl =\n",
              "          document.querySelector('#df-a9d397ce-0e5a-4faf-8807-d743352bf74b button.colab-df-convert');\n",
              "        buttonEl.style.display =\n",
              "          google.colab.kernel.accessAllowed ? 'block' : 'none';\n",
              "\n",
              "        async function convertToInteractive(key) {\n",
              "          const element = document.querySelector('#df-a9d397ce-0e5a-4faf-8807-d743352bf74b');\n",
              "          const dataTable =\n",
              "            await google.colab.kernel.invokeFunction('convertToInteractive',\n",
              "                                                     [key], {});\n",
              "          if (!dataTable) return;\n",
              "\n",
              "          const docLinkHtml = 'Like what you see? Visit the ' +\n",
              "            '<a target=\"_blank\" href=https://colab.research.google.com/notebooks/data_table.ipynb>data table notebook</a>'\n",
              "            + ' to learn more about interactive tables.';\n",
              "          element.innerHTML = '';\n",
              "          dataTable['output_type'] = 'display_data';\n",
              "          await google.colab.output.renderOutput(dataTable, element);\n",
              "          const docLink = document.createElement('div');\n",
              "          docLink.innerHTML = docLinkHtml;\n",
              "          element.appendChild(docLink);\n",
              "        }\n",
              "      </script>\n",
              "    </div>\n",
              "  </div>\n",
              "  "
            ]
          },
          "metadata": {},
          "execution_count": 20
        }
      ],
      "source": [
        "train['sentiment'] = train['sentiment'].map({'positive':1, 'negative':0})\n",
        "train"
      ]
    },
    {
      "cell_type": "code",
      "execution_count": null,
      "metadata": {
        "id": "_6vOLNgR4j9n"
      },
      "outputs": [],
      "source": []
    },
    {
      "cell_type": "code",
      "execution_count": null,
      "metadata": {
        "colab": {
          "base_uri": "https://localhost:8080/"
        },
        "id": "zktY98Gp4j9n",
        "outputId": "c484dc41-3027-4f1e-b499-964be8ea2c3d"
      },
      "outputs": [
        {
          "output_type": "execute_result",
          "data": {
            "text/plain": [
              "1197     warning spoilerspoilerspoilerthis written film...\n",
              "5808     would rated higher wasnt seriously uneven iris...\n",
              "6244     possibly stupidest tasteless violent slapstick...\n",
              "4747     steven buddy remember said try find path least...\n",
              "35116    marathon interesting premise excellent ambient...\n",
              "                               ...                        \n",
              "2851     david cronenberg much like colleague david lyn...\n",
              "15152    wonder actor acted movie annette bening really...\n",
              "6292     saw mystery science theater even show couldnt ...\n",
              "49090    movie start quite gruesomely female bound psyc...\n",
              "49659    saw beyond rangoon time good first watched saw...\n",
              "Name: Combined_Text, Length: 14875, dtype: object"
            ]
          },
          "metadata": {},
          "execution_count": 22
        }
      ],
      "source": [
        "Xtest"
      ]
    },
    {
      "cell_type": "markdown",
      "source": [
        "Word2vec Model training on review data "
      ],
      "metadata": {
        "id": "3uXHYyEsAtY6"
      }
    },
    {
      "cell_type": "code",
      "execution_count": null,
      "metadata": {
        "id": "77_vjRPD4j9z"
      },
      "outputs": [],
      "source": [
        "import gensim\n",
        "from gensim.utils import simple_preprocess\n",
        "train['gensim_Text'] = train['Combined_Text'].apply(lambda x : simple_preprocess(x))"
      ]
    },
    {
      "cell_type": "code",
      "source": [
        "script = train['gensim_Text'].values.tolist()"
      ],
      "metadata": {
        "id": "Y66R0dbhd5G9"
      },
      "execution_count": null,
      "outputs": []
    },
    {
      "cell_type": "code",
      "source": [
        "len(script)"
      ],
      "metadata": {
        "colab": {
          "base_uri": "https://localhost:8080/"
        },
        "id": "BM0Bl4vZf60W",
        "outputId": "ecb51bf5-b026-4cde-e655-ffbeed351efa"
      },
      "execution_count": null,
      "outputs": [
        {
          "output_type": "execute_result",
          "data": {
            "text/plain": [
              "49582"
            ]
          },
          "metadata": {},
          "execution_count": 25
        }
      ]
    },
    {
      "cell_type": "code",
      "source": [
        "# !pip install gensim==4.2.0"
      ],
      "metadata": {
        "id": "RiaTLE2ngaax"
      },
      "execution_count": null,
      "outputs": []
    },
    {
      "cell_type": "code",
      "source": [
        "from gensim.models import Word2Vec\n",
        "model = Word2Vec(sentences=script, vector_size=100, window=5, min_count=1, workers=4)\n",
        "\n",
        "\n",
        "model.build_vocab(script)"
      ],
      "metadata": {
        "colab": {
          "base_uri": "https://localhost:8080/"
        },
        "id": "dhxUd2PV3Q1z",
        "outputId": "bbbcda6c-1f90-45d5-d5e3-1089551390eb"
      },
      "execution_count": null,
      "outputs": [
        {
          "output_type": "stream",
          "name": "stderr",
          "text": [
            "WARNING:gensim.models.keyedvectors:sorting after vectors have been allocated is expensive & error-prone\n"
          ]
        }
      ]
    },
    {
      "cell_type": "code",
      "source": [
        "model.corpus_count"
      ],
      "metadata": {
        "id": "de5OapZ14AAI",
        "colab": {
          "base_uri": "https://localhost:8080/"
        },
        "outputId": "27f0bff7-1baa-48a9-e63b-5d683a95a819"
      },
      "execution_count": null,
      "outputs": [
        {
          "output_type": "execute_result",
          "data": {
            "text/plain": [
              "49582"
            ]
          },
          "metadata": {},
          "execution_count": 28
        }
      ]
    },
    {
      "cell_type": "code",
      "source": [
        "model.train(script, total_examples=model.corpus_count, epochs=model.epochs)"
      ],
      "metadata": {
        "colab": {
          "base_uri": "https://localhost:8080/"
        },
        "id": "h_VXLrg84D8i",
        "outputId": "3bdf496c-8c81-487e-cad6-8e388fcd8fc5"
      },
      "execution_count": null,
      "outputs": [
        {
          "output_type": "stream",
          "name": "stderr",
          "text": [
            "WARNING:gensim.models.word2vec:Effective 'alpha' higher than previous training cycles\n"
          ]
        },
        {
          "output_type": "execute_result",
          "data": {
            "text/plain": [
              "(27613143, 28958380)"
            ]
          },
          "metadata": {},
          "execution_count": 32
        }
      ]
    },
    {
      "cell_type": "code",
      "source": [
        "model.wv.most_similar('alien')"
      ],
      "metadata": {
        "id": "TpjJyP675csh",
        "colab": {
          "base_uri": "https://localhost:8080/"
        },
        "outputId": "58b0b9e4-d843-4e29-aafb-bd342ce3541d"
      },
      "execution_count": null,
      "outputs": [
        {
          "output_type": "execute_result",
          "data": {
            "text/plain": [
              "[('predator', 0.7817649841308594),\n",
              " ('creature', 0.702346920967102),\n",
              " ('monster', 0.6044947504997253),\n",
              " ('shark', 0.5943044424057007),\n",
              " ('specie', 0.5850952863693237),\n",
              " ('tittas', 0.5661386251449585),\n",
              " ('planet', 0.562085747718811),\n",
              " ('earth', 0.5619245767593384),\n",
              " ('giant', 0.5590095520019531),\n",
              " ('mutant', 0.5569994449615479)]"
            ]
          },
          "metadata": {},
          "execution_count": 41
        }
      ]
    },
    {
      "cell_type": "code",
      "source": [
        "np.mean(model.wv[['lashed','alien']],axis = 0)"
      ],
      "metadata": {
        "id": "1RnCTfLmsc5u"
      },
      "execution_count": null,
      "outputs": []
    },
    {
      "cell_type": "code",
      "source": [
        "def doc_vector(doc):\n",
        "  doc = [word for word in doc if word in model.wv.index_to_key] \n",
        "  return np.mean(model.wv[doc],axis = 0)\n",
        "train['d2v'] = train['gensim_Text'].apply(lambda x: doc_vector(x))"
      ],
      "metadata": {
        "id": "ksPpUZnnlDUu"
      },
      "execution_count": null,
      "outputs": []
    },
    {
      "cell_type": "code",
      "source": [
        "train['d2v'][0]"
      ],
      "metadata": {
        "colab": {
          "base_uri": "https://localhost:8080/"
        },
        "id": "-m4L0xY-ou39",
        "outputId": "ccba7716-b4eb-415a-8e54-8ad0eedb863b"
      },
      "execution_count": null,
      "outputs": [
        {
          "output_type": "execute_result",
          "data": {
            "text/plain": [
              "array([ 0.15572765,  0.08079395, -0.76605874, -0.34554645,  0.7363185 ,\n",
              "        0.2888139 ,  0.6118555 , -0.45233685, -1.2292984 ,  0.42601848,\n",
              "       -0.13912868, -0.31538603, -0.22325718, -0.8490054 ,  0.37838835,\n",
              "       -0.45280233,  0.36142194, -0.47845155, -0.45753708, -0.9809915 ,\n",
              "       -0.07092075,  0.07239356, -0.21591008,  0.02827836, -0.3540662 ,\n",
              "       -0.03493544, -0.20436957, -0.45264187,  0.6238584 ,  0.96437013,\n",
              "        0.39003843, -0.8748266 ,  1.4098628 , -0.71799266,  0.79526967,\n",
              "        0.71134645,  0.4598244 ,  0.40919274,  0.3075021 , -0.1674943 ,\n",
              "        0.27951676, -1.0147178 ,  0.24108152,  0.84754497,  0.11251678,\n",
              "       -0.8262044 ,  0.46228504, -0.15071659,  0.16707328, -0.20095047,\n",
              "        0.10524895, -0.0152011 , -0.3726307 , -0.20965044,  0.4831884 ,\n",
              "        0.38914526,  0.12781383,  0.16614024,  0.42958337, -0.09014533,\n",
              "       -0.12974799, -0.54598707, -0.10241576,  0.5347044 ,  0.16273573,\n",
              "       -0.02234321,  0.13408151,  1.1644573 , -0.16588809,  0.08803954,\n",
              "        0.07788026, -0.11933448,  0.62348026,  0.9244401 ,  0.2652181 ,\n",
              "        0.04621469,  0.04893124, -0.34723666, -0.4310646 , -0.22541967,\n",
              "        0.31162566,  0.58329153, -0.6770106 ,  0.6396297 , -0.17710528,\n",
              "       -0.5537273 ,  0.1296412 , -0.7149924 ,  0.472293  , -0.27686834,\n",
              "       -0.02649587, -0.21700612, -0.25556013,  0.19500102,  0.8206047 ,\n",
              "       -0.5050961 ,  0.3867766 , -0.09763493,  0.74212146, -0.57944626],\n",
              "      dtype=float32)"
            ]
          },
          "metadata": {},
          "execution_count": 53
        }
      ]
    },
    {
      "cell_type": "markdown",
      "source": [
        "Document vectorization is a very time consuming task, so i pickle saved the data frame of doc vectors "
      ],
      "metadata": {
        "id": "tTKHKRgbA9xY"
      }
    },
    {
      "cell_type": "code",
      "source": [
        "# train.to_pickle(\"/content/drive/MyDrive/imdb_movie_review/dummy.pkl\")\n",
        "\n"
      ],
      "metadata": {
        "id": "0HWXTQ2u5_Yf"
      },
      "execution_count": null,
      "outputs": []
    },
    {
      "cell_type": "code",
      "source": [
        "unpickled_df = pd.read_pickle(\"/content/drive/MyDrive/imdb_movie_review/dummy.pkl\")"
      ],
      "metadata": {
        "id": "WATdfQXY6dRJ"
      },
      "execution_count": null,
      "outputs": []
    },
    {
      "cell_type": "code",
      "source": [
        "x = []\n",
        "for ele in unpickled_df.d2v.values:\n",
        "  x.append(ele)\n",
        "  "
      ],
      "metadata": {
        "id": "J1eqTXaG6rOd"
      },
      "execution_count": null,
      "outputs": []
    },
    {
      "cell_type": "code",
      "source": [
        "x = np.array(x)\n",
        "y = np.array(unpickled_df['sentiment'].values)"
      ],
      "metadata": {
        "id": "OfxA9yHM7CYT"
      },
      "execution_count": null,
      "outputs": []
    },
    {
      "cell_type": "code",
      "source": [
        "y.shape"
      ],
      "metadata": {
        "colab": {
          "base_uri": "https://localhost:8080/"
        },
        "id": "DvjIyp9ncHvJ",
        "outputId": "c5a91c0e-3128-4e10-93d0-a7ea580e5024"
      },
      "execution_count": null,
      "outputs": [
        {
          "output_type": "execute_result",
          "data": {
            "text/plain": [
              "(49582,)"
            ]
          },
          "metadata": {},
          "execution_count": 56
        }
      ]
    },
    {
      "cell_type": "code",
      "source": [
        "Xtrain,Xtest,ytrain,ytest = train_test_split(x,y,test_size = 0.3,random_state = 24)"
      ],
      "metadata": {
        "id": "n15L0hfSs7Sn"
      },
      "execution_count": null,
      "outputs": []
    },
    {
      "cell_type": "code",
      "source": [
        "Xtrain.shape"
      ],
      "metadata": {
        "colab": {
          "base_uri": "https://localhost:8080/"
        },
        "id": "8vbHpRfstAdh",
        "outputId": "0179ecb7-c442-4d9d-fb5e-f79c8f9c0b5f"
      },
      "execution_count": null,
      "outputs": [
        {
          "output_type": "execute_result",
          "data": {
            "text/plain": [
              "(34707, 100)"
            ]
          },
          "metadata": {},
          "execution_count": 58
        }
      ]
    },
    {
      "cell_type": "markdown",
      "source": [
        "Logistic regression, Random forest and ANN"
      ],
      "metadata": {
        "id": "O5etEk09BUW8"
      }
    },
    {
      "cell_type": "code",
      "source": [
        "lr = LogisticRegression()\n",
        "lr.fit(Xtrain,ytrain)\n",
        "pre = lr.predict(Xtest)\n",
        "acc =accuracy_score(ytest,pre)\n",
        "print(acc*100)"
      ],
      "metadata": {
        "colab": {
          "base_uri": "https://localhost:8080/"
        },
        "id": "kKbC4NLG7iOV",
        "outputId": "4a7e1074-8d98-4134-cc9b-abfce9eef0a3"
      },
      "execution_count": null,
      "outputs": [
        {
          "output_type": "stream",
          "name": "stdout",
          "text": [
            "86.10420168067226\n"
          ]
        }
      ]
    },
    {
      "cell_type": "code",
      "source": [
        "rf = RandomForestClassifier()\n",
        "rf.fit(Xtrain,ytrain)\n",
        "pre = rf.predict(Xtest)\n",
        "acc =accuracy_score(ytest,pre)\n",
        "print(acc*100)"
      ],
      "metadata": {
        "colab": {
          "base_uri": "https://localhost:8080/"
        },
        "id": "Ngvna15MerPi",
        "outputId": "b85106b5-8cf7-459d-d208-f50eed57c6bf"
      },
      "execution_count": null,
      "outputs": [
        {
          "output_type": "stream",
          "name": "stdout",
          "text": [
            "83.66386554621849\n"
          ]
        }
      ]
    },
    {
      "cell_type": "code",
      "source": [
        "model = Sequential()\n",
        "model.add(Dense(90,input_shape = (Xtrain.shape[1],),activation='relu'))\n",
        "model.add(Dense(80,activation='relu'))\n",
        "model.add(Dense(40,activation='relu'))\n",
        "model.add(Dense(20,activation='relu'))\n",
        "model.add(Dense(1,activation='sigmoid'))\n",
        "model.compile(loss = 'binary_crossentropy',optimizer = 'adam',metrics =['accuracy'])\n",
        "history = model.fit(Xtrain,ytrain,epochs=15, validation_data = (Xtest, ytest))"
      ],
      "metadata": {
        "colab": {
          "base_uri": "https://localhost:8080/"
        },
        "id": "YOeQ8Qz9e5yM",
        "outputId": "a5ecfa89-9b1f-4127-bd56-6575231d0536"
      },
      "execution_count": null,
      "outputs": [
        {
          "output_type": "stream",
          "name": "stdout",
          "text": [
            "Epoch 1/15\n",
            "1085/1085 [==============================] - 4s 3ms/step - loss: 0.3605 - accuracy: 0.8403 - val_loss: 0.3385 - val_accuracy: 0.8577\n",
            "Epoch 2/15\n",
            "1085/1085 [==============================] - 3s 3ms/step - loss: 0.3342 - accuracy: 0.8557 - val_loss: 0.3320 - val_accuracy: 0.8581\n",
            "Epoch 3/15\n",
            "1085/1085 [==============================] - 3s 3ms/step - loss: 0.3273 - accuracy: 0.8593 - val_loss: 0.3299 - val_accuracy: 0.8609\n",
            "Epoch 4/15\n",
            "1085/1085 [==============================] - 3s 3ms/step - loss: 0.3207 - accuracy: 0.8632 - val_loss: 0.3254 - val_accuracy: 0.8625\n",
            "Epoch 5/15\n",
            "1085/1085 [==============================] - 3s 3ms/step - loss: 0.3147 - accuracy: 0.8667 - val_loss: 0.3239 - val_accuracy: 0.8638\n",
            "Epoch 6/15\n",
            "1085/1085 [==============================] - 3s 3ms/step - loss: 0.3113 - accuracy: 0.8683 - val_loss: 0.3217 - val_accuracy: 0.8637\n",
            "Epoch 7/15\n",
            "1085/1085 [==============================] - 3s 3ms/step - loss: 0.3065 - accuracy: 0.8690 - val_loss: 0.3305 - val_accuracy: 0.8569\n",
            "Epoch 8/15\n",
            "1085/1085 [==============================] - 3s 3ms/step - loss: 0.3028 - accuracy: 0.8706 - val_loss: 0.3241 - val_accuracy: 0.8621\n",
            "Epoch 9/15\n",
            "1085/1085 [==============================] - 3s 3ms/step - loss: 0.2971 - accuracy: 0.8724 - val_loss: 0.3324 - val_accuracy: 0.8518\n",
            "Epoch 10/15\n",
            "1085/1085 [==============================] - 3s 3ms/step - loss: 0.2949 - accuracy: 0.8754 - val_loss: 0.3265 - val_accuracy: 0.8632\n",
            "Epoch 11/15\n",
            "1085/1085 [==============================] - 3s 3ms/step - loss: 0.2883 - accuracy: 0.8790 - val_loss: 0.3275 - val_accuracy: 0.8629\n",
            "Epoch 12/15\n",
            "1085/1085 [==============================] - 3s 3ms/step - loss: 0.2853 - accuracy: 0.8789 - val_loss: 0.3281 - val_accuracy: 0.8625\n",
            "Epoch 13/15\n",
            "1085/1085 [==============================] - 4s 3ms/step - loss: 0.2797 - accuracy: 0.8819 - val_loss: 0.3239 - val_accuracy: 0.8623\n",
            "Epoch 14/15\n",
            "1085/1085 [==============================] - 3s 3ms/step - loss: 0.2746 - accuracy: 0.8833 - val_loss: 0.3392 - val_accuracy: 0.8600\n",
            "Epoch 15/15\n",
            "1085/1085 [==============================] - 3s 3ms/step - loss: 0.2691 - accuracy: 0.8867 - val_loss: 0.3512 - val_accuracy: 0.8558\n"
          ]
        }
      ]
    },
    {
      "cell_type": "code",
      "source": [
        "import matplotlib.pyplot as plt\n",
        "plt.plot(history.history['accuracy'])\n",
        "plt.plot(history.history['val_accuracy'])\n",
        "plt.title('model accuracy')\n",
        "plt.ylabel('accuracy')\n",
        "plt.xlabel('epoch')\n",
        "plt.legend(['train', 'test'], loc='upper left')\n",
        "plt.show()\n",
        "# summarize history for loss\n",
        "plt.plot(history.history['loss'])\n",
        "plt.plot(history.history['val_loss'])\n",
        "plt.title('model loss')\n",
        "plt.ylabel('loss')\n",
        "plt.xlabel('epoch')\n",
        "plt.legend(['train', 'test'], loc='upper left')\n",
        "plt.show()"
      ],
      "metadata": {
        "colab": {
          "base_uri": "https://localhost:8080/",
          "height": 573
        },
        "id": "iBTeCudMgCLb",
        "outputId": "0d48af8c-c257-4961-cf10-db7e7481e66f"
      },
      "execution_count": null,
      "outputs": [
        {
          "output_type": "display_data",
          "data": {
            "text/plain": [
              "<Figure size 432x288 with 1 Axes>"
            ],
            "image/png": "[encoded data removed]"
          },
          "metadata": {
            "needs_background": "light"
          }
        },
        {
          "output_type": "display_data",
          "data": {
            "text/plain": [
              "<Figure size 432x288 with 1 Axes>"
            ],
            "image/png": "[encoded data removed]"
          },
          "metadata": {
            "needs_background": "light"
          }
        }
      ]
    },
    {
      "cell_type": "markdown",
      "source": [
        "with 100 dimensional embeddings we achieved only 86% accuracy, we can increase window size and dimension of vectors."
      ],
      "metadata": {
        "id": "WLSkbJWZBd7g"
      }
    },
    {
      "cell_type": "code",
      "source": [],
      "metadata": {
        "id": "itpVDSC2fvBI"
      },
      "execution_count": null,
      "outputs": []
    }
  ],
  "metadata": {
    "colab": {
      "provenance": []
    },
    "kernelspec": {
      "display_name": "Python 3 (ipykernel)",
      "language": "python",
      "name": "python3"
    },
    "language_info": {
      "codemirror_mode": {
        "name": "ipython",
        "version": 3
      },
      "file_extension": ".py",
      "mimetype": "text/x-python",
      "name": "python",
      "nbconvert_exporter": "python",
      "pygments_lexer": "ipython3",
      "version": "3.9.7"
    }
  },
  "nbformat": 4,
  "nbformat_minor": 0
}