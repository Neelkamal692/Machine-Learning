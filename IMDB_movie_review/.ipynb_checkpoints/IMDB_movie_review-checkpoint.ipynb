{
 "cells": [
  {
   "cell_type": "markdown",
   "metadata": {},
   "source": [
    "## importing required Libraries"
   ]
  },
  {
   "cell_type": "code",
   "execution_count": 94,
   "metadata": {},
   "outputs": [],
   "source": [
    "from string import punctuation\n",
    "from os import listdir\n",
    "from collections import Counter\n",
    "from nltk.corpus import stopwords\n",
    "from sklearn.linear_model import LogisticRegression\n",
    "from sklearn.metrics import accuracy_score\n",
    "import pandas as pd\n",
    "import numpy as np\n",
    "import string\n",
    "import re\n"
   ]
  },
  {
   "cell_type": "code",
   "execution_count": 97,
   "metadata": {},
   "outputs": [],
   "source": [
    "from collections import Counter\n",
    "vocab = Counter()"
   ]
  },
  {
   "cell_type": "code",
   "execution_count": 98,
   "metadata": {},
   "outputs": [],
   "source": []
  },
  {
   "cell_type": "code",
   "execution_count": 99,
   "metadata": {},
   "outputs": [],
   "source": [
    "stop_words = set(stopwords.words('english'))"
   ]
  },
  {
   "cell_type": "code",
   "execution_count": 100,
   "metadata": {},
   "outputs": [],
   "source": [
    "dir1 = 'review_polarity/txt_sentoken/neg'\n",
    "dir2 = 'review_polarity/txt_sentoken/pos'"
   ]
  },
  {
   "cell_type": "code",
   "execution_count": 101,
   "metadata": {},
   "outputs": [],
   "source": [
    "text = []\n",
    "tar =[]\n",
    "def open_doc(file_name,target):\n",
    "    file = open(file_name)\n",
    "    data = file.read()\n",
    "    file.close()\n",
    "    text.append(data)\n",
    "    tar.append(target)"
   ]
  },
  {
   "cell_type": "code",
   "execution_count": 102,
   "metadata": {},
   "outputs": [],
   "source": [
    "count=0\n",
    "for file_name in listdir(dir1):\n",
    "    if not file_name.endswith('.txt'):\n",
    "        continue\n",
    "    open_doc(dir1+'/'+file_name,0)\n",
    "    count+=1\n",
    "    \n",
    "    \n",
    "for file_name in listdir(dir2):\n",
    "    if not file_name.endswith('.txt'):\n",
    "        continue\n",
    "    open_doc(dir2+'/'+file_name,1)\n",
    "    count+=1"
   ]
  },
  {
   "cell_type": "code",
   "execution_count": 103,
   "metadata": {},
   "outputs": [
    {
     "data": {
      "text/plain": [
       "2000"
      ]
     },
     "execution_count": 103,
     "metadata": {},
     "output_type": "execute_result"
    }
   ],
   "source": [
    "count\n"
   ]
  },
  {
   "cell_type": "code",
   "execution_count": 104,
   "metadata": {},
   "outputs": [],
   "source": [
    "d ={'Text':text,'Target':tar}"
   ]
  },
  {
   "cell_type": "code",
   "execution_count": 105,
   "metadata": {},
   "outputs": [],
   "source": [
    "train = pd.DataFrame(data=d)"
   ]
  },
  {
   "cell_type": "code",
   "execution_count": 106,
   "metadata": {},
   "outputs": [],
   "source": [
    "train['Text']=train['Text'].map(lambda x : x.split())"
   ]
  },
  {
   "cell_type": "code",
   "execution_count": 107,
   "metadata": {},
   "outputs": [],
   "source": [
    "train['Text'] = train['Text'].map(lambda x:  [word for word in x if not word.startswith(('http','@'))])\n",
    "re_punc = re.compile('[%s]'%re.escape(string.punctuation))\n",
    "train['Text'] = train['Text'].map(lambda x:  [re_punc.sub('',w) for w in x])\n",
    "train['Text'] = train['Text'].map(lambda x: [word for word in x if word.isalpha()])\n",
    "train['Text'] = train['Text'].map(lambda x: [w.lower() for w in x])    \n",
    "train['Text'] = train['Text'].map(lambda x:  [w for w in x if not w in stop_words ]) \n",
    "train['Text'] = train['Text'].map(lambda x: [w for w in x if len(w)>1])\n",
    "#train['Text'] = train['Text'].map(lambda x: [lemmatizer.lemmatize(w) for w in x ]) #### Sometimes lemmatization is not just a good idea"
   ]
  },
  {
   "cell_type": "code",
   "execution_count": 108,
   "metadata": {},
   "outputs": [
    {
     "data": {
      "text/plain": [
       "0       [couple, criminals, mario, van, peebles, loret...\n",
       "1       [pathetic, attempt, improving, shakespeare, cl...\n",
       "2       [really, two, decades, since, walter, matthau,...\n",
       "3       [animal, marginally, inspired, comedy, manages...\n",
       "4       [tommy, lee, jones, chases, innocent, victim, ...\n",
       "                              ...                        \n",
       "1995    [offended, theres, something, mary, tread, wat...\n",
       "1996    [usually, blockbuster, comes, loaded, effects,...\n",
       "1997    [historical, epic, genre, almost, banished, ho...\n",
       "1998    [everyones, heard, movie, specifically, scene,...\n",
       "1999    [first, heard, disneys, next, animated, featur...\n",
       "Name: Text, Length: 2000, dtype: object"
      ]
     },
     "execution_count": 108,
     "metadata": {},
     "output_type": "execute_result"
    }
   ],
   "source": [
    "train['Text']"
   ]
  },
  {
   "cell_type": "code",
   "execution_count": 109,
   "metadata": {},
   "outputs": [],
   "source": [
    "#from sklearn.feature_extraction.text import TfidfVectorizer"
   ]
  },
  {
   "cell_type": "code",
   "execution_count": 110,
   "metadata": {},
   "outputs": [],
   "source": [
    "#vectorizer = TfidfVectorizer()"
   ]
  },
  {
   "cell_type": "code",
   "execution_count": 111,
   "metadata": {},
   "outputs": [],
   "source": [
    "#vectorizer.fit_transform(text)"
   ]
  },
  {
   "cell_type": "code",
   "execution_count": 112,
   "metadata": {},
   "outputs": [],
   "source": [
    "#len(vectorizer.get_feature_names())"
   ]
  },
  {
   "cell_type": "code",
   "execution_count": 113,
   "metadata": {},
   "outputs": [],
   "source": [
    "for line in train['Text']:\n",
    "    vocab.update(line)\n",
    "\n"
   ]
  },
  {
   "cell_type": "code",
   "execution_count": null,
   "metadata": {},
   "outputs": [],
   "source": []
  },
  {
   "cell_type": "code",
   "execution_count": 114,
   "metadata": {},
   "outputs": [
    {
     "data": {
      "text/plain": [
       "46556"
      ]
     },
     "execution_count": 114,
     "metadata": {},
     "output_type": "execute_result"
    }
   ],
   "source": [
    "len(vocab)"
   ]
  },
  {
   "cell_type": "code",
   "execution_count": 115,
   "metadata": {},
   "outputs": [],
   "source": [
    "\n",
    "\n",
    "new_voc = vocab.copy()\n",
    "for key,val in vocab.items():\n",
    "    if val<5:\n",
    "        del new_voc[key]\n",
    "\n"
   ]
  },
  {
   "cell_type": "code",
   "execution_count": 116,
   "metadata": {},
   "outputs": [],
   "source": [
    "o = list(new_voc)"
   ]
  },
  {
   "cell_type": "code",
   "execution_count": 117,
   "metadata": {},
   "outputs": [],
   "source": [
    "count =0\n",
    "arr = []\n",
    "for line in train['Text']:\n",
    "    vec = np.zeros(len(new_voc))\n",
    "    for word in line:\n",
    "        \n",
    "        if new_voc[word]!=0:\n",
    "            vec[o.index(word)]=(line.count(word)/len(line))*np.log(len(train)/new_voc[word])\n",
    "    arr.append(vec)\n",
    "    count+=1\n",
    "        #df.append(list(vec))\n",
    "df  = np.array(arr)"
   ]
  },
  {
   "cell_type": "code",
   "execution_count": 118,
   "metadata": {},
   "outputs": [
    {
     "data": {
      "text/plain": [
       "(2000, 14802)"
      ]
     },
     "execution_count": 118,
     "metadata": {},
     "output_type": "execute_result"
    }
   ],
   "source": [
    "df.shape"
   ]
  },
  {
   "cell_type": "code",
   "execution_count": 119,
   "metadata": {},
   "outputs": [],
   "source": [
    "from sklearn.model_selection import train_test_split"
   ]
  },
  {
   "cell_type": "code",
   "execution_count": 120,
   "metadata": {},
   "outputs": [],
   "source": [
    "Xtrain,Xtest,ytrain,ytest = train_test_split(df,train['Target'],test_size = 0.3,random_state = 1)"
   ]
  },
  {
   "cell_type": "code",
   "execution_count": 121,
   "metadata": {},
   "outputs": [
    {
     "data": {
      "text/plain": [
       "(1400,)"
      ]
     },
     "execution_count": 121,
     "metadata": {},
     "output_type": "execute_result"
    }
   ],
   "source": [
    "ytrain.shape"
   ]
  },
  {
   "cell_type": "code",
   "execution_count": 122,
   "metadata": {},
   "outputs": [
    {
     "name": "stderr",
     "output_type": "stream",
     "text": [
      "/home/neel/.local/lib/python3.6/site-packages/sklearn/linear_model/logistic.py:432: FutureWarning: Default solver will be changed to 'lbfgs' in 0.22. Specify a solver to silence this warning.\n",
      "  FutureWarning)\n"
     ]
    },
    {
     "name": "stdout",
     "output_type": "stream",
     "text": [
      "80.16666666666666\n"
     ]
    }
   ],
   "source": [
    "###### Simple Logistic Regression #######\n",
    "lr = LogisticRegression()\n",
    "lr.fit(Xtrain,ytrain)\n",
    "pre = lr.predict(Xtest)\n",
    "acc =accuracy_score(ytest,pre)\n",
    "print(acc*100)"
   ]
  },
  {
   "cell_type": "code",
   "execution_count": 123,
   "metadata": {},
   "outputs": [],
   "source": [
    "model = Sequential()\n",
    "model.add(Dense(64,input_shape = (Xtrain.shape[1],),activation='relu'))\n",
    "model.add(Dense(64,activation='relu'))\n",
    "# model.add(Dense(32,activation='relu'))\n",
    "model.add(Dense(1,activation='sigmoid'))\n",
    "\n"
   ]
  },
  {
   "cell_type": "code",
   "execution_count": 124,
   "metadata": {},
   "outputs": [],
   "source": [
    "model.compile(loss = 'binary_crossentropy',optimizer = 'adam',metrics =['accuracy'])"
   ]
  },
  {
   "cell_type": "code",
   "execution_count": 125,
   "metadata": {},
   "outputs": [
    {
     "name": "stdout",
     "output_type": "stream",
     "text": [
      "Epoch 1/10\n",
      "1400/1400 [==============================] - 6s 5ms/step - loss: 0.6887 - accuracy: 0.5993\n",
      "Epoch 2/10\n",
      "1400/1400 [==============================] - 4s 3ms/step - loss: 0.6021 - accuracy: 0.9371\n",
      "Epoch 3/10\n",
      "1400/1400 [==============================] - 4s 3ms/step - loss: 0.3342 - accuracy: 0.9850\n",
      "Epoch 4/10\n",
      "1400/1400 [==============================] - 4s 3ms/step - loss: 0.0979 - accuracy: 0.9957\n",
      "Epoch 5/10\n",
      "1400/1400 [==============================] - 4s 3ms/step - loss: 0.0284 - accuracy: 1.0000\n",
      "Epoch 6/10\n",
      "1400/1400 [==============================] - 4s 3ms/step - loss: 0.0124 - accuracy: 1.0000\n",
      "Epoch 7/10\n",
      "1400/1400 [==============================] - 4s 3ms/step - loss: 0.0069 - accuracy: 1.0000\n",
      "Epoch 8/10\n",
      "1400/1400 [==============================] - 4s 3ms/step - loss: 0.0044 - accuracy: 1.0000: 0s - loss: 0.0\n",
      "Epoch 9/10\n",
      "1400/1400 [==============================] - 4s 3ms/step - loss: 0.0029 - accuracy: 1.0000\n",
      "Epoch 10/10\n",
      "1400/1400 [==============================] - 4s 3ms/step - loss: 0.0021 - accuracy: 1.0000\n"
     ]
    },
    {
     "data": {
      "text/plain": [
       "<keras.callbacks.callbacks.History at 0x7f28e6230be0>"
      ]
     },
     "execution_count": 125,
     "metadata": {},
     "output_type": "execute_result"
    }
   ],
   "source": [
    "model.fit(Xtrain,ytrain,epochs=10)"
   ]
  },
  {
   "cell_type": "code",
   "execution_count": 126,
   "metadata": {},
   "outputs": [
    {
     "name": "stdout",
     "output_type": "stream",
     "text": [
      "600/600 [==============================] - 0s 726us/step\n",
      " Test Accuracy: 85.000002 \n"
     ]
    }
   ],
   "source": [
    "loss, acc = model.evaluate(Xtest, ytest, verbose=1)\n",
    "print( ' Test Accuracy: %f ' % (acc*100))"
   ]
  },
  {
   "cell_type": "code",
   "execution_count": null,
   "metadata": {},
   "outputs": [],
   "source": []
  }
 ],
 "metadata": {
  "kernelspec": {
   "display_name": "Python 3 (ipykernel)",
   "language": "python",
   "name": "python3"
  },
  "language_info": {
   "codemirror_mode": {
    "name": "ipython",
    "version": 3
   },
   "file_extension": ".py",
   "mimetype": "text/x-python",
   "name": "python",
   "nbconvert_exporter": "python",
   "pygments_lexer": "ipython3",
   "version": "3.9.7"
  }
 },
 "nbformat": 4,
 "nbformat_minor": 2
}
